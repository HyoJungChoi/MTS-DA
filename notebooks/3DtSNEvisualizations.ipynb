{
 "cells": [
  {
   "cell_type": "code",
   "execution_count": 1,
   "metadata": {
    "ExecuteTime": {
     "end_time": "2019-09-11T14:12:43.495451Z",
     "start_time": "2019-09-11T14:12:38.620059Z"
    }
   },
   "outputs": [],
   "source": [
    "from sktime.utils.load_data import load_from_tsfile_to_dataframe\n",
    "import time\n",
    "import pickle\n",
    "import numpy as np\n",
    "from tslearn.metrics import gamma_soft_dtw\n",
    "from tslearn.metrics import cdist_soft_dtw_normalized\n",
    "from sklearn.manifold import TSNE\n",
    "import matplotlib.pyplot as plt\n",
    "import pandas as pd\n",
    "import plotly.express as px"
   ]
  },
  {
   "cell_type": "code",
   "execution_count": 5,
   "metadata": {
    "ExecuteTime": {
     "end_time": "2019-09-11T14:12:43.548402Z",
     "start_time": "2019-09-11T14:12:43.544408Z"
    }
   },
   "outputs": [],
   "source": [
    "def ts_df_to_array(ts_df, index):\n",
    "    return np.array([ts_df.iloc[index].iloc[i].values for i in range(len(ts_df.iloc[0]))])"
   ]
  },
  {
   "cell_type": "code",
   "execution_count": 6,
   "metadata": {
    "ExecuteTime": {
     "end_time": "2019-09-11T14:12:43.561417Z",
     "start_time": "2019-09-11T14:12:43.556400Z"
    }
   },
   "outputs": [],
   "source": [
    "def ts_df_to_arrays(ts_df, swapaxes=False):\n",
    "    arrays=[]\n",
    "    for index in range(len(ts_df)):\n",
    "        array = ts_df_to_array(ts_df, index)\n",
    "        if swapaxes:\n",
    "            arrays.append(np.swapaxes(array,0,1))\n",
    "        else:\n",
    "            arrays.append(array)\n",
    "    return np.array(arrays)"
   ]
  },
  {
   "cell_type": "code",
   "execution_count": 15,
   "metadata": {
    "ExecuteTime": {
     "end_time": "2019-09-11T16:46:50.615440Z",
     "start_time": "2019-09-11T16:46:50.607436Z"
    }
   },
   "outputs": [],
   "source": [
    "def plot_softdtw_tsne_3d(dataset_name, train_x, test_x, synthetic_x_train, train_y, test_y, synthetic_y_train, dtw_distance_matrices, augmentation_degree):\n",
    "    total_x = np.array(list(train_x) + list(test_x) + list(synthetic_x_train))\n",
    "    total_y = np.array(list(train_y) + list(test_y) + list(synthetic_y_train))\n",
    "    gamma = gamma_soft_dtw(total_x)\n",
    "    \n",
    "    if dataset_name in dtw_distance_matrices.keys() and augmentation_degree in dtw_distance_matrices[dataset_name].keys():\n",
    "        X = dtw_distance_matrices[dataset_name][augmentation_degree]\n",
    "    else:\n",
    "        if dataset_name in dtw_distance_matrices.keys():\n",
    "            dtw_distance_matrices[dataset_name][augmentation_degree] = cdist_soft_dtw_normalized(total_x, gamma=gamma)\n",
    "            X = dtw_distance_matrices[dataset_name][augmentation_degree]\n",
    "        else:\n",
    "            dtw_distance_matrices[dataset_name] = {}\n",
    "            dtw_distance_matrices[dataset_name][augmentation_degree] = cdist_soft_dtw_normalized(total_x, gamma=gamma)\n",
    "            X = dtw_distance_matrices[dataset_name][augmentation_degree]\n",
    "    \n",
    "    X_embedded = TSNE(n_components=3).fit_transform(X)\n",
    "    train_test = ['train_real']*len(train_x) + ['test']*len(test_x) + ['train_synthetic']*len(synthetic_x_train)\n",
    "    real_synthetic = ['real']*(len(train_x) + len(test_x)) + ['synthetic']*len(synthetic_x_train)\n",
    "\n",
    "    df = pd.DataFrame(data=np.array([total_y, X_embedded[:,0], X_embedded[:,1], X_embedded[:,2], train_test, real_synthetic]).T, columns=['label', 'x', 'y', 'z', 'train_test', 'real_synthetic'])\n",
    "\n",
    "    plt.figure()\n",
    "    fig = px.scatter_3d(df, x=\"x\", y=\"y\", z=\"z\", color=\"label\", symbol=\"train_test\", title=dataset_name, symbol_map={\"train_real\": \"circle\", \"train_synthetic\": \"circle-open\", \"test\": \"cross\"})\n",
    "    fig.show()\n",
    "    \n",
    "    return fig"
   ]
  },
  {
   "cell_type": "code",
   "execution_count": 24,
   "metadata": {
    "ExecuteTime": {
     "end_time": "2019-09-11T17:02:27.703729Z",
     "start_time": "2019-09-11T17:02:09.171558Z"
    },
    "scrolled": true
   },
   "outputs": [
    {
     "name": "stdout",
     "output_type": "stream",
     "text": [
      "-----------\n",
      "AtrialFibrillation\n",
      "# replicates: 15\n",
      "# dimensions: 2\n",
      "length of series: 640\n",
      "# classes: 3\n",
      "total 'size': 19200\n"
     ]
    },
    {
     "data": {
      "application/vnd.plotly.v1+json": {
       "config": {
        "plotlyServerURL": "https://plot.ly"
       },
       "data": [
        {
         "hoverlabel": {
          "namelength": 0
         },
         "hovertemplate": "label=n<br>train_test=train_real<br>x=%{x}<br>y=%{y}<br>z=%{z}",
         "legendgroup": "label=n, train_test=train_real",
         "marker": {
          "color": "#636efa",
          "symbol": "circle"
         },
         "mode": "markers",
         "name": "label=n, train_test=train_real",
         "scene": "scene",
         "showlegend": true,
         "type": "scatter3d",
         "x": [
          "60.86274",
          "-277.54633",
          "292.16223",
          "18.30181",
          "-185.00848"
         ],
         "y": [
          "-219.51857",
          "74.90679",
          "58.059242",
          "-73.58958",
          "98.02142"
         ],
         "z": [
          "-60.38491",
          "-305.7655",
          "-16.050013",
          "290.73914",
          "82.763435"
         ]
        },
        {
         "hoverlabel": {
          "namelength": 0
         },
         "hovertemplate": "label=n<br>train_test=test<br>x=%{x}<br>y=%{y}<br>z=%{z}",
         "legendgroup": "label=n, train_test=test",
         "marker": {
          "color": "#636efa",
          "symbol": "cross"
         },
         "mode": "markers",
         "name": "label=n, train_test=test",
         "scene": "scene",
         "showlegend": true,
         "type": "scatter3d",
         "x": [
          "446.40674",
          "-139.91266",
          "242.28432",
          "168.16995",
          "69.51683"
         ],
         "y": [
          "-1584.2949",
          "-221.27414",
          "208.1787",
          "-23.88436",
          "171.16994"
         ],
         "z": [
          "-382.2504",
          "-67.83755",
          "-113.12866",
          "80.123856",
          "-38.606995"
         ]
        },
        {
         "hoverlabel": {
          "namelength": 0
         },
         "hovertemplate": "label=s<br>train_test=train_real<br>x=%{x}<br>y=%{y}<br>z=%{z}",
         "legendgroup": "label=s, train_test=train_real",
         "marker": {
          "color": "#EF553B",
          "symbol": "circle"
         },
         "mode": "markers",
         "name": "label=s, train_test=train_real",
         "scene": "scene",
         "showlegend": true,
         "type": "scatter3d",
         "x": [
          "-135.15108",
          "-129.89565",
          "-318.60974",
          "-26.23574",
          "-190.18715"
         ],
         "y": [
          "53.015366",
          "221.30225",
          "2163.1152",
          "-122.686676",
          "42.975315"
         ],
         "z": [
          "260.334",
          "-57.1752",
          "400.4216",
          "-230.61426",
          "-148.57146"
         ]
        },
        {
         "hoverlabel": {
          "namelength": 0
         },
         "hovertemplate": "label=s<br>train_test=test<br>x=%{x}<br>y=%{y}<br>z=%{z}",
         "legendgroup": "label=s, train_test=test",
         "marker": {
          "color": "#EF553B",
          "symbol": "cross"
         },
         "mode": "markers",
         "name": "label=s, train_test=test",
         "scene": "scene",
         "showlegend": true,
         "type": "scatter3d",
         "x": [
          "121.79326",
          "174.20457",
          "-66.95144",
          "102.491394",
          "-14.310616"
         ],
         "y": [
          "140.25084",
          "-13.304428",
          "-34.03789",
          "-12.35488",
          "251.51483"
         ],
         "z": [
          "212.49248",
          "-257.96347",
          "-39.743492",
          "-91.15383",
          "116.81984"
         ]
        },
        {
         "hoverlabel": {
          "namelength": 0
         },
         "hovertemplate": "label=t<br>train_test=train_real<br>x=%{x}<br>y=%{y}<br>z=%{z}",
         "legendgroup": "label=t, train_test=train_real",
         "marker": {
          "color": "#00cc96",
          "symbol": "circle"
         },
         "mode": "markers",
         "name": "label=t, train_test=train_real",
         "scene": "scene",
         "showlegend": true,
         "type": "scatter3d",
         "x": [
          "213.75998",
          "466.23407",
          "86.223305",
          "-491.91364",
          "-485.20477"
         ],
         "y": [
          "-76.748085",
          "-156.82591",
          "-216.50854",
          "-216.97574",
          "41.756954"
         ],
         "z": [
          "240.19292",
          "1188.8937",
          "132.40569",
          "292.1662",
          "-623.84863"
         ]
        },
        {
         "hoverlabel": {
          "namelength": 0
         },
         "hovertemplate": "label=t<br>train_test=test<br>x=%{x}<br>y=%{y}<br>z=%{z}",
         "legendgroup": "label=t, train_test=test",
         "marker": {
          "color": "#00cc96",
          "symbol": "cross"
         },
         "mode": "markers",
         "name": "label=t, train_test=test",
         "scene": "scene",
         "showlegend": true,
         "type": "scatter3d",
         "x": [
          "-114.2244",
          "-8.816283",
          "253.35385",
          "-0.40479147",
          "-265.25012"
         ],
         "y": [
          "-161.30019",
          "111.41906",
          "-154.71193",
          "19.24855",
          "-71.73826"
         ],
         "z": [
          "139.83887",
          "-228.84167",
          "-52.440872",
          "114.785065",
          "13.863944"
         ]
        }
       ],
       "layout": {
        "height": 600,
        "legend": {
         "tracegroupgap": 0
        },
        "scene": {
         "domain": {
          "x": [
           0,
           0.98
          ],
          "y": [
           0,
           1
          ]
         },
         "xaxis": {
          "title": {
           "text": "x"
          }
         },
         "yaxis": {
          "title": {
           "text": "y"
          }
         },
         "zaxis": {
          "title": {
           "text": "z"
          }
         }
        },
        "template": {
         "data": {
          "bar": [
           {
            "error_x": {
             "color": "#2a3f5f"
            },
            "error_y": {
             "color": "#2a3f5f"
            },
            "marker": {
             "line": {
              "color": "#E5ECF6",
              "width": 0.5
             }
            },
            "type": "bar"
           }
          ],
          "barpolar": [
           {
            "marker": {
             "line": {
              "color": "#E5ECF6",
              "width": 0.5
             }
            },
            "type": "barpolar"
           }
          ],
          "carpet": [
           {
            "aaxis": {
             "endlinecolor": "#2a3f5f",
             "gridcolor": "white",
             "linecolor": "white",
             "minorgridcolor": "white",
             "startlinecolor": "#2a3f5f"
            },
            "baxis": {
             "endlinecolor": "#2a3f5f",
             "gridcolor": "white",
             "linecolor": "white",
             "minorgridcolor": "white",
             "startlinecolor": "#2a3f5f"
            },
            "type": "carpet"
           }
          ],
          "choropleth": [
           {
            "colorbar": {
             "outlinewidth": 0,
             "ticks": ""
            },
            "type": "choropleth"
           }
          ],
          "contour": [
           {
            "colorbar": {
             "outlinewidth": 0,
             "ticks": ""
            },
            "colorscale": [
             [
              0,
              "#0d0887"
             ],
             [
              0.1111111111111111,
              "#46039f"
             ],
             [
              0.2222222222222222,
              "#7201a8"
             ],
             [
              0.3333333333333333,
              "#9c179e"
             ],
             [
              0.4444444444444444,
              "#bd3786"
             ],
             [
              0.5555555555555556,
              "#d8576b"
             ],
             [
              0.6666666666666666,
              "#ed7953"
             ],
             [
              0.7777777777777778,
              "#fb9f3a"
             ],
             [
              0.8888888888888888,
              "#fdca26"
             ],
             [
              1,
              "#f0f921"
             ]
            ],
            "type": "contour"
           }
          ],
          "contourcarpet": [
           {
            "colorbar": {
             "outlinewidth": 0,
             "ticks": ""
            },
            "type": "contourcarpet"
           }
          ],
          "heatmap": [
           {
            "colorbar": {
             "outlinewidth": 0,
             "ticks": ""
            },
            "colorscale": [
             [
              0,
              "#0d0887"
             ],
             [
              0.1111111111111111,
              "#46039f"
             ],
             [
              0.2222222222222222,
              "#7201a8"
             ],
             [
              0.3333333333333333,
              "#9c179e"
             ],
             [
              0.4444444444444444,
              "#bd3786"
             ],
             [
              0.5555555555555556,
              "#d8576b"
             ],
             [
              0.6666666666666666,
              "#ed7953"
             ],
             [
              0.7777777777777778,
              "#fb9f3a"
             ],
             [
              0.8888888888888888,
              "#fdca26"
             ],
             [
              1,
              "#f0f921"
             ]
            ],
            "type": "heatmap"
           }
          ],
          "heatmapgl": [
           {
            "colorbar": {
             "outlinewidth": 0,
             "ticks": ""
            },
            "colorscale": [
             [
              0,
              "#0d0887"
             ],
             [
              0.1111111111111111,
              "#46039f"
             ],
             [
              0.2222222222222222,
              "#7201a8"
             ],
             [
              0.3333333333333333,
              "#9c179e"
             ],
             [
              0.4444444444444444,
              "#bd3786"
             ],
             [
              0.5555555555555556,
              "#d8576b"
             ],
             [
              0.6666666666666666,
              "#ed7953"
             ],
             [
              0.7777777777777778,
              "#fb9f3a"
             ],
             [
              0.8888888888888888,
              "#fdca26"
             ],
             [
              1,
              "#f0f921"
             ]
            ],
            "type": "heatmapgl"
           }
          ],
          "histogram": [
           {
            "marker": {
             "colorbar": {
              "outlinewidth": 0,
              "ticks": ""
             }
            },
            "type": "histogram"
           }
          ],
          "histogram2d": [
           {
            "colorbar": {
             "outlinewidth": 0,
             "ticks": ""
            },
            "colorscale": [
             [
              0,
              "#0d0887"
             ],
             [
              0.1111111111111111,
              "#46039f"
             ],
             [
              0.2222222222222222,
              "#7201a8"
             ],
             [
              0.3333333333333333,
              "#9c179e"
             ],
             [
              0.4444444444444444,
              "#bd3786"
             ],
             [
              0.5555555555555556,
              "#d8576b"
             ],
             [
              0.6666666666666666,
              "#ed7953"
             ],
             [
              0.7777777777777778,
              "#fb9f3a"
             ],
             [
              0.8888888888888888,
              "#fdca26"
             ],
             [
              1,
              "#f0f921"
             ]
            ],
            "type": "histogram2d"
           }
          ],
          "histogram2dcontour": [
           {
            "colorbar": {
             "outlinewidth": 0,
             "ticks": ""
            },
            "colorscale": [
             [
              0,
              "#0d0887"
             ],
             [
              0.1111111111111111,
              "#46039f"
             ],
             [
              0.2222222222222222,
              "#7201a8"
             ],
             [
              0.3333333333333333,
              "#9c179e"
             ],
             [
              0.4444444444444444,
              "#bd3786"
             ],
             [
              0.5555555555555556,
              "#d8576b"
             ],
             [
              0.6666666666666666,
              "#ed7953"
             ],
             [
              0.7777777777777778,
              "#fb9f3a"
             ],
             [
              0.8888888888888888,
              "#fdca26"
             ],
             [
              1,
              "#f0f921"
             ]
            ],
            "type": "histogram2dcontour"
           }
          ],
          "mesh3d": [
           {
            "colorbar": {
             "outlinewidth": 0,
             "ticks": ""
            },
            "type": "mesh3d"
           }
          ],
          "parcoords": [
           {
            "line": {
             "colorbar": {
              "outlinewidth": 0,
              "ticks": ""
             }
            },
            "type": "parcoords"
           }
          ],
          "scatter": [
           {
            "marker": {
             "colorbar": {
              "outlinewidth": 0,
              "ticks": ""
             }
            },
            "type": "scatter"
           }
          ],
          "scatter3d": [
           {
            "line": {
             "colorbar": {
              "outlinewidth": 0,
              "ticks": ""
             }
            },
            "marker": {
             "colorbar": {
              "outlinewidth": 0,
              "ticks": ""
             }
            },
            "type": "scatter3d"
           }
          ],
          "scattercarpet": [
           {
            "marker": {
             "colorbar": {
              "outlinewidth": 0,
              "ticks": ""
             }
            },
            "type": "scattercarpet"
           }
          ],
          "scattergeo": [
           {
            "marker": {
             "colorbar": {
              "outlinewidth": 0,
              "ticks": ""
             }
            },
            "type": "scattergeo"
           }
          ],
          "scattergl": [
           {
            "marker": {
             "colorbar": {
              "outlinewidth": 0,
              "ticks": ""
             }
            },
            "type": "scattergl"
           }
          ],
          "scattermapbox": [
           {
            "marker": {
             "colorbar": {
              "outlinewidth": 0,
              "ticks": ""
             }
            },
            "type": "scattermapbox"
           }
          ],
          "scatterpolar": [
           {
            "marker": {
             "colorbar": {
              "outlinewidth": 0,
              "ticks": ""
             }
            },
            "type": "scatterpolar"
           }
          ],
          "scatterpolargl": [
           {
            "marker": {
             "colorbar": {
              "outlinewidth": 0,
              "ticks": ""
             }
            },
            "type": "scatterpolargl"
           }
          ],
          "scatterternary": [
           {
            "marker": {
             "colorbar": {
              "outlinewidth": 0,
              "ticks": ""
             }
            },
            "type": "scatterternary"
           }
          ],
          "surface": [
           {
            "colorbar": {
             "outlinewidth": 0,
             "ticks": ""
            },
            "colorscale": [
             [
              0,
              "#0d0887"
             ],
             [
              0.1111111111111111,
              "#46039f"
             ],
             [
              0.2222222222222222,
              "#7201a8"
             ],
             [
              0.3333333333333333,
              "#9c179e"
             ],
             [
              0.4444444444444444,
              "#bd3786"
             ],
             [
              0.5555555555555556,
              "#d8576b"
             ],
             [
              0.6666666666666666,
              "#ed7953"
             ],
             [
              0.7777777777777778,
              "#fb9f3a"
             ],
             [
              0.8888888888888888,
              "#fdca26"
             ],
             [
              1,
              "#f0f921"
             ]
            ],
            "type": "surface"
           }
          ],
          "table": [
           {
            "cells": {
             "fill": {
              "color": "#EBF0F8"
             },
             "line": {
              "color": "white"
             }
            },
            "header": {
             "fill": {
              "color": "#C8D4E3"
             },
             "line": {
              "color": "white"
             }
            },
            "type": "table"
           }
          ]
         },
         "layout": {
          "annotationdefaults": {
           "arrowcolor": "#2a3f5f",
           "arrowhead": 0,
           "arrowwidth": 1
          },
          "colorscale": {
           "diverging": [
            [
             0,
             "#8e0152"
            ],
            [
             0.1,
             "#c51b7d"
            ],
            [
             0.2,
             "#de77ae"
            ],
            [
             0.3,
             "#f1b6da"
            ],
            [
             0.4,
             "#fde0ef"
            ],
            [
             0.5,
             "#f7f7f7"
            ],
            [
             0.6,
             "#e6f5d0"
            ],
            [
             0.7,
             "#b8e186"
            ],
            [
             0.8,
             "#7fbc41"
            ],
            [
             0.9,
             "#4d9221"
            ],
            [
             1,
             "#276419"
            ]
           ],
           "sequential": [
            [
             0,
             "#0d0887"
            ],
            [
             0.1111111111111111,
             "#46039f"
            ],
            [
             0.2222222222222222,
             "#7201a8"
            ],
            [
             0.3333333333333333,
             "#9c179e"
            ],
            [
             0.4444444444444444,
             "#bd3786"
            ],
            [
             0.5555555555555556,
             "#d8576b"
            ],
            [
             0.6666666666666666,
             "#ed7953"
            ],
            [
             0.7777777777777778,
             "#fb9f3a"
            ],
            [
             0.8888888888888888,
             "#fdca26"
            ],
            [
             1,
             "#f0f921"
            ]
           ],
           "sequentialminus": [
            [
             0,
             "#0d0887"
            ],
            [
             0.1111111111111111,
             "#46039f"
            ],
            [
             0.2222222222222222,
             "#7201a8"
            ],
            [
             0.3333333333333333,
             "#9c179e"
            ],
            [
             0.4444444444444444,
             "#bd3786"
            ],
            [
             0.5555555555555556,
             "#d8576b"
            ],
            [
             0.6666666666666666,
             "#ed7953"
            ],
            [
             0.7777777777777778,
             "#fb9f3a"
            ],
            [
             0.8888888888888888,
             "#fdca26"
            ],
            [
             1,
             "#f0f921"
            ]
           ]
          },
          "colorway": [
           "#636efa",
           "#EF553B",
           "#00cc96",
           "#ab63fa",
           "#FFA15A",
           "#19d3f3",
           "#FF6692",
           "#B6E880",
           "#FF97FF",
           "#FECB52"
          ],
          "font": {
           "color": "#2a3f5f"
          },
          "geo": {
           "bgcolor": "white",
           "lakecolor": "white",
           "landcolor": "#E5ECF6",
           "showlakes": true,
           "showland": true,
           "subunitcolor": "white"
          },
          "hoverlabel": {
           "align": "left"
          },
          "hovermode": "closest",
          "mapbox": {
           "style": "light"
          },
          "paper_bgcolor": "white",
          "plot_bgcolor": "#E5ECF6",
          "polar": {
           "angularaxis": {
            "gridcolor": "white",
            "linecolor": "white",
            "ticks": ""
           },
           "bgcolor": "#E5ECF6",
           "radialaxis": {
            "gridcolor": "white",
            "linecolor": "white",
            "ticks": ""
           }
          },
          "scene": {
           "xaxis": {
            "backgroundcolor": "#E5ECF6",
            "gridcolor": "white",
            "gridwidth": 2,
            "linecolor": "white",
            "showbackground": true,
            "ticks": "",
            "zerolinecolor": "white"
           },
           "yaxis": {
            "backgroundcolor": "#E5ECF6",
            "gridcolor": "white",
            "gridwidth": 2,
            "linecolor": "white",
            "showbackground": true,
            "ticks": "",
            "zerolinecolor": "white"
           },
           "zaxis": {
            "backgroundcolor": "#E5ECF6",
            "gridcolor": "white",
            "gridwidth": 2,
            "linecolor": "white",
            "showbackground": true,
            "ticks": "",
            "zerolinecolor": "white"
           }
          },
          "shapedefaults": {
           "line": {
            "color": "#2a3f5f"
           }
          },
          "ternary": {
           "aaxis": {
            "gridcolor": "white",
            "linecolor": "white",
            "ticks": ""
           },
           "baxis": {
            "gridcolor": "white",
            "linecolor": "white",
            "ticks": ""
           },
           "bgcolor": "#E5ECF6",
           "caxis": {
            "gridcolor": "white",
            "linecolor": "white",
            "ticks": ""
           }
          },
          "title": {
           "x": 0.05
          },
          "xaxis": {
           "automargin": true,
           "gridcolor": "white",
           "linecolor": "white",
           "ticks": "",
           "zerolinecolor": "white",
           "zerolinewidth": 2
          },
          "yaxis": {
           "automargin": true,
           "gridcolor": "white",
           "linecolor": "white",
           "ticks": "",
           "zerolinecolor": "white",
           "zerolinewidth": 2
          }
         }
        },
        "title": {
         "text": "AtrialFibrillation"
        }
       }
      },
      "text/html": [
       "<div>\n",
       "        \n",
       "        \n",
       "            <div id=\"ac1f7793-9a7f-4414-98f3-9e7cb867c859\" class=\"plotly-graph-div\" style=\"height:600px; width:100%;\"></div>\n",
       "            <script type=\"text/javascript\">\n",
       "                require([\"plotly\"], function(Plotly) {\n",
       "                    window.PLOTLYENV=window.PLOTLYENV || {};\n",
       "                    \n",
       "                if (document.getElementById(\"ac1f7793-9a7f-4414-98f3-9e7cb867c859\")) {\n",
       "                    Plotly.newPlot(\n",
       "                        'ac1f7793-9a7f-4414-98f3-9e7cb867c859',\n",
       "                        [{\"hoverlabel\": {\"namelength\": 0}, \"hovertemplate\": \"label=n<br>train_test=train_real<br>x=%{x}<br>y=%{y}<br>z=%{z}\", \"legendgroup\": \"label=n, train_test=train_real\", \"marker\": {\"color\": \"#636efa\", \"symbol\": \"circle\"}, \"mode\": \"markers\", \"name\": \"label=n, train_test=train_real\", \"scene\": \"scene\", \"showlegend\": true, \"type\": \"scatter3d\", \"x\": [\"60.86274\", \"-277.54633\", \"292.16223\", \"18.30181\", \"-185.00848\"], \"y\": [\"-219.51857\", \"74.90679\", \"58.059242\", \"-73.58958\", \"98.02142\"], \"z\": [\"-60.38491\", \"-305.7655\", \"-16.050013\", \"290.73914\", \"82.763435\"]}, {\"hoverlabel\": {\"namelength\": 0}, \"hovertemplate\": \"label=n<br>train_test=test<br>x=%{x}<br>y=%{y}<br>z=%{z}\", \"legendgroup\": \"label=n, train_test=test\", \"marker\": {\"color\": \"#636efa\", \"symbol\": \"cross\"}, \"mode\": \"markers\", \"name\": \"label=n, train_test=test\", \"scene\": \"scene\", \"showlegend\": true, \"type\": \"scatter3d\", \"x\": [\"446.40674\", \"-139.91266\", \"242.28432\", \"168.16995\", \"69.51683\"], \"y\": [\"-1584.2949\", \"-221.27414\", \"208.1787\", \"-23.88436\", \"171.16994\"], \"z\": [\"-382.2504\", \"-67.83755\", \"-113.12866\", \"80.123856\", \"-38.606995\"]}, {\"hoverlabel\": {\"namelength\": 0}, \"hovertemplate\": \"label=s<br>train_test=train_real<br>x=%{x}<br>y=%{y}<br>z=%{z}\", \"legendgroup\": \"label=s, train_test=train_real\", \"marker\": {\"color\": \"#EF553B\", \"symbol\": \"circle\"}, \"mode\": \"markers\", \"name\": \"label=s, train_test=train_real\", \"scene\": \"scene\", \"showlegend\": true, \"type\": \"scatter3d\", \"x\": [\"-135.15108\", \"-129.89565\", \"-318.60974\", \"-26.23574\", \"-190.18715\"], \"y\": [\"53.015366\", \"221.30225\", \"2163.1152\", \"-122.686676\", \"42.975315\"], \"z\": [\"260.334\", \"-57.1752\", \"400.4216\", \"-230.61426\", \"-148.57146\"]}, {\"hoverlabel\": {\"namelength\": 0}, \"hovertemplate\": \"label=s<br>train_test=test<br>x=%{x}<br>y=%{y}<br>z=%{z}\", \"legendgroup\": \"label=s, train_test=test\", \"marker\": {\"color\": \"#EF553B\", \"symbol\": \"cross\"}, \"mode\": \"markers\", \"name\": \"label=s, train_test=test\", \"scene\": \"scene\", \"showlegend\": true, \"type\": \"scatter3d\", \"x\": [\"121.79326\", \"174.20457\", \"-66.95144\", \"102.491394\", \"-14.310616\"], \"y\": [\"140.25084\", \"-13.304428\", \"-34.03789\", \"-12.35488\", \"251.51483\"], \"z\": [\"212.49248\", \"-257.96347\", \"-39.743492\", \"-91.15383\", \"116.81984\"]}, {\"hoverlabel\": {\"namelength\": 0}, \"hovertemplate\": \"label=t<br>train_test=train_real<br>x=%{x}<br>y=%{y}<br>z=%{z}\", \"legendgroup\": \"label=t, train_test=train_real\", \"marker\": {\"color\": \"#00cc96\", \"symbol\": \"circle\"}, \"mode\": \"markers\", \"name\": \"label=t, train_test=train_real\", \"scene\": \"scene\", \"showlegend\": true, \"type\": \"scatter3d\", \"x\": [\"213.75998\", \"466.23407\", \"86.223305\", \"-491.91364\", \"-485.20477\"], \"y\": [\"-76.748085\", \"-156.82591\", \"-216.50854\", \"-216.97574\", \"41.756954\"], \"z\": [\"240.19292\", \"1188.8937\", \"132.40569\", \"292.1662\", \"-623.84863\"]}, {\"hoverlabel\": {\"namelength\": 0}, \"hovertemplate\": \"label=t<br>train_test=test<br>x=%{x}<br>y=%{y}<br>z=%{z}\", \"legendgroup\": \"label=t, train_test=test\", \"marker\": {\"color\": \"#00cc96\", \"symbol\": \"cross\"}, \"mode\": \"markers\", \"name\": \"label=t, train_test=test\", \"scene\": \"scene\", \"showlegend\": true, \"type\": \"scatter3d\", \"x\": [\"-114.2244\", \"-8.816283\", \"253.35385\", \"-0.40479147\", \"-265.25012\"], \"y\": [\"-161.30019\", \"111.41906\", \"-154.71193\", \"19.24855\", \"-71.73826\"], \"z\": [\"139.83887\", \"-228.84167\", \"-52.440872\", \"114.785065\", \"13.863944\"]}],\n",
       "                        {\"height\": 600, \"legend\": {\"tracegroupgap\": 0}, \"scene\": {\"domain\": {\"x\": [0.0, 0.98], \"y\": [0.0, 1.0]}, \"xaxis\": {\"title\": {\"text\": \"x\"}}, \"yaxis\": {\"title\": {\"text\": \"y\"}}, \"zaxis\": {\"title\": {\"text\": \"z\"}}}, \"template\": {\"data\": {\"bar\": [{\"error_x\": {\"color\": \"#2a3f5f\"}, \"error_y\": {\"color\": \"#2a3f5f\"}, \"marker\": {\"line\": {\"color\": \"#E5ECF6\", \"width\": 0.5}}, \"type\": \"bar\"}], \"barpolar\": [{\"marker\": {\"line\": {\"color\": \"#E5ECF6\", \"width\": 0.5}}, \"type\": \"barpolar\"}], \"carpet\": [{\"aaxis\": {\"endlinecolor\": \"#2a3f5f\", \"gridcolor\": \"white\", \"linecolor\": \"white\", \"minorgridcolor\": \"white\", \"startlinecolor\": \"#2a3f5f\"}, \"baxis\": {\"endlinecolor\": \"#2a3f5f\", \"gridcolor\": \"white\", \"linecolor\": \"white\", \"minorgridcolor\": \"white\", \"startlinecolor\": \"#2a3f5f\"}, \"type\": \"carpet\"}], \"choropleth\": [{\"colorbar\": {\"outlinewidth\": 0, \"ticks\": \"\"}, \"type\": \"choropleth\"}], \"contour\": [{\"colorbar\": {\"outlinewidth\": 0, \"ticks\": \"\"}, \"colorscale\": [[0.0, \"#0d0887\"], [0.1111111111111111, \"#46039f\"], [0.2222222222222222, \"#7201a8\"], [0.3333333333333333, \"#9c179e\"], [0.4444444444444444, \"#bd3786\"], [0.5555555555555556, \"#d8576b\"], [0.6666666666666666, \"#ed7953\"], [0.7777777777777778, \"#fb9f3a\"], [0.8888888888888888, \"#fdca26\"], [1.0, \"#f0f921\"]], \"type\": \"contour\"}], \"contourcarpet\": [{\"colorbar\": {\"outlinewidth\": 0, \"ticks\": \"\"}, \"type\": \"contourcarpet\"}], \"heatmap\": [{\"colorbar\": {\"outlinewidth\": 0, \"ticks\": \"\"}, \"colorscale\": [[0.0, \"#0d0887\"], [0.1111111111111111, \"#46039f\"], [0.2222222222222222, \"#7201a8\"], [0.3333333333333333, \"#9c179e\"], [0.4444444444444444, \"#bd3786\"], [0.5555555555555556, \"#d8576b\"], [0.6666666666666666, \"#ed7953\"], [0.7777777777777778, \"#fb9f3a\"], [0.8888888888888888, \"#fdca26\"], [1.0, \"#f0f921\"]], \"type\": \"heatmap\"}], \"heatmapgl\": [{\"colorbar\": {\"outlinewidth\": 0, \"ticks\": \"\"}, \"colorscale\": [[0.0, \"#0d0887\"], [0.1111111111111111, \"#46039f\"], [0.2222222222222222, \"#7201a8\"], [0.3333333333333333, \"#9c179e\"], [0.4444444444444444, \"#bd3786\"], [0.5555555555555556, \"#d8576b\"], [0.6666666666666666, \"#ed7953\"], [0.7777777777777778, \"#fb9f3a\"], [0.8888888888888888, \"#fdca26\"], [1.0, \"#f0f921\"]], \"type\": \"heatmapgl\"}], \"histogram\": [{\"marker\": {\"colorbar\": {\"outlinewidth\": 0, \"ticks\": \"\"}}, \"type\": \"histogram\"}], \"histogram2d\": [{\"colorbar\": {\"outlinewidth\": 0, \"ticks\": \"\"}, \"colorscale\": [[0.0, \"#0d0887\"], [0.1111111111111111, \"#46039f\"], [0.2222222222222222, \"#7201a8\"], [0.3333333333333333, \"#9c179e\"], [0.4444444444444444, \"#bd3786\"], [0.5555555555555556, \"#d8576b\"], [0.6666666666666666, \"#ed7953\"], [0.7777777777777778, \"#fb9f3a\"], [0.8888888888888888, \"#fdca26\"], [1.0, \"#f0f921\"]], \"type\": \"histogram2d\"}], \"histogram2dcontour\": [{\"colorbar\": {\"outlinewidth\": 0, \"ticks\": \"\"}, \"colorscale\": [[0.0, \"#0d0887\"], [0.1111111111111111, \"#46039f\"], [0.2222222222222222, \"#7201a8\"], [0.3333333333333333, \"#9c179e\"], [0.4444444444444444, \"#bd3786\"], [0.5555555555555556, \"#d8576b\"], [0.6666666666666666, \"#ed7953\"], [0.7777777777777778, \"#fb9f3a\"], [0.8888888888888888, \"#fdca26\"], [1.0, \"#f0f921\"]], \"type\": \"histogram2dcontour\"}], \"mesh3d\": [{\"colorbar\": {\"outlinewidth\": 0, \"ticks\": \"\"}, \"type\": \"mesh3d\"}], \"parcoords\": [{\"line\": {\"colorbar\": {\"outlinewidth\": 0, \"ticks\": \"\"}}, \"type\": \"parcoords\"}], \"scatter\": [{\"marker\": {\"colorbar\": {\"outlinewidth\": 0, \"ticks\": \"\"}}, \"type\": \"scatter\"}], \"scatter3d\": [{\"line\": {\"colorbar\": {\"outlinewidth\": 0, \"ticks\": \"\"}}, \"marker\": {\"colorbar\": {\"outlinewidth\": 0, \"ticks\": \"\"}}, \"type\": \"scatter3d\"}], \"scattercarpet\": [{\"marker\": {\"colorbar\": {\"outlinewidth\": 0, \"ticks\": \"\"}}, \"type\": \"scattercarpet\"}], \"scattergeo\": [{\"marker\": {\"colorbar\": {\"outlinewidth\": 0, \"ticks\": \"\"}}, \"type\": \"scattergeo\"}], \"scattergl\": [{\"marker\": {\"colorbar\": {\"outlinewidth\": 0, \"ticks\": \"\"}}, \"type\": \"scattergl\"}], \"scattermapbox\": [{\"marker\": {\"colorbar\": {\"outlinewidth\": 0, \"ticks\": \"\"}}, \"type\": \"scattermapbox\"}], \"scatterpolar\": [{\"marker\": {\"colorbar\": {\"outlinewidth\": 0, \"ticks\": \"\"}}, \"type\": \"scatterpolar\"}], \"scatterpolargl\": [{\"marker\": {\"colorbar\": {\"outlinewidth\": 0, \"ticks\": \"\"}}, \"type\": \"scatterpolargl\"}], \"scatterternary\": [{\"marker\": {\"colorbar\": {\"outlinewidth\": 0, \"ticks\": \"\"}}, \"type\": \"scatterternary\"}], \"surface\": [{\"colorbar\": {\"outlinewidth\": 0, \"ticks\": \"\"}, \"colorscale\": [[0.0, \"#0d0887\"], [0.1111111111111111, \"#46039f\"], [0.2222222222222222, \"#7201a8\"], [0.3333333333333333, \"#9c179e\"], [0.4444444444444444, \"#bd3786\"], [0.5555555555555556, \"#d8576b\"], [0.6666666666666666, \"#ed7953\"], [0.7777777777777778, \"#fb9f3a\"], [0.8888888888888888, \"#fdca26\"], [1.0, \"#f0f921\"]], \"type\": \"surface\"}], \"table\": [{\"cells\": {\"fill\": {\"color\": \"#EBF0F8\"}, \"line\": {\"color\": \"white\"}}, \"header\": {\"fill\": {\"color\": \"#C8D4E3\"}, \"line\": {\"color\": \"white\"}}, \"type\": \"table\"}]}, \"layout\": {\"annotationdefaults\": {\"arrowcolor\": \"#2a3f5f\", \"arrowhead\": 0, \"arrowwidth\": 1}, \"colorscale\": {\"diverging\": [[0, \"#8e0152\"], [0.1, \"#c51b7d\"], [0.2, \"#de77ae\"], [0.3, \"#f1b6da\"], [0.4, \"#fde0ef\"], [0.5, \"#f7f7f7\"], [0.6, \"#e6f5d0\"], [0.7, \"#b8e186\"], [0.8, \"#7fbc41\"], [0.9, \"#4d9221\"], [1, \"#276419\"]], \"sequential\": [[0.0, \"#0d0887\"], [0.1111111111111111, \"#46039f\"], [0.2222222222222222, \"#7201a8\"], [0.3333333333333333, \"#9c179e\"], [0.4444444444444444, \"#bd3786\"], [0.5555555555555556, \"#d8576b\"], [0.6666666666666666, \"#ed7953\"], [0.7777777777777778, \"#fb9f3a\"], [0.8888888888888888, \"#fdca26\"], [1.0, \"#f0f921\"]], \"sequentialminus\": [[0.0, \"#0d0887\"], [0.1111111111111111, \"#46039f\"], [0.2222222222222222, \"#7201a8\"], [0.3333333333333333, \"#9c179e\"], [0.4444444444444444, \"#bd3786\"], [0.5555555555555556, \"#d8576b\"], [0.6666666666666666, \"#ed7953\"], [0.7777777777777778, \"#fb9f3a\"], [0.8888888888888888, \"#fdca26\"], [1.0, \"#f0f921\"]]}, \"colorway\": [\"#636efa\", \"#EF553B\", \"#00cc96\", \"#ab63fa\", \"#FFA15A\", \"#19d3f3\", \"#FF6692\", \"#B6E880\", \"#FF97FF\", \"#FECB52\"], \"font\": {\"color\": \"#2a3f5f\"}, \"geo\": {\"bgcolor\": \"white\", \"lakecolor\": \"white\", \"landcolor\": \"#E5ECF6\", \"showlakes\": true, \"showland\": true, \"subunitcolor\": \"white\"}, \"hoverlabel\": {\"align\": \"left\"}, \"hovermode\": \"closest\", \"mapbox\": {\"style\": \"light\"}, \"paper_bgcolor\": \"white\", \"plot_bgcolor\": \"#E5ECF6\", \"polar\": {\"angularaxis\": {\"gridcolor\": \"white\", \"linecolor\": \"white\", \"ticks\": \"\"}, \"bgcolor\": \"#E5ECF6\", \"radialaxis\": {\"gridcolor\": \"white\", \"linecolor\": \"white\", \"ticks\": \"\"}}, \"scene\": {\"xaxis\": {\"backgroundcolor\": \"#E5ECF6\", \"gridcolor\": \"white\", \"gridwidth\": 2, \"linecolor\": \"white\", \"showbackground\": true, \"ticks\": \"\", \"zerolinecolor\": \"white\"}, \"yaxis\": {\"backgroundcolor\": \"#E5ECF6\", \"gridcolor\": \"white\", \"gridwidth\": 2, \"linecolor\": \"white\", \"showbackground\": true, \"ticks\": \"\", \"zerolinecolor\": \"white\"}, \"zaxis\": {\"backgroundcolor\": \"#E5ECF6\", \"gridcolor\": \"white\", \"gridwidth\": 2, \"linecolor\": \"white\", \"showbackground\": true, \"ticks\": \"\", \"zerolinecolor\": \"white\"}}, \"shapedefaults\": {\"line\": {\"color\": \"#2a3f5f\"}}, \"ternary\": {\"aaxis\": {\"gridcolor\": \"white\", \"linecolor\": \"white\", \"ticks\": \"\"}, \"baxis\": {\"gridcolor\": \"white\", \"linecolor\": \"white\", \"ticks\": \"\"}, \"bgcolor\": \"#E5ECF6\", \"caxis\": {\"gridcolor\": \"white\", \"linecolor\": \"white\", \"ticks\": \"\"}}, \"title\": {\"x\": 0.05}, \"xaxis\": {\"automargin\": true, \"gridcolor\": \"white\", \"linecolor\": \"white\", \"ticks\": \"\", \"zerolinecolor\": \"white\", \"zerolinewidth\": 2}, \"yaxis\": {\"automargin\": true, \"gridcolor\": \"white\", \"linecolor\": \"white\", \"ticks\": \"\", \"zerolinecolor\": \"white\", \"zerolinewidth\": 2}}}, \"title\": {\"text\": \"AtrialFibrillation\"}},\n",
       "                        {\"responsive\": true}\n",
       "                    ).then(function(){\n",
       "                            \n",
       "var gd = document.getElementById('ac1f7793-9a7f-4414-98f3-9e7cb867c859');\n",
       "var x = new MutationObserver(function (mutations, observer) {{\n",
       "        var display = window.getComputedStyle(gd).display;\n",
       "        if (!display || display === 'none') {{\n",
       "            console.log([gd, 'removed!']);\n",
       "            Plotly.purge(gd);\n",
       "            observer.disconnect();\n",
       "        }}\n",
       "}});\n",
       "\n",
       "// Listen for the removal of the full notebook cells\n",
       "var notebookContainer = gd.closest('#notebook-container');\n",
       "if (notebookContainer) {{\n",
       "    x.observe(notebookContainer, {childList: true});\n",
       "}}\n",
       "\n",
       "// Listen for the clearing of the current output cell\n",
       "var outputEl = gd.closest('.output');\n",
       "if (outputEl) {{\n",
       "    x.observe(outputEl, {childList: true});\n",
       "}}\n",
       "\n",
       "                        })\n",
       "                };\n",
       "                });\n",
       "            </script>\n",
       "        </div>"
      ]
     },
     "metadata": {},
     "output_type": "display_data"
    },
    {
     "name": "stdout",
     "output_type": "stream",
     "text": [
      "Augmentation degree: 4.000000\n"
     ]
    },
    {
     "data": {
      "application/vnd.plotly.v1+json": {
       "config": {
        "plotlyServerURL": "https://plot.ly"
       },
       "data": [
        {
         "hoverlabel": {
          "namelength": 0
         },
         "hovertemplate": "label=n<br>train_test=train_real<br>x=%{x}<br>y=%{y}<br>z=%{z}",
         "legendgroup": "label=n, train_test=train_real",
         "marker": {
          "color": "#636efa",
          "symbol": "circle"
         },
         "mode": "markers",
         "name": "label=n, train_test=train_real",
         "scene": "scene",
         "showlegend": true,
         "type": "scatter3d",
         "x": [
          "62.125397",
          "165.76727",
          "229.56073",
          "120.867546",
          "-40.275364"
         ],
         "y": [
          "-8.78937",
          "92.02188",
          "-72.49044",
          "32.59195",
          "14.921873"
         ],
         "z": [
          "129.7218",
          "-142.6001",
          "31.388264",
          "-65.34673",
          "115.718346"
         ]
        },
        {
         "hoverlabel": {
          "namelength": 0
         },
         "hovertemplate": "label=n<br>train_test=test<br>x=%{x}<br>y=%{y}<br>z=%{z}",
         "legendgroup": "label=n, train_test=test",
         "marker": {
          "color": "#636efa",
          "symbol": "cross"
         },
         "mode": "markers",
         "name": "label=n, train_test=test",
         "scene": "scene",
         "showlegend": true,
         "type": "scatter3d",
         "x": [
          "88.52161",
          "-168.6598",
          "180.46382",
          "113.12307",
          "-188.84998"
         ],
         "y": [
          "-96.42191",
          "3.1911373",
          "173.29161",
          "955.8367",
          "-148.11723"
         ],
         "z": [
          "100.16867",
          "-192.9347",
          "71.7824",
          "64.7616",
          "252.33984"
         ]
        },
        {
         "hoverlabel": {
          "namelength": 0
         },
         "hovertemplate": "label=n<br>train_test=train_synthetic<br>x=%{x}<br>y=%{y}<br>z=%{z}",
         "legendgroup": "label=n, train_test=train_synthetic",
         "marker": {
          "color": "#636efa",
          "symbol": "circle-open"
         },
         "mode": "markers",
         "name": "label=n, train_test=train_synthetic",
         "scene": "scene",
         "showlegend": true,
         "type": "scatter3d",
         "x": [
          "-179.80914",
          "-90.8822",
          "-5.0408697",
          "146.50333",
          "-222.47466",
          "-176.60005",
          "-21.504229",
          "120.77679",
          "-83.36292",
          "169.46173",
          "-17.87107",
          "-163.18805",
          "-56.30068",
          "906.5605",
          "-349.73523",
          "80.9624",
          "190.54433",
          "66.142296",
          "-117.34458",
          "368.0597"
         ],
         "y": [
          "-61.279205",
          "-60.23088",
          "-62.404015",
          "-93.88835",
          "-31.372528",
          "-150.35805",
          "-109.27918",
          "232.41692",
          "-174.6548",
          "-46.169167",
          "-95.77332",
          "-100.59982",
          "65.804825",
          "10.99374",
          "-19.553679",
          "-155.66763",
          "-33.56175",
          "-54.152187",
          "-89.35608",
          "142.8188"
         ],
         "z": [
          "27.174091",
          "10.52565",
          "67.43403",
          "-67.24196",
          "99.20889",
          "2.2196958",
          "166.79938",
          "-37.14746",
          "2.755072",
          "160.32988",
          "-29.717697",
          "372.4518",
          "-238.84619",
          "-911.1885",
          "465.0184",
          "-24.76128",
          "-126.345764",
          "6.2977405",
          "100.74088",
          "-336.93686"
         ]
        },
        {
         "hoverlabel": {
          "namelength": 0
         },
         "hovertemplate": "label=s<br>train_test=train_real<br>x=%{x}<br>y=%{y}<br>z=%{z}",
         "legendgroup": "label=s, train_test=train_real",
         "marker": {
          "color": "#EF553B",
          "symbol": "circle"
         },
         "mode": "markers",
         "name": "label=s, train_test=train_real",
         "scene": "scene",
         "showlegend": true,
         "type": "scatter3d",
         "x": [
          "53.795513",
          "144.74207",
          "124.900055",
          "-426.12997",
          "-33.32024"
         ],
         "y": [
          "47.89798",
          "-9.252644",
          "119.67351",
          "378.05032",
          "104.435265"
         ],
         "z": [
          "23.74949",
          "54.246437",
          "-240.93161",
          "-81.838326",
          "65.29172"
         ]
        },
        {
         "hoverlabel": {
          "namelength": 0
         },
         "hovertemplate": "label=s<br>train_test=test<br>x=%{x}<br>y=%{y}<br>z=%{z}",
         "legendgroup": "label=s, train_test=test",
         "marker": {
          "color": "#EF553B",
          "symbol": "cross"
         },
         "mode": "markers",
         "name": "label=s, train_test=test",
         "scene": "scene",
         "showlegend": true,
         "type": "scatter3d",
         "x": [
          "-122.4636",
          "-43.48842",
          "66.104996",
          "267.27597",
          "128.75899"
         ],
         "y": [
          "-41.106243",
          "231.87065",
          "88.28087",
          "125.45553",
          "132.5805"
         ],
         "z": [
          "205.32907",
          "55.503746",
          "112.05346",
          "-197.48454",
          "-44.017483"
         ]
        },
        {
         "hoverlabel": {
          "namelength": 0
         },
         "hovertemplate": "label=s<br>train_test=train_synthetic<br>x=%{x}<br>y=%{y}<br>z=%{z}",
         "legendgroup": "label=s, train_test=train_synthetic",
         "marker": {
          "color": "#EF553B",
          "symbol": "circle-open"
         },
         "mode": "markers",
         "name": "label=s, train_test=train_synthetic",
         "scene": "scene",
         "showlegend": true,
         "type": "scatter3d",
         "x": [
          "-248.36684",
          "20.97742",
          "5.011857",
          "6.5407305",
          "-86.21559",
          "-10.034384",
          "51.54547",
          "254.44356",
          "577.27356",
          "-46.22533",
          "-379.03198",
          "208.87578",
          "50.62068",
          "34.496033",
          "-128.0012",
          "-140.7829",
          "-102.15722",
          "-98.53578",
          "-44.546234",
          "-199.29541"
         ],
         "y": [
          "0.35924774",
          "-239.46826",
          "168.15787",
          "-172.48468",
          "-100.16404",
          "0.62901294",
          "67.520905",
          "12.86703",
          "466.372",
          "36.62365",
          "173.44684",
          "-120.66775",
          "201.43501",
          "-213.41548",
          "158.34758",
          "209.06093",
          "75.11526",
          "116.41896",
          "208.36272",
          "-69.84135"
         ],
         "z": [
          "-40.117233",
          "-37.759247",
          "-159.29222",
          "49.388386",
          "-205.06972",
          "227.66248",
          "-183.75627",
          "-43.39067",
          "146.0799",
          "-8.93051",
          "-438.52444",
          "384.3676",
          "77.574486",
          "132.27383",
          "-114.68715",
          "-1.6585095",
          "186.85806",
          "-18.970888",
          "-71.09435",
          "-103.58837"
         ]
        },
        {
         "hoverlabel": {
          "namelength": 0
         },
         "hovertemplate": "label=t<br>train_test=train_real<br>x=%{x}<br>y=%{y}<br>z=%{z}",
         "legendgroup": "label=t, train_test=train_real",
         "marker": {
          "color": "#00cc96",
          "symbol": "circle"
         },
         "mode": "markers",
         "name": "label=t, train_test=train_real",
         "scene": "scene",
         "showlegend": true,
         "type": "scatter3d",
         "x": [
          "119.723",
          "-259.2273",
          "170.5988",
          "227.57106",
          "-217.02861"
         ],
         "y": [
          "110.7556",
          "-94.479355",
          "-168.00099",
          "39.667713",
          "89.76436"
         ],
         "z": [
          "50.6289",
          "175.45158",
          "38.546234",
          "112.96624",
          "35.41651"
         ]
        },
        {
         "hoverlabel": {
          "namelength": 0
         },
         "hovertemplate": "label=t<br>train_test=test<br>x=%{x}<br>y=%{y}<br>z=%{z}",
         "legendgroup": "label=t, train_test=test",
         "marker": {
          "color": "#00cc96",
          "symbol": "cross"
         },
         "mode": "markers",
         "name": "label=t, train_test=test",
         "scene": "scene",
         "showlegend": true,
         "type": "scatter3d",
         "x": [
          "-124.92054",
          "-174.02087",
          "-96.091965",
          "189.92986",
          "-303.7575"
         ],
         "y": [
          "143.48793",
          "-980.8587",
          "-194.15193",
          "75.54801",
          "-484.52985"
         ],
         "z": [
          "99.46602",
          "-30.27497",
          "121.89346",
          "6.6438417",
          "-111.347496"
         ]
        },
        {
         "hoverlabel": {
          "namelength": 0
         },
         "hovertemplate": "label=t<br>train_test=train_synthetic<br>x=%{x}<br>y=%{y}<br>z=%{z}",
         "legendgroup": "label=t, train_test=train_synthetic",
         "marker": {
          "color": "#00cc96",
          "symbol": "circle-open"
         },
         "mode": "markers",
         "name": "label=t, train_test=train_synthetic",
         "scene": "scene",
         "showlegend": true,
         "type": "scatter3d",
         "x": [
          "67.950386",
          "29.928751",
          "85.71179",
          "-312.02167",
          "-140.61743",
          "144.38916",
          "-2932.0703",
          "1.0271797",
          "11.637244",
          "20.630213",
          "94.267166",
          "-54.465157",
          "-5.06815",
          "140.77264",
          "-86.545395",
          "1.862963",
          "615.13666",
          "-130.89691",
          "-54.7032",
          "-105.49873"
         ],
         "y": [
          "-142.35582",
          "-13.036308",
          "-43.501137",
          "87.267876",
          "19.31746",
          "127.12247",
          "554.054",
          "76.45215",
          "-118.65148",
          "140.53207",
          "41.5908",
          "-27.194698",
          "145.75847",
          "-153.47034",
          "61.841686",
          "-33.062252",
          "-262.9319",
          "34.68362",
          "-198.01022",
          "-109.706"
         ],
         "z": [
          "-202.73357",
          "-86.34659",
          "-153.70767",
          "-110.56616",
          "-61.960236",
          "180.62576",
          "-4873.8325",
          "-94.63817",
          "-123.50319",
          "-25.83112",
          "220.19661",
          "-123.76598",
          "176.69751",
          "166.3407",
          "-132.69926",
          "-207.2321",
          "1535.8688",
          "64.10666",
          "-122.56866",
          "-96.242325"
         ]
        }
       ],
       "layout": {
        "height": 600,
        "legend": {
         "tracegroupgap": 0
        },
        "scene": {
         "domain": {
          "x": [
           0,
           0.98
          ],
          "y": [
           0,
           1
          ]
         },
         "xaxis": {
          "title": {
           "text": "x"
          }
         },
         "yaxis": {
          "title": {
           "text": "y"
          }
         },
         "zaxis": {
          "title": {
           "text": "z"
          }
         }
        },
        "template": {
         "data": {
          "bar": [
           {
            "error_x": {
             "color": "#2a3f5f"
            },
            "error_y": {
             "color": "#2a3f5f"
            },
            "marker": {
             "line": {
              "color": "#E5ECF6",
              "width": 0.5
             }
            },
            "type": "bar"
           }
          ],
          "barpolar": [
           {
            "marker": {
             "line": {
              "color": "#E5ECF6",
              "width": 0.5
             }
            },
            "type": "barpolar"
           }
          ],
          "carpet": [
           {
            "aaxis": {
             "endlinecolor": "#2a3f5f",
             "gridcolor": "white",
             "linecolor": "white",
             "minorgridcolor": "white",
             "startlinecolor": "#2a3f5f"
            },
            "baxis": {
             "endlinecolor": "#2a3f5f",
             "gridcolor": "white",
             "linecolor": "white",
             "minorgridcolor": "white",
             "startlinecolor": "#2a3f5f"
            },
            "type": "carpet"
           }
          ],
          "choropleth": [
           {
            "colorbar": {
             "outlinewidth": 0,
             "ticks": ""
            },
            "type": "choropleth"
           }
          ],
          "contour": [
           {
            "colorbar": {
             "outlinewidth": 0,
             "ticks": ""
            },
            "colorscale": [
             [
              0,
              "#0d0887"
             ],
             [
              0.1111111111111111,
              "#46039f"
             ],
             [
              0.2222222222222222,
              "#7201a8"
             ],
             [
              0.3333333333333333,
              "#9c179e"
             ],
             [
              0.4444444444444444,
              "#bd3786"
             ],
             [
              0.5555555555555556,
              "#d8576b"
             ],
             [
              0.6666666666666666,
              "#ed7953"
             ],
             [
              0.7777777777777778,
              "#fb9f3a"
             ],
             [
              0.8888888888888888,
              "#fdca26"
             ],
             [
              1,
              "#f0f921"
             ]
            ],
            "type": "contour"
           }
          ],
          "contourcarpet": [
           {
            "colorbar": {
             "outlinewidth": 0,
             "ticks": ""
            },
            "type": "contourcarpet"
           }
          ],
          "heatmap": [
           {
            "colorbar": {
             "outlinewidth": 0,
             "ticks": ""
            },
            "colorscale": [
             [
              0,
              "#0d0887"
             ],
             [
              0.1111111111111111,
              "#46039f"
             ],
             [
              0.2222222222222222,
              "#7201a8"
             ],
             [
              0.3333333333333333,
              "#9c179e"
             ],
             [
              0.4444444444444444,
              "#bd3786"
             ],
             [
              0.5555555555555556,
              "#d8576b"
             ],
             [
              0.6666666666666666,
              "#ed7953"
             ],
             [
              0.7777777777777778,
              "#fb9f3a"
             ],
             [
              0.8888888888888888,
              "#fdca26"
             ],
             [
              1,
              "#f0f921"
             ]
            ],
            "type": "heatmap"
           }
          ],
          "heatmapgl": [
           {
            "colorbar": {
             "outlinewidth": 0,
             "ticks": ""
            },
            "colorscale": [
             [
              0,
              "#0d0887"
             ],
             [
              0.1111111111111111,
              "#46039f"
             ],
             [
              0.2222222222222222,
              "#7201a8"
             ],
             [
              0.3333333333333333,
              "#9c179e"
             ],
             [
              0.4444444444444444,
              "#bd3786"
             ],
             [
              0.5555555555555556,
              "#d8576b"
             ],
             [
              0.6666666666666666,
              "#ed7953"
             ],
             [
              0.7777777777777778,
              "#fb9f3a"
             ],
             [
              0.8888888888888888,
              "#fdca26"
             ],
             [
              1,
              "#f0f921"
             ]
            ],
            "type": "heatmapgl"
           }
          ],
          "histogram": [
           {
            "marker": {
             "colorbar": {
              "outlinewidth": 0,
              "ticks": ""
             }
            },
            "type": "histogram"
           }
          ],
          "histogram2d": [
           {
            "colorbar": {
             "outlinewidth": 0,
             "ticks": ""
            },
            "colorscale": [
             [
              0,
              "#0d0887"
             ],
             [
              0.1111111111111111,
              "#46039f"
             ],
             [
              0.2222222222222222,
              "#7201a8"
             ],
             [
              0.3333333333333333,
              "#9c179e"
             ],
             [
              0.4444444444444444,
              "#bd3786"
             ],
             [
              0.5555555555555556,
              "#d8576b"
             ],
             [
              0.6666666666666666,
              "#ed7953"
             ],
             [
              0.7777777777777778,
              "#fb9f3a"
             ],
             [
              0.8888888888888888,
              "#fdca26"
             ],
             [
              1,
              "#f0f921"
             ]
            ],
            "type": "histogram2d"
           }
          ],
          "histogram2dcontour": [
           {
            "colorbar": {
             "outlinewidth": 0,
             "ticks": ""
            },
            "colorscale": [
             [
              0,
              "#0d0887"
             ],
             [
              0.1111111111111111,
              "#46039f"
             ],
             [
              0.2222222222222222,
              "#7201a8"
             ],
             [
              0.3333333333333333,
              "#9c179e"
             ],
             [
              0.4444444444444444,
              "#bd3786"
             ],
             [
              0.5555555555555556,
              "#d8576b"
             ],
             [
              0.6666666666666666,
              "#ed7953"
             ],
             [
              0.7777777777777778,
              "#fb9f3a"
             ],
             [
              0.8888888888888888,
              "#fdca26"
             ],
             [
              1,
              "#f0f921"
             ]
            ],
            "type": "histogram2dcontour"
           }
          ],
          "mesh3d": [
           {
            "colorbar": {
             "outlinewidth": 0,
             "ticks": ""
            },
            "type": "mesh3d"
           }
          ],
          "parcoords": [
           {
            "line": {
             "colorbar": {
              "outlinewidth": 0,
              "ticks": ""
             }
            },
            "type": "parcoords"
           }
          ],
          "scatter": [
           {
            "marker": {
             "colorbar": {
              "outlinewidth": 0,
              "ticks": ""
             }
            },
            "type": "scatter"
           }
          ],
          "scatter3d": [
           {
            "line": {
             "colorbar": {
              "outlinewidth": 0,
              "ticks": ""
             }
            },
            "marker": {
             "colorbar": {
              "outlinewidth": 0,
              "ticks": ""
             }
            },
            "type": "scatter3d"
           }
          ],
          "scattercarpet": [
           {
            "marker": {
             "colorbar": {
              "outlinewidth": 0,
              "ticks": ""
             }
            },
            "type": "scattercarpet"
           }
          ],
          "scattergeo": [
           {
            "marker": {
             "colorbar": {
              "outlinewidth": 0,
              "ticks": ""
             }
            },
            "type": "scattergeo"
           }
          ],
          "scattergl": [
           {
            "marker": {
             "colorbar": {
              "outlinewidth": 0,
              "ticks": ""
             }
            },
            "type": "scattergl"
           }
          ],
          "scattermapbox": [
           {
            "marker": {
             "colorbar": {
              "outlinewidth": 0,
              "ticks": ""
             }
            },
            "type": "scattermapbox"
           }
          ],
          "scatterpolar": [
           {
            "marker": {
             "colorbar": {
              "outlinewidth": 0,
              "ticks": ""
             }
            },
            "type": "scatterpolar"
           }
          ],
          "scatterpolargl": [
           {
            "marker": {
             "colorbar": {
              "outlinewidth": 0,
              "ticks": ""
             }
            },
            "type": "scatterpolargl"
           }
          ],
          "scatterternary": [
           {
            "marker": {
             "colorbar": {
              "outlinewidth": 0,
              "ticks": ""
             }
            },
            "type": "scatterternary"
           }
          ],
          "surface": [
           {
            "colorbar": {
             "outlinewidth": 0,
             "ticks": ""
            },
            "colorscale": [
             [
              0,
              "#0d0887"
             ],
             [
              0.1111111111111111,
              "#46039f"
             ],
             [
              0.2222222222222222,
              "#7201a8"
             ],
             [
              0.3333333333333333,
              "#9c179e"
             ],
             [
              0.4444444444444444,
              "#bd3786"
             ],
             [
              0.5555555555555556,
              "#d8576b"
             ],
             [
              0.6666666666666666,
              "#ed7953"
             ],
             [
              0.7777777777777778,
              "#fb9f3a"
             ],
             [
              0.8888888888888888,
              "#fdca26"
             ],
             [
              1,
              "#f0f921"
             ]
            ],
            "type": "surface"
           }
          ],
          "table": [
           {
            "cells": {
             "fill": {
              "color": "#EBF0F8"
             },
             "line": {
              "color": "white"
             }
            },
            "header": {
             "fill": {
              "color": "#C8D4E3"
             },
             "line": {
              "color": "white"
             }
            },
            "type": "table"
           }
          ]
         },
         "layout": {
          "annotationdefaults": {
           "arrowcolor": "#2a3f5f",
           "arrowhead": 0,
           "arrowwidth": 1
          },
          "colorscale": {
           "diverging": [
            [
             0,
             "#8e0152"
            ],
            [
             0.1,
             "#c51b7d"
            ],
            [
             0.2,
             "#de77ae"
            ],
            [
             0.3,
             "#f1b6da"
            ],
            [
             0.4,
             "#fde0ef"
            ],
            [
             0.5,
             "#f7f7f7"
            ],
            [
             0.6,
             "#e6f5d0"
            ],
            [
             0.7,
             "#b8e186"
            ],
            [
             0.8,
             "#7fbc41"
            ],
            [
             0.9,
             "#4d9221"
            ],
            [
             1,
             "#276419"
            ]
           ],
           "sequential": [
            [
             0,
             "#0d0887"
            ],
            [
             0.1111111111111111,
             "#46039f"
            ],
            [
             0.2222222222222222,
             "#7201a8"
            ],
            [
             0.3333333333333333,
             "#9c179e"
            ],
            [
             0.4444444444444444,
             "#bd3786"
            ],
            [
             0.5555555555555556,
             "#d8576b"
            ],
            [
             0.6666666666666666,
             "#ed7953"
            ],
            [
             0.7777777777777778,
             "#fb9f3a"
            ],
            [
             0.8888888888888888,
             "#fdca26"
            ],
            [
             1,
             "#f0f921"
            ]
           ],
           "sequentialminus": [
            [
             0,
             "#0d0887"
            ],
            [
             0.1111111111111111,
             "#46039f"
            ],
            [
             0.2222222222222222,
             "#7201a8"
            ],
            [
             0.3333333333333333,
             "#9c179e"
            ],
            [
             0.4444444444444444,
             "#bd3786"
            ],
            [
             0.5555555555555556,
             "#d8576b"
            ],
            [
             0.6666666666666666,
             "#ed7953"
            ],
            [
             0.7777777777777778,
             "#fb9f3a"
            ],
            [
             0.8888888888888888,
             "#fdca26"
            ],
            [
             1,
             "#f0f921"
            ]
           ]
          },
          "colorway": [
           "#636efa",
           "#EF553B",
           "#00cc96",
           "#ab63fa",
           "#FFA15A",
           "#19d3f3",
           "#FF6692",
           "#B6E880",
           "#FF97FF",
           "#FECB52"
          ],
          "font": {
           "color": "#2a3f5f"
          },
          "geo": {
           "bgcolor": "white",
           "lakecolor": "white",
           "landcolor": "#E5ECF6",
           "showlakes": true,
           "showland": true,
           "subunitcolor": "white"
          },
          "hoverlabel": {
           "align": "left"
          },
          "hovermode": "closest",
          "mapbox": {
           "style": "light"
          },
          "paper_bgcolor": "white",
          "plot_bgcolor": "#E5ECF6",
          "polar": {
           "angularaxis": {
            "gridcolor": "white",
            "linecolor": "white",
            "ticks": ""
           },
           "bgcolor": "#E5ECF6",
           "radialaxis": {
            "gridcolor": "white",
            "linecolor": "white",
            "ticks": ""
           }
          },
          "scene": {
           "xaxis": {
            "backgroundcolor": "#E5ECF6",
            "gridcolor": "white",
            "gridwidth": 2,
            "linecolor": "white",
            "showbackground": true,
            "ticks": "",
            "zerolinecolor": "white"
           },
           "yaxis": {
            "backgroundcolor": "#E5ECF6",
            "gridcolor": "white",
            "gridwidth": 2,
            "linecolor": "white",
            "showbackground": true,
            "ticks": "",
            "zerolinecolor": "white"
           },
           "zaxis": {
            "backgroundcolor": "#E5ECF6",
            "gridcolor": "white",
            "gridwidth": 2,
            "linecolor": "white",
            "showbackground": true,
            "ticks": "",
            "zerolinecolor": "white"
           }
          },
          "shapedefaults": {
           "line": {
            "color": "#2a3f5f"
           }
          },
          "ternary": {
           "aaxis": {
            "gridcolor": "white",
            "linecolor": "white",
            "ticks": ""
           },
           "baxis": {
            "gridcolor": "white",
            "linecolor": "white",
            "ticks": ""
           },
           "bgcolor": "#E5ECF6",
           "caxis": {
            "gridcolor": "white",
            "linecolor": "white",
            "ticks": ""
           }
          },
          "title": {
           "x": 0.05
          },
          "xaxis": {
           "automargin": true,
           "gridcolor": "white",
           "linecolor": "white",
           "ticks": "",
           "zerolinecolor": "white",
           "zerolinewidth": 2
          },
          "yaxis": {
           "automargin": true,
           "gridcolor": "white",
           "linecolor": "white",
           "ticks": "",
           "zerolinecolor": "white",
           "zerolinewidth": 2
          }
         }
        },
        "title": {
         "text": "AtrialFibrillation"
        }
       }
      },
      "text/html": [
       "<div>\n",
       "        \n",
       "        \n",
       "            <div id=\"8ebbdac4-0851-4964-a68c-443a23875542\" class=\"plotly-graph-div\" style=\"height:600px; width:100%;\"></div>\n",
       "            <script type=\"text/javascript\">\n",
       "                require([\"plotly\"], function(Plotly) {\n",
       "                    window.PLOTLYENV=window.PLOTLYENV || {};\n",
       "                    \n",
       "                if (document.getElementById(\"8ebbdac4-0851-4964-a68c-443a23875542\")) {\n",
       "                    Plotly.newPlot(\n",
       "                        '8ebbdac4-0851-4964-a68c-443a23875542',\n",
       "                        [{\"hoverlabel\": {\"namelength\": 0}, \"hovertemplate\": \"label=n<br>train_test=train_real<br>x=%{x}<br>y=%{y}<br>z=%{z}\", \"legendgroup\": \"label=n, train_test=train_real\", \"marker\": {\"color\": \"#636efa\", \"symbol\": \"circle\"}, \"mode\": \"markers\", \"name\": \"label=n, train_test=train_real\", \"scene\": \"scene\", \"showlegend\": true, \"type\": \"scatter3d\", \"x\": [\"62.125397\", \"165.76727\", \"229.56073\", \"120.867546\", \"-40.275364\"], \"y\": [\"-8.78937\", \"92.02188\", \"-72.49044\", \"32.59195\", \"14.921873\"], \"z\": [\"129.7218\", \"-142.6001\", \"31.388264\", \"-65.34673\", \"115.718346\"]}, {\"hoverlabel\": {\"namelength\": 0}, \"hovertemplate\": \"label=n<br>train_test=test<br>x=%{x}<br>y=%{y}<br>z=%{z}\", \"legendgroup\": \"label=n, train_test=test\", \"marker\": {\"color\": \"#636efa\", \"symbol\": \"cross\"}, \"mode\": \"markers\", \"name\": \"label=n, train_test=test\", \"scene\": \"scene\", \"showlegend\": true, \"type\": \"scatter3d\", \"x\": [\"88.52161\", \"-168.6598\", \"180.46382\", \"113.12307\", \"-188.84998\"], \"y\": [\"-96.42191\", \"3.1911373\", \"173.29161\", \"955.8367\", \"-148.11723\"], \"z\": [\"100.16867\", \"-192.9347\", \"71.7824\", \"64.7616\", \"252.33984\"]}, {\"hoverlabel\": {\"namelength\": 0}, \"hovertemplate\": \"label=n<br>train_test=train_synthetic<br>x=%{x}<br>y=%{y}<br>z=%{z}\", \"legendgroup\": \"label=n, train_test=train_synthetic\", \"marker\": {\"color\": \"#636efa\", \"symbol\": \"circle-open\"}, \"mode\": \"markers\", \"name\": \"label=n, train_test=train_synthetic\", \"scene\": \"scene\", \"showlegend\": true, \"type\": \"scatter3d\", \"x\": [\"-179.80914\", \"-90.8822\", \"-5.0408697\", \"146.50333\", \"-222.47466\", \"-176.60005\", \"-21.504229\", \"120.77679\", \"-83.36292\", \"169.46173\", \"-17.87107\", \"-163.18805\", \"-56.30068\", \"906.5605\", \"-349.73523\", \"80.9624\", \"190.54433\", \"66.142296\", \"-117.34458\", \"368.0597\"], \"y\": [\"-61.279205\", \"-60.23088\", \"-62.404015\", \"-93.88835\", \"-31.372528\", \"-150.35805\", \"-109.27918\", \"232.41692\", \"-174.6548\", \"-46.169167\", \"-95.77332\", \"-100.59982\", \"65.804825\", \"10.99374\", \"-19.553679\", \"-155.66763\", \"-33.56175\", \"-54.152187\", \"-89.35608\", \"142.8188\"], \"z\": [\"27.174091\", \"10.52565\", \"67.43403\", \"-67.24196\", \"99.20889\", \"2.2196958\", \"166.79938\", \"-37.14746\", \"2.755072\", \"160.32988\", \"-29.717697\", \"372.4518\", \"-238.84619\", \"-911.1885\", \"465.0184\", \"-24.76128\", \"-126.345764\", \"6.2977405\", \"100.74088\", \"-336.93686\"]}, {\"hoverlabel\": {\"namelength\": 0}, \"hovertemplate\": \"label=s<br>train_test=train_real<br>x=%{x}<br>y=%{y}<br>z=%{z}\", \"legendgroup\": \"label=s, train_test=train_real\", \"marker\": {\"color\": \"#EF553B\", \"symbol\": \"circle\"}, \"mode\": \"markers\", \"name\": \"label=s, train_test=train_real\", \"scene\": \"scene\", \"showlegend\": true, \"type\": \"scatter3d\", \"x\": [\"53.795513\", \"144.74207\", \"124.900055\", \"-426.12997\", \"-33.32024\"], \"y\": [\"47.89798\", \"-9.252644\", \"119.67351\", \"378.05032\", \"104.435265\"], \"z\": [\"23.74949\", \"54.246437\", \"-240.93161\", \"-81.838326\", \"65.29172\"]}, {\"hoverlabel\": {\"namelength\": 0}, \"hovertemplate\": \"label=s<br>train_test=test<br>x=%{x}<br>y=%{y}<br>z=%{z}\", \"legendgroup\": \"label=s, train_test=test\", \"marker\": {\"color\": \"#EF553B\", \"symbol\": \"cross\"}, \"mode\": \"markers\", \"name\": \"label=s, train_test=test\", \"scene\": \"scene\", \"showlegend\": true, \"type\": \"scatter3d\", \"x\": [\"-122.4636\", \"-43.48842\", \"66.104996\", \"267.27597\", \"128.75899\"], \"y\": [\"-41.106243\", \"231.87065\", \"88.28087\", \"125.45553\", \"132.5805\"], \"z\": [\"205.32907\", \"55.503746\", \"112.05346\", \"-197.48454\", \"-44.017483\"]}, {\"hoverlabel\": {\"namelength\": 0}, \"hovertemplate\": \"label=s<br>train_test=train_synthetic<br>x=%{x}<br>y=%{y}<br>z=%{z}\", \"legendgroup\": \"label=s, train_test=train_synthetic\", \"marker\": {\"color\": \"#EF553B\", \"symbol\": \"circle-open\"}, \"mode\": \"markers\", \"name\": \"label=s, train_test=train_synthetic\", \"scene\": \"scene\", \"showlegend\": true, \"type\": \"scatter3d\", \"x\": [\"-248.36684\", \"20.97742\", \"5.011857\", \"6.5407305\", \"-86.21559\", \"-10.034384\", \"51.54547\", \"254.44356\", \"577.27356\", \"-46.22533\", \"-379.03198\", \"208.87578\", \"50.62068\", \"34.496033\", \"-128.0012\", \"-140.7829\", \"-102.15722\", \"-98.53578\", \"-44.546234\", \"-199.29541\"], \"y\": [\"0.35924774\", \"-239.46826\", \"168.15787\", \"-172.48468\", \"-100.16404\", \"0.62901294\", \"67.520905\", \"12.86703\", \"466.372\", \"36.62365\", \"173.44684\", \"-120.66775\", \"201.43501\", \"-213.41548\", \"158.34758\", \"209.06093\", \"75.11526\", \"116.41896\", \"208.36272\", \"-69.84135\"], \"z\": [\"-40.117233\", \"-37.759247\", \"-159.29222\", \"49.388386\", \"-205.06972\", \"227.66248\", \"-183.75627\", \"-43.39067\", \"146.0799\", \"-8.93051\", \"-438.52444\", \"384.3676\", \"77.574486\", \"132.27383\", \"-114.68715\", \"-1.6585095\", \"186.85806\", \"-18.970888\", \"-71.09435\", \"-103.58837\"]}, {\"hoverlabel\": {\"namelength\": 0}, \"hovertemplate\": \"label=t<br>train_test=train_real<br>x=%{x}<br>y=%{y}<br>z=%{z}\", \"legendgroup\": \"label=t, train_test=train_real\", \"marker\": {\"color\": \"#00cc96\", \"symbol\": \"circle\"}, \"mode\": \"markers\", \"name\": \"label=t, train_test=train_real\", \"scene\": \"scene\", \"showlegend\": true, \"type\": \"scatter3d\", \"x\": [\"119.723\", \"-259.2273\", \"170.5988\", \"227.57106\", \"-217.02861\"], \"y\": [\"110.7556\", \"-94.479355\", \"-168.00099\", \"39.667713\", \"89.76436\"], \"z\": [\"50.6289\", \"175.45158\", \"38.546234\", \"112.96624\", \"35.41651\"]}, {\"hoverlabel\": {\"namelength\": 0}, \"hovertemplate\": \"label=t<br>train_test=test<br>x=%{x}<br>y=%{y}<br>z=%{z}\", \"legendgroup\": \"label=t, train_test=test\", \"marker\": {\"color\": \"#00cc96\", \"symbol\": \"cross\"}, \"mode\": \"markers\", \"name\": \"label=t, train_test=test\", \"scene\": \"scene\", \"showlegend\": true, \"type\": \"scatter3d\", \"x\": [\"-124.92054\", \"-174.02087\", \"-96.091965\", \"189.92986\", \"-303.7575\"], \"y\": [\"143.48793\", \"-980.8587\", \"-194.15193\", \"75.54801\", \"-484.52985\"], \"z\": [\"99.46602\", \"-30.27497\", \"121.89346\", \"6.6438417\", \"-111.347496\"]}, {\"hoverlabel\": {\"namelength\": 0}, \"hovertemplate\": \"label=t<br>train_test=train_synthetic<br>x=%{x}<br>y=%{y}<br>z=%{z}\", \"legendgroup\": \"label=t, train_test=train_synthetic\", \"marker\": {\"color\": \"#00cc96\", \"symbol\": \"circle-open\"}, \"mode\": \"markers\", \"name\": \"label=t, train_test=train_synthetic\", \"scene\": \"scene\", \"showlegend\": true, \"type\": \"scatter3d\", \"x\": [\"67.950386\", \"29.928751\", \"85.71179\", \"-312.02167\", \"-140.61743\", \"144.38916\", \"-2932.0703\", \"1.0271797\", \"11.637244\", \"20.630213\", \"94.267166\", \"-54.465157\", \"-5.06815\", \"140.77264\", \"-86.545395\", \"1.862963\", \"615.13666\", \"-130.89691\", \"-54.7032\", \"-105.49873\"], \"y\": [\"-142.35582\", \"-13.036308\", \"-43.501137\", \"87.267876\", \"19.31746\", \"127.12247\", \"554.054\", \"76.45215\", \"-118.65148\", \"140.53207\", \"41.5908\", \"-27.194698\", \"145.75847\", \"-153.47034\", \"61.841686\", \"-33.062252\", \"-262.9319\", \"34.68362\", \"-198.01022\", \"-109.706\"], \"z\": [\"-202.73357\", \"-86.34659\", \"-153.70767\", \"-110.56616\", \"-61.960236\", \"180.62576\", \"-4873.8325\", \"-94.63817\", \"-123.50319\", \"-25.83112\", \"220.19661\", \"-123.76598\", \"176.69751\", \"166.3407\", \"-132.69926\", \"-207.2321\", \"1535.8688\", \"64.10666\", \"-122.56866\", \"-96.242325\"]}],\n",
       "                        {\"height\": 600, \"legend\": {\"tracegroupgap\": 0}, \"scene\": {\"domain\": {\"x\": [0.0, 0.98], \"y\": [0.0, 1.0]}, \"xaxis\": {\"title\": {\"text\": \"x\"}}, \"yaxis\": {\"title\": {\"text\": \"y\"}}, \"zaxis\": {\"title\": {\"text\": \"z\"}}}, \"template\": {\"data\": {\"bar\": [{\"error_x\": {\"color\": \"#2a3f5f\"}, \"error_y\": {\"color\": \"#2a3f5f\"}, \"marker\": {\"line\": {\"color\": \"#E5ECF6\", \"width\": 0.5}}, \"type\": \"bar\"}], \"barpolar\": [{\"marker\": {\"line\": {\"color\": \"#E5ECF6\", \"width\": 0.5}}, \"type\": \"barpolar\"}], \"carpet\": [{\"aaxis\": {\"endlinecolor\": \"#2a3f5f\", \"gridcolor\": \"white\", \"linecolor\": \"white\", \"minorgridcolor\": \"white\", \"startlinecolor\": \"#2a3f5f\"}, \"baxis\": {\"endlinecolor\": \"#2a3f5f\", \"gridcolor\": \"white\", \"linecolor\": \"white\", \"minorgridcolor\": \"white\", \"startlinecolor\": \"#2a3f5f\"}, \"type\": \"carpet\"}], \"choropleth\": [{\"colorbar\": {\"outlinewidth\": 0, \"ticks\": \"\"}, \"type\": \"choropleth\"}], \"contour\": [{\"colorbar\": {\"outlinewidth\": 0, \"ticks\": \"\"}, \"colorscale\": [[0.0, \"#0d0887\"], [0.1111111111111111, \"#46039f\"], [0.2222222222222222, \"#7201a8\"], [0.3333333333333333, \"#9c179e\"], [0.4444444444444444, \"#bd3786\"], [0.5555555555555556, \"#d8576b\"], [0.6666666666666666, \"#ed7953\"], [0.7777777777777778, \"#fb9f3a\"], [0.8888888888888888, \"#fdca26\"], [1.0, \"#f0f921\"]], \"type\": \"contour\"}], \"contourcarpet\": [{\"colorbar\": {\"outlinewidth\": 0, \"ticks\": \"\"}, \"type\": \"contourcarpet\"}], \"heatmap\": [{\"colorbar\": {\"outlinewidth\": 0, \"ticks\": \"\"}, \"colorscale\": [[0.0, \"#0d0887\"], [0.1111111111111111, \"#46039f\"], [0.2222222222222222, \"#7201a8\"], [0.3333333333333333, \"#9c179e\"], [0.4444444444444444, \"#bd3786\"], [0.5555555555555556, \"#d8576b\"], [0.6666666666666666, \"#ed7953\"], [0.7777777777777778, \"#fb9f3a\"], [0.8888888888888888, \"#fdca26\"], [1.0, \"#f0f921\"]], \"type\": \"heatmap\"}], \"heatmapgl\": [{\"colorbar\": {\"outlinewidth\": 0, \"ticks\": \"\"}, \"colorscale\": [[0.0, \"#0d0887\"], [0.1111111111111111, \"#46039f\"], [0.2222222222222222, \"#7201a8\"], [0.3333333333333333, \"#9c179e\"], [0.4444444444444444, \"#bd3786\"], [0.5555555555555556, \"#d8576b\"], [0.6666666666666666, \"#ed7953\"], [0.7777777777777778, \"#fb9f3a\"], [0.8888888888888888, \"#fdca26\"], [1.0, \"#f0f921\"]], \"type\": \"heatmapgl\"}], \"histogram\": [{\"marker\": {\"colorbar\": {\"outlinewidth\": 0, \"ticks\": \"\"}}, \"type\": \"histogram\"}], \"histogram2d\": [{\"colorbar\": {\"outlinewidth\": 0, \"ticks\": \"\"}, \"colorscale\": [[0.0, \"#0d0887\"], [0.1111111111111111, \"#46039f\"], [0.2222222222222222, \"#7201a8\"], [0.3333333333333333, \"#9c179e\"], [0.4444444444444444, \"#bd3786\"], [0.5555555555555556, \"#d8576b\"], [0.6666666666666666, \"#ed7953\"], [0.7777777777777778, \"#fb9f3a\"], [0.8888888888888888, \"#fdca26\"], [1.0, \"#f0f921\"]], \"type\": \"histogram2d\"}], \"histogram2dcontour\": [{\"colorbar\": {\"outlinewidth\": 0, \"ticks\": \"\"}, \"colorscale\": [[0.0, \"#0d0887\"], [0.1111111111111111, \"#46039f\"], [0.2222222222222222, \"#7201a8\"], [0.3333333333333333, \"#9c179e\"], [0.4444444444444444, \"#bd3786\"], [0.5555555555555556, \"#d8576b\"], [0.6666666666666666, \"#ed7953\"], [0.7777777777777778, \"#fb9f3a\"], [0.8888888888888888, \"#fdca26\"], [1.0, \"#f0f921\"]], \"type\": \"histogram2dcontour\"}], \"mesh3d\": [{\"colorbar\": {\"outlinewidth\": 0, \"ticks\": \"\"}, \"type\": \"mesh3d\"}], \"parcoords\": [{\"line\": {\"colorbar\": {\"outlinewidth\": 0, \"ticks\": \"\"}}, \"type\": \"parcoords\"}], \"scatter\": [{\"marker\": {\"colorbar\": {\"outlinewidth\": 0, \"ticks\": \"\"}}, \"type\": \"scatter\"}], \"scatter3d\": [{\"line\": {\"colorbar\": {\"outlinewidth\": 0, \"ticks\": \"\"}}, \"marker\": {\"colorbar\": {\"outlinewidth\": 0, \"ticks\": \"\"}}, \"type\": \"scatter3d\"}], \"scattercarpet\": [{\"marker\": {\"colorbar\": {\"outlinewidth\": 0, \"ticks\": \"\"}}, \"type\": \"scattercarpet\"}], \"scattergeo\": [{\"marker\": {\"colorbar\": {\"outlinewidth\": 0, \"ticks\": \"\"}}, \"type\": \"scattergeo\"}], \"scattergl\": [{\"marker\": {\"colorbar\": {\"outlinewidth\": 0, \"ticks\": \"\"}}, \"type\": \"scattergl\"}], \"scattermapbox\": [{\"marker\": {\"colorbar\": {\"outlinewidth\": 0, \"ticks\": \"\"}}, \"type\": \"scattermapbox\"}], \"scatterpolar\": [{\"marker\": {\"colorbar\": {\"outlinewidth\": 0, \"ticks\": \"\"}}, \"type\": \"scatterpolar\"}], \"scatterpolargl\": [{\"marker\": {\"colorbar\": {\"outlinewidth\": 0, \"ticks\": \"\"}}, \"type\": \"scatterpolargl\"}], \"scatterternary\": [{\"marker\": {\"colorbar\": {\"outlinewidth\": 0, \"ticks\": \"\"}}, \"type\": \"scatterternary\"}], \"surface\": [{\"colorbar\": {\"outlinewidth\": 0, \"ticks\": \"\"}, \"colorscale\": [[0.0, \"#0d0887\"], [0.1111111111111111, \"#46039f\"], [0.2222222222222222, \"#7201a8\"], [0.3333333333333333, \"#9c179e\"], [0.4444444444444444, \"#bd3786\"], [0.5555555555555556, \"#d8576b\"], [0.6666666666666666, \"#ed7953\"], [0.7777777777777778, \"#fb9f3a\"], [0.8888888888888888, \"#fdca26\"], [1.0, \"#f0f921\"]], \"type\": \"surface\"}], \"table\": [{\"cells\": {\"fill\": {\"color\": \"#EBF0F8\"}, \"line\": {\"color\": \"white\"}}, \"header\": {\"fill\": {\"color\": \"#C8D4E3\"}, \"line\": {\"color\": \"white\"}}, \"type\": \"table\"}]}, \"layout\": {\"annotationdefaults\": {\"arrowcolor\": \"#2a3f5f\", \"arrowhead\": 0, \"arrowwidth\": 1}, \"colorscale\": {\"diverging\": [[0, \"#8e0152\"], [0.1, \"#c51b7d\"], [0.2, \"#de77ae\"], [0.3, \"#f1b6da\"], [0.4, \"#fde0ef\"], [0.5, \"#f7f7f7\"], [0.6, \"#e6f5d0\"], [0.7, \"#b8e186\"], [0.8, \"#7fbc41\"], [0.9, \"#4d9221\"], [1, \"#276419\"]], \"sequential\": [[0.0, \"#0d0887\"], [0.1111111111111111, \"#46039f\"], [0.2222222222222222, \"#7201a8\"], [0.3333333333333333, \"#9c179e\"], [0.4444444444444444, \"#bd3786\"], [0.5555555555555556, \"#d8576b\"], [0.6666666666666666, \"#ed7953\"], [0.7777777777777778, \"#fb9f3a\"], [0.8888888888888888, \"#fdca26\"], [1.0, \"#f0f921\"]], \"sequentialminus\": [[0.0, \"#0d0887\"], [0.1111111111111111, \"#46039f\"], [0.2222222222222222, \"#7201a8\"], [0.3333333333333333, \"#9c179e\"], [0.4444444444444444, \"#bd3786\"], [0.5555555555555556, \"#d8576b\"], [0.6666666666666666, \"#ed7953\"], [0.7777777777777778, \"#fb9f3a\"], [0.8888888888888888, \"#fdca26\"], [1.0, \"#f0f921\"]]}, \"colorway\": [\"#636efa\", \"#EF553B\", \"#00cc96\", \"#ab63fa\", \"#FFA15A\", \"#19d3f3\", \"#FF6692\", \"#B6E880\", \"#FF97FF\", \"#FECB52\"], \"font\": {\"color\": \"#2a3f5f\"}, \"geo\": {\"bgcolor\": \"white\", \"lakecolor\": \"white\", \"landcolor\": \"#E5ECF6\", \"showlakes\": true, \"showland\": true, \"subunitcolor\": \"white\"}, \"hoverlabel\": {\"align\": \"left\"}, \"hovermode\": \"closest\", \"mapbox\": {\"style\": \"light\"}, \"paper_bgcolor\": \"white\", \"plot_bgcolor\": \"#E5ECF6\", \"polar\": {\"angularaxis\": {\"gridcolor\": \"white\", \"linecolor\": \"white\", \"ticks\": \"\"}, \"bgcolor\": \"#E5ECF6\", \"radialaxis\": {\"gridcolor\": \"white\", \"linecolor\": \"white\", \"ticks\": \"\"}}, \"scene\": {\"xaxis\": {\"backgroundcolor\": \"#E5ECF6\", \"gridcolor\": \"white\", \"gridwidth\": 2, \"linecolor\": \"white\", \"showbackground\": true, \"ticks\": \"\", \"zerolinecolor\": \"white\"}, \"yaxis\": {\"backgroundcolor\": \"#E5ECF6\", \"gridcolor\": \"white\", \"gridwidth\": 2, \"linecolor\": \"white\", \"showbackground\": true, \"ticks\": \"\", \"zerolinecolor\": \"white\"}, \"zaxis\": {\"backgroundcolor\": \"#E5ECF6\", \"gridcolor\": \"white\", \"gridwidth\": 2, \"linecolor\": \"white\", \"showbackground\": true, \"ticks\": \"\", \"zerolinecolor\": \"white\"}}, \"shapedefaults\": {\"line\": {\"color\": \"#2a3f5f\"}}, \"ternary\": {\"aaxis\": {\"gridcolor\": \"white\", \"linecolor\": \"white\", \"ticks\": \"\"}, \"baxis\": {\"gridcolor\": \"white\", \"linecolor\": \"white\", \"ticks\": \"\"}, \"bgcolor\": \"#E5ECF6\", \"caxis\": {\"gridcolor\": \"white\", \"linecolor\": \"white\", \"ticks\": \"\"}}, \"title\": {\"x\": 0.05}, \"xaxis\": {\"automargin\": true, \"gridcolor\": \"white\", \"linecolor\": \"white\", \"ticks\": \"\", \"zerolinecolor\": \"white\", \"zerolinewidth\": 2}, \"yaxis\": {\"automargin\": true, \"gridcolor\": \"white\", \"linecolor\": \"white\", \"ticks\": \"\", \"zerolinecolor\": \"white\", \"zerolinewidth\": 2}}}, \"title\": {\"text\": \"AtrialFibrillation\"}},\n",
       "                        {\"responsive\": true}\n",
       "                    ).then(function(){\n",
       "                            \n",
       "var gd = document.getElementById('8ebbdac4-0851-4964-a68c-443a23875542');\n",
       "var x = new MutationObserver(function (mutations, observer) {{\n",
       "        var display = window.getComputedStyle(gd).display;\n",
       "        if (!display || display === 'none') {{\n",
       "            console.log([gd, 'removed!']);\n",
       "            Plotly.purge(gd);\n",
       "            observer.disconnect();\n",
       "        }}\n",
       "}});\n",
       "\n",
       "// Listen for the removal of the full notebook cells\n",
       "var notebookContainer = gd.closest('#notebook-container');\n",
       "if (notebookContainer) {{\n",
       "    x.observe(notebookContainer, {childList: true});\n",
       "}}\n",
       "\n",
       "// Listen for the clearing of the current output cell\n",
       "var outputEl = gd.closest('.output');\n",
       "if (outputEl) {{\n",
       "    x.observe(outputEl, {childList: true});\n",
       "}}\n",
       "\n",
       "                        })\n",
       "                };\n",
       "                });\n",
       "            </script>\n",
       "        </div>"
      ]
     },
     "metadata": {},
     "output_type": "display_data"
    },
    {
     "name": "stdout",
     "output_type": "stream",
     "text": [
      "Time (s): 2.484375\n",
      "-----------\n",
      "-----------\n",
      "Epilepsy\n",
      "# replicates: 137\n",
      "# dimensions: 3\n",
      "length of series: 206\n",
      "# classes: 4\n",
      "total 'size': 84666\n"
     ]
    },
    {
     "data": {
      "application/vnd.plotly.v1+json": {
       "config": {
        "plotlyServerURL": "https://plot.ly"
       },
       "data": [
        {
         "hoverlabel": {
          "namelength": 0
         },
         "hovertemplate": "label=epilepsy<br>train_test=train_real<br>x=%{x}<br>y=%{y}<br>z=%{z}",
         "legendgroup": "label=epilepsy, train_test=train_real",
         "marker": {
          "color": "#636efa",
          "symbol": "circle"
         },
         "mode": "markers",
         "name": "label=epilepsy, train_test=train_real",
         "scene": "scene",
         "showlegend": true,
         "type": "scatter3d",
         "x": [
          "31.552166",
          "26.378916",
          "65.27135",
          "-7.601267",
          "35.613045",
          "15.220205",
          "-32.029793",
          "-14.006576",
          "12.0431",
          "13.601459",
          "57.97497",
          "55.510418",
          "-11.6646805",
          "-0.80107987",
          "13.252767",
          "41.986305",
          "-42.64733",
          "-49.645706",
          "2.598918",
          "16.127323",
          "8.914404",
          "14.952133",
          "-7.0450587",
          "37.248783",
          "-27.56056",
          "-8.51683",
          "18.285997",
          "6.4676003",
          "-47.029114",
          "-31.219381",
          "50.750607",
          "-92.642494",
          "75.53516",
          "-50.786274"
         ],
         "y": [
          "-33.85736",
          "110.47799",
          "-27.066221",
          "47.16849",
          "-36.769855",
          "30.758747",
          "-51.670914",
          "-33.08757",
          "-41.770153",
          "44.502747",
          "-22.071646",
          "-114.8879",
          "48.913406",
          "24.623625",
          "-12.32267",
          "10.007444",
          "23.536087",
          "6.6725965",
          "-47.647884",
          "35.23645",
          "13.44134",
          "-42.834354",
          "39.855854",
          "-10.553078",
          "1.1204833",
          "15.513892",
          "-19.107306",
          "56.66607",
          "-25.918072",
          "-14.851999",
          "-96.80914",
          "20.284428",
          "-4.883867",
          "11.681553"
         ],
         "z": [
          "-57.163647",
          "70.31983",
          "-26.398592",
          "-11.923945",
          "10.1018305",
          "-105.91791",
          "-10.3337555",
          "9.684519",
          "-0.74056005",
          "-69.02167",
          "-52.10464",
          "5.66953",
          "-39.41117",
          "-52.394436",
          "-17.068657",
          "-68.57397",
          "-19.49519",
          "48.114933",
          "23.211754",
          "-28.754112",
          "-86.86979",
          "-36.539032",
          "30.067629",
          "-0.49253023",
          "65.14965",
          "96.82233",
          "16.070358",
          "112.120804",
          "-29.14768",
          "112.953896",
          "60.63429",
          "19.33257",
          "-42.477127",
          "2.3901386"
         ]
        },
        {
         "hoverlabel": {
          "namelength": 0
         },
         "hovertemplate": "label=epilepsy<br>train_test=test<br>x=%{x}<br>y=%{y}<br>z=%{z}",
         "legendgroup": "label=epilepsy, train_test=test",
         "marker": {
          "color": "#636efa",
          "symbol": "cross"
         },
         "mode": "markers",
         "name": "label=epilepsy, train_test=test",
         "scene": "scene",
         "showlegend": true,
         "type": "scatter3d",
         "x": [
          "-52.06246",
          "47.21308",
          "-28.960524",
          "-10.160307",
          "-91.09214",
          "-8.891316",
          "3.473309",
          "-102.99706",
          "-71.70183",
          "-7.202762",
          "-160.20816",
          "-17.278673",
          "34.394302",
          "-64.03359",
          "-35.16327",
          "-42.238655",
          "12.464683",
          "-33.888866",
          "-7.7553825",
          "-20.533466",
          "-21.090406",
          "53.147987",
          "29.708595",
          "74.648895",
          "69.16628",
          "0.54967695",
          "-10.64286",
          "-8.880491",
          "56.672485",
          "-26.618006",
          "-2.6074858",
          "38.85222",
          "-31.962942",
          "45.21736"
         ],
         "y": [
          "-21.1938",
          "52.685757",
          "33.915977",
          "-10.541397",
          "-17.56389",
          "-76.92685",
          "-62.552322",
          "36.320442",
          "-49.960697",
          "-32.922863",
          "59.940327",
          "-73.05994",
          "-72.44789",
          "-2.1350162",
          "-3.0300324",
          "-36.555836",
          "28.958614",
          "27.700338",
          "20.325981",
          "-27.587582",
          "48.63491",
          "-58.50335",
          "-71.85867",
          "-38.778606",
          "-25.39537",
          "-18.530851",
          "35.76706",
          "21.318512",
          "-51.612473",
          "-16.115402",
          "-14.365118",
          "-36.309372",
          "36.05097",
          "-47.878113"
         ],
         "z": [
          "55.37401",
          "124.94898",
          "-0.115186535",
          "87.57988",
          "37.759785",
          "-2.6200218",
          "-18.586782",
          "65.20654",
          "-25.549255",
          "-27.128696",
          "-44.117077",
          "65.78582",
          "-24.250185",
          "-19.211985",
          "-31.027664",
          "37.282356",
          "0.9690555",
          "79.22815",
          "-105.50273",
          "66.327705",
          "95.02874",
          "-12.939929",
          "-54.251717",
          "-65.85138",
          "5.65581",
          "42.765007",
          "116.77882",
          "-17.038622",
          "-41.00098",
          "37.708084",
          "0.7170146",
          "-16.688278",
          "41.776077",
          "-75.418816"
         ]
        },
        {
         "hoverlabel": {
          "namelength": 0
         },
         "hovertemplate": "label=walking<br>train_test=train_real<br>x=%{x}<br>y=%{y}<br>z=%{z}",
         "legendgroup": "label=walking, train_test=train_real",
         "marker": {
          "color": "#EF553B",
          "symbol": "circle"
         },
         "mode": "markers",
         "name": "label=walking, train_test=train_real",
         "scene": "scene",
         "showlegend": true,
         "type": "scatter3d",
         "x": [
          "124.28931",
          "107.315544",
          "98.43876",
          "-56.485878",
          "110.14651",
          "-26.018448",
          "-41.72988",
          "47.07294",
          "-26.283598",
          "105.59124",
          "135.48633",
          "74.57944",
          "-86.05378",
          "62.96496",
          "123.183014",
          "100.81884",
          "-25.846834",
          "23.57018",
          "-52.07479",
          "-24.646053",
          "111.17003",
          "-49.774883",
          "124.31958",
          "-81.174034",
          "-111.962585",
          "-98.66047",
          "-79.79446",
          "-54.78388",
          "-79.67866",
          "-22.569368",
          "106.35068",
          "-35.845028",
          "101.3923",
          "-3.1165285",
          "84.81964",
          "131.0647",
          "-24.724676"
         ],
         "y": [
          "-33.39474",
          "-26.42764",
          "5.897161",
          "-120.719925",
          "-28.067669",
          "13.879958",
          "-68.91954",
          "-4.8016834",
          "12.885821",
          "-54.81825",
          "-14.000421",
          "7.284304",
          "93.279",
          "-19.305906",
          "11.769345",
          "-85.82058",
          "124.754745",
          "-2.895833",
          "81.77038",
          "100.631485",
          "-55.35013",
          "72.883484",
          "-3.1349268",
          "113.02982",
          "-73.245384",
          "94.27788",
          "129.77594",
          "91.727356",
          "88.337906",
          "96.86811",
          "-10.847155",
          "-110.38104",
          "25.990183",
          "2.0948052",
          "-47.411808",
          "22.875605",
          "84.994644"
         ],
         "z": [
          "51.092373",
          "-24.061087",
          "2.6724374",
          "8.794931",
          "-54.487083",
          "29.194635",
          "16.315283",
          "-111.38626",
          "126.004295",
          "-23.090158",
          "24.476707",
          "34.963978",
          "-49.976696",
          "37.214188",
          "29.96751",
          "-37.288513",
          "-8.2059145",
          "-41.91455",
          "-33.629154",
          "-45.400337",
          "-51.77103",
          "27.679712",
          "2.80988",
          "12.356299",
          "-30.371298",
          "-4.3986855",
          "-54.20775",
          "-62.331535",
          "-24.11707",
          "-16.865932",
          "24.380356",
          "36.998062",
          "17.391077",
          "124.416374",
          "-42.453327",
          "1.9773358",
          "52.298405"
         ]
        },
        {
         "hoverlabel": {
          "namelength": 0
         },
         "hovertemplate": "label=walking<br>train_test=test<br>x=%{x}<br>y=%{y}<br>z=%{z}",
         "legendgroup": "label=walking, train_test=test",
         "marker": {
          "color": "#EF553B",
          "symbol": "cross"
         },
         "mode": "markers",
         "name": "label=walking, train_test=test",
         "scene": "scene",
         "showlegend": true,
         "type": "scatter3d",
         "x": [
          "-80.85381",
          "-40.2158",
          "-54.09456",
          "90.073845",
          "133.73724",
          "132.34505",
          "119.93635",
          "-58.929623",
          "118.87321",
          "-26.029453",
          "-70.21548",
          "-43.61664",
          "-54.29377",
          "-92.66463",
          "127.508736",
          "-79.62693",
          "-64.87518",
          "-36.280033",
          "-41.188297",
          "-51.035526",
          "46.728798",
          "-83.86536",
          "-18.745653",
          "-53.6032",
          "135.71487",
          "109.28157",
          "-35.67657",
          "-32.737873",
          "-128.60286",
          "139.19997",
          "-57.810047",
          "-70.33782",
          "-71.43387",
          "-18.612211",
          "-88.41271",
          "-70.86676",
          "-55.926907"
         ],
         "y": [
          "-37.747364",
          "122.65197",
          "130.40671",
          "29.70319",
          "-2.5582645",
          "-41.210915",
          "40.46561",
          "147.42706",
          "-6.548922",
          "108.42679",
          "80.67269",
          "-12.215453",
          "-61.93092",
          "78.571724",
          "-38.730484",
          "61.956863",
          "108.825615",
          "9.961265",
          "101.84096",
          "-25.355465",
          "-74.65493",
          "47.000465",
          "-128.43916",
          "99.543816",
          "43.774075",
          "31.031893",
          "74.97215",
          "-9.806104",
          "63.516235",
          "-18.042768",
          "11.184451",
          "65.160835",
          "55.517815",
          "98.37143",
          "120.062294",
          "94.611496",
          "59.941044"
         ],
         "z": [
          "86.97258",
          "-35.18917",
          "-2.6410575",
          "-91.4617",
          "53.65463",
          "-37.049774",
          "30.04841",
          "-25.226467",
          "-39.570904",
          "48.151638",
          "1.3663282",
          "83.57813",
          "82.20068",
          "23.389544",
          "-8.835442",
          "-41.538887",
          "-35.329796",
          "100.2962",
          "22.50708",
          "-1.5748196",
          "88.682526",
          "-13.854334",
          "5.5297275",
          "-7.90586",
          "28.313147",
          "-18.641731",
          "3.718762",
          "-6.5767503",
          "8.8503065",
          "-25.280659",
          "79.56821",
          "46.601166",
          "16.198803",
          "73.37417",
          "-24.448595",
          "33.077656",
          "-14.903228"
         ]
        },
        {
         "hoverlabel": {
          "namelength": 0
         },
         "hovertemplate": "label=running<br>train_test=train_real<br>x=%{x}<br>y=%{y}<br>z=%{z}",
         "legendgroup": "label=running, train_test=train_real",
         "marker": {
          "color": "#00cc96",
          "symbol": "circle"
         },
         "mode": "markers",
         "name": "label=running, train_test=train_real",
         "scene": "scene",
         "showlegend": true,
         "type": "scatter3d",
         "x": [
          "-75.540924",
          "17.568802",
          "-52.933384",
          "5.0262275",
          "-51.082077",
          "85.1839",
          "80.19578",
          "-10.969966",
          "-101.09773",
          "74.05801",
          "-134.67871",
          "118.74916",
          "27.69622",
          "8.082459",
          "129.6852",
          "-68.11392",
          "-86.88703",
          "27.250797",
          "-3.722245",
          "83.782936",
          "-118.96606",
          "-73.75256",
          "-31.1275",
          "29.046215",
          "-29.28823",
          "-59.809387",
          "125.46144",
          "51.90434",
          "103.0778",
          "-75.803925",
          "48.725655",
          "70.62369",
          "44.36399",
          "82.08508",
          "125.362946",
          "61.647774"
         ],
         "y": [
          "-17.08384",
          "-130.01843",
          "39.46667",
          "-129.2695",
          "-0.7657395",
          "17.161379",
          "-16.103409",
          "40.505344",
          "9.361042",
          "-25.144506",
          "28.410051",
          "3.5686235",
          "18.073277",
          "80.59769",
          "-52.75401",
          "95.4168",
          "3.6249743",
          "-116.62517",
          "65.522545",
          "3.6994193",
          "53.07173",
          "9.037159",
          "63.238243",
          "-132.18335",
          "18.598196",
          "14.59948",
          "-19.898449",
          "-97.78771",
          "-22.119213",
          "24.488342",
          "-133.23357",
          "-90.794",
          "-107.52605",
          "-86.148315",
          "73.66534",
          "-38.921833"
         ],
         "z": [
          "-84.00551",
          "31.763",
          "-75.03091",
          "-64.45296",
          "-81.79033",
          "136.81958",
          "86.93366",
          "-78.70617",
          "-85.53112",
          "120.720726",
          "-44.205772",
          "106.97216",
          "-145.67809",
          "-73.36758",
          "75.30412",
          "86.25222",
          "-59.672306",
          "-77.49101",
          "-93.24195",
          "110.476906",
          "-41.219025",
          "-102.59368",
          "-79.62928",
          "-50.249077",
          "-77.14804",
          "-57.043083",
          "82.2644",
          "-80.58166",
          "108.50096",
          "-77.55562",
          "-72.123695",
          "-45.202244",
          "-53.907627",
          "-69.94532",
          "-6.4586077",
          "-116.03084"
         ]
        },
        {
         "hoverlabel": {
          "namelength": 0
         },
         "hovertemplate": "label=running<br>train_test=test<br>x=%{x}<br>y=%{y}<br>z=%{z}",
         "legendgroup": "label=running, train_test=test",
         "marker": {
          "color": "#00cc96",
          "symbol": "cross"
         },
         "mode": "markers",
         "name": "label=running, train_test=test",
         "scene": "scene",
         "showlegend": true,
         "type": "scatter3d",
         "x": [
          "-124.684944",
          "111.52285",
          "96.96776",
          "-40.107216",
          "-91.91608",
          "59.947094",
          "-150.00864",
          "-71.86242",
          "-121.29244",
          "48.92326",
          "-130.92548",
          "-101.94169",
          "97.882904",
          "-46.910034",
          "-15.75887",
          "-148.48476",
          "89.79607",
          "-66.62253",
          "-121.09138",
          "97.199356",
          "62.892433",
          "-78.965706",
          "-146.93228",
          "-38.385445",
          "31.199617",
          "-29.386822",
          "102.82428",
          "91.45283",
          "-98.71201",
          "67.04315",
          "-88.95036",
          "-84.73013",
          "-116.76616",
          "-79.80715",
          "72.35676",
          "105.32788",
          "88.76813"
         ],
         "y": [
          "6.412626",
          "-73.587326",
          "-10.318454",
          "58.349125",
          "-19.295275",
          "0.26492232",
          "2.4633949",
          "-14.208823",
          "32.34181",
          "111.97524",
          "-17.479836",
          "38.409683",
          "-47.102924",
          "21.355244",
          "21.550903",
          "-8.604226",
          "11.049799",
          "53.029667",
          "6.9406667",
          "-10.053286",
          "69.404274",
          "7.9932494",
          "20.960926",
          "160.51474",
          "143.57246",
          "44.468956",
          "-51.136047",
          "-112.04283",
          "-1.0942447",
          "-122.41084",
          "42.412453",
          "32.963997",
          "-48.237495",
          "-7.3143673",
          "-115.73876",
          "25.973768",
          "40.785892"
         ],
         "z": [
          "-6.633766",
          "65.89441",
          "135.15462",
          "134.54153",
          "-36.429775",
          "130.06902",
          "-41.309395",
          "-139.58928",
          "-19.018698",
          "-33.581512",
          "-35.08107",
          "-73.05699",
          "61.20384",
          "-100.87403",
          "-150.00171",
          "-15.024824",
          "82.34446",
          "107.848305",
          "-33.567093",
          "66.47168",
          "-80.04118",
          "129.62418",
          "-18.666414",
          "-62.24172",
          "7.161774",
          "-102.73856",
          "89.37441",
          "-52.319702",
          "102.82962",
          "-42.312656",
          "-99.06441",
          "-47.576477",
          "6.355476",
          "15.595382",
          "-72.12158",
          "117.02657",
          "99.21535"
         ]
        },
        {
         "hoverlabel": {
          "namelength": 0
         },
         "hovertemplate": "label=sawing<br>train_test=train_real<br>x=%{x}<br>y=%{y}<br>z=%{z}",
         "legendgroup": "label=sawing, train_test=train_real",
         "marker": {
          "color": "#ab63fa",
          "symbol": "circle"
         },
         "mode": "markers",
         "name": "label=sawing, train_test=train_real",
         "scene": "scene",
         "showlegend": true,
         "type": "scatter3d",
         "x": [
          "64.8758",
          "39.195766",
          "-47.832066",
          "3.4913373",
          "35.602566",
          "-6.339433",
          "45.01198",
          "-34.67728",
          "-62.29144",
          "48.642517",
          "74.98239",
          "15.156827",
          "-33.949696",
          "7.7933764",
          "49.243122",
          "-67.95784",
          "-18.678026",
          "-58.928104",
          "28.765726",
          "-25.887007",
          "-17.304995",
          "-13.754506",
          "12.341674",
          "19.011002",
          "59.043472",
          "2.270797",
          "53.39392",
          "66.45468",
          "18.98536",
          "5.1750436"
         ],
         "y": [
          "8.226225",
          "-33.49295",
          "-76.98343",
          "27.004673",
          "44.668118",
          "-84.20206",
          "-8.363759",
          "-87.67066",
          "-87.141174",
          "32.240467",
          "54.103394",
          "100.003334",
          "-85.608055",
          "-89.60844",
          "5.559416",
          "-66.873085",
          "-68.40275",
          "-99.09855",
          "39.67831",
          "-22.433426",
          "93.50733",
          "-40.199802",
          "110.0325",
          "-52.77662",
          "-60.628326",
          "-59.56297",
          "-25.773726",
          "78.982346",
          "66.09777",
          "-87.99515"
         ],
         "z": [
          "60.328865",
          "65.10638",
          "-83.49977",
          "69.0629",
          "-11.234678",
          "-61.595222",
          "60.530655",
          "-26.319021",
          "-38.383736",
          "44.874126",
          "10.721161",
          "7.944325",
          "-58.423943",
          "-37.776634",
          "85.08674",
          "-63.094757",
          "-41.43396",
          "-67.20378",
          "66.64137",
          "-116.900276",
          "113.091034",
          "-55.23494",
          "38.38716",
          "-123.70069",
          "29.016026",
          "-72.01076",
          "88.64721",
          "-4.8903065",
          "44.08729",
          "-86.27905"
         ]
        },
        {
         "hoverlabel": {
          "namelength": 0
         },
         "hovertemplate": "label=sawing<br>train_test=test<br>x=%{x}<br>y=%{y}<br>z=%{z}",
         "legendgroup": "label=sawing, train_test=test",
         "marker": {
          "color": "#ab63fa",
          "symbol": "cross"
         },
         "mode": "markers",
         "name": "label=sawing, train_test=test",
         "scene": "scene",
         "showlegend": true,
         "type": "scatter3d",
         "x": [
          "-11.0458975",
          "-43.712704",
          "40.50536",
          "15.723604",
          "22.645346",
          "14.336985",
          "26.425758",
          "21.255253",
          "38.18459",
          "-15.592356",
          "22.673748",
          "0.7346839",
          "38.86293",
          "-19.969172",
          "75.408905",
          "85.55265",
          "-22.355806",
          "-46.295135",
          "33.016422",
          "10.215079",
          "23.95145",
          "55.242306",
          "-30.134212",
          "5.390765",
          "-78.022934",
          "12.030018",
          "60.95782",
          "31.108856",
          "59.328438",
          "40.015526"
         ],
         "y": [
          "-18.931171",
          "-111.86619",
          "83.4487",
          "-74.11313",
          "-13.026324",
          "69.29528",
          "62.380276",
          "5.6306224",
          "-83.860016",
          "-104.99037",
          "29.569462",
          "84.14367",
          "6.998443",
          "-74.81447",
          "34.012653",
          "-84.11337",
          "-104.53964",
          "-62.519665",
          "90.41048",
          "87.40103",
          "10.76213",
          "31.42596",
          "-56.435654",
          "-86.22111",
          "-57.85201",
          "54.973293",
          "36.316048",
          "-62.634445",
          "25.285177",
          "60.624973"
         ],
         "z": [
          "-88.51341",
          "-44.964848",
          "56.431427",
          "70.293564",
          "82.14855",
          "-9.789721",
          "-35.155857",
          "105.58802",
          "17.710054",
          "-42.1252",
          "91.82642",
          "29.792028",
          "39.490772",
          "-91.67427",
          "53.45283",
          "24.178926",
          "-76.67829",
          "-44.749134",
          "30.359",
          "58.957253",
          "66.72472",
          "75.559074",
          "-69.87232",
          "42.157825",
          "45.524166",
          "17.633383",
          "-49.523525",
          "45.19631",
          "20.415297",
          "15.037949"
         ]
        }
       ],
       "layout": {
        "height": 600,
        "legend": {
         "tracegroupgap": 0
        },
        "scene": {
         "domain": {
          "x": [
           0,
           0.98
          ],
          "y": [
           0,
           1
          ]
         },
         "xaxis": {
          "title": {
           "text": "x"
          }
         },
         "yaxis": {
          "title": {
           "text": "y"
          }
         },
         "zaxis": {
          "title": {
           "text": "z"
          }
         }
        },
        "template": {
         "data": {
          "bar": [
           {
            "error_x": {
             "color": "#2a3f5f"
            },
            "error_y": {
             "color": "#2a3f5f"
            },
            "marker": {
             "line": {
              "color": "#E5ECF6",
              "width": 0.5
             }
            },
            "type": "bar"
           }
          ],
          "barpolar": [
           {
            "marker": {
             "line": {
              "color": "#E5ECF6",
              "width": 0.5
             }
            },
            "type": "barpolar"
           }
          ],
          "carpet": [
           {
            "aaxis": {
             "endlinecolor": "#2a3f5f",
             "gridcolor": "white",
             "linecolor": "white",
             "minorgridcolor": "white",
             "startlinecolor": "#2a3f5f"
            },
            "baxis": {
             "endlinecolor": "#2a3f5f",
             "gridcolor": "white",
             "linecolor": "white",
             "minorgridcolor": "white",
             "startlinecolor": "#2a3f5f"
            },
            "type": "carpet"
           }
          ],
          "choropleth": [
           {
            "colorbar": {
             "outlinewidth": 0,
             "ticks": ""
            },
            "type": "choropleth"
           }
          ],
          "contour": [
           {
            "colorbar": {
             "outlinewidth": 0,
             "ticks": ""
            },
            "colorscale": [
             [
              0,
              "#0d0887"
             ],
             [
              0.1111111111111111,
              "#46039f"
             ],
             [
              0.2222222222222222,
              "#7201a8"
             ],
             [
              0.3333333333333333,
              "#9c179e"
             ],
             [
              0.4444444444444444,
              "#bd3786"
             ],
             [
              0.5555555555555556,
              "#d8576b"
             ],
             [
              0.6666666666666666,
              "#ed7953"
             ],
             [
              0.7777777777777778,
              "#fb9f3a"
             ],
             [
              0.8888888888888888,
              "#fdca26"
             ],
             [
              1,
              "#f0f921"
             ]
            ],
            "type": "contour"
           }
          ],
          "contourcarpet": [
           {
            "colorbar": {
             "outlinewidth": 0,
             "ticks": ""
            },
            "type": "contourcarpet"
           }
          ],
          "heatmap": [
           {
            "colorbar": {
             "outlinewidth": 0,
             "ticks": ""
            },
            "colorscale": [
             [
              0,
              "#0d0887"
             ],
             [
              0.1111111111111111,
              "#46039f"
             ],
             [
              0.2222222222222222,
              "#7201a8"
             ],
             [
              0.3333333333333333,
              "#9c179e"
             ],
             [
              0.4444444444444444,
              "#bd3786"
             ],
             [
              0.5555555555555556,
              "#d8576b"
             ],
             [
              0.6666666666666666,
              "#ed7953"
             ],
             [
              0.7777777777777778,
              "#fb9f3a"
             ],
             [
              0.8888888888888888,
              "#fdca26"
             ],
             [
              1,
              "#f0f921"
             ]
            ],
            "type": "heatmap"
           }
          ],
          "heatmapgl": [
           {
            "colorbar": {
             "outlinewidth": 0,
             "ticks": ""
            },
            "colorscale": [
             [
              0,
              "#0d0887"
             ],
             [
              0.1111111111111111,
              "#46039f"
             ],
             [
              0.2222222222222222,
              "#7201a8"
             ],
             [
              0.3333333333333333,
              "#9c179e"
             ],
             [
              0.4444444444444444,
              "#bd3786"
             ],
             [
              0.5555555555555556,
              "#d8576b"
             ],
             [
              0.6666666666666666,
              "#ed7953"
             ],
             [
              0.7777777777777778,
              "#fb9f3a"
             ],
             [
              0.8888888888888888,
              "#fdca26"
             ],
             [
              1,
              "#f0f921"
             ]
            ],
            "type": "heatmapgl"
           }
          ],
          "histogram": [
           {
            "marker": {
             "colorbar": {
              "outlinewidth": 0,
              "ticks": ""
             }
            },
            "type": "histogram"
           }
          ],
          "histogram2d": [
           {
            "colorbar": {
             "outlinewidth": 0,
             "ticks": ""
            },
            "colorscale": [
             [
              0,
              "#0d0887"
             ],
             [
              0.1111111111111111,
              "#46039f"
             ],
             [
              0.2222222222222222,
              "#7201a8"
             ],
             [
              0.3333333333333333,
              "#9c179e"
             ],
             [
              0.4444444444444444,
              "#bd3786"
             ],
             [
              0.5555555555555556,
              "#d8576b"
             ],
             [
              0.6666666666666666,
              "#ed7953"
             ],
             [
              0.7777777777777778,
              "#fb9f3a"
             ],
             [
              0.8888888888888888,
              "#fdca26"
             ],
             [
              1,
              "#f0f921"
             ]
            ],
            "type": "histogram2d"
           }
          ],
          "histogram2dcontour": [
           {
            "colorbar": {
             "outlinewidth": 0,
             "ticks": ""
            },
            "colorscale": [
             [
              0,
              "#0d0887"
             ],
             [
              0.1111111111111111,
              "#46039f"
             ],
             [
              0.2222222222222222,
              "#7201a8"
             ],
             [
              0.3333333333333333,
              "#9c179e"
             ],
             [
              0.4444444444444444,
              "#bd3786"
             ],
             [
              0.5555555555555556,
              "#d8576b"
             ],
             [
              0.6666666666666666,
              "#ed7953"
             ],
             [
              0.7777777777777778,
              "#fb9f3a"
             ],
             [
              0.8888888888888888,
              "#fdca26"
             ],
             [
              1,
              "#f0f921"
             ]
            ],
            "type": "histogram2dcontour"
           }
          ],
          "mesh3d": [
           {
            "colorbar": {
             "outlinewidth": 0,
             "ticks": ""
            },
            "type": "mesh3d"
           }
          ],
          "parcoords": [
           {
            "line": {
             "colorbar": {
              "outlinewidth": 0,
              "ticks": ""
             }
            },
            "type": "parcoords"
           }
          ],
          "scatter": [
           {
            "marker": {
             "colorbar": {
              "outlinewidth": 0,
              "ticks": ""
             }
            },
            "type": "scatter"
           }
          ],
          "scatter3d": [
           {
            "line": {
             "colorbar": {
              "outlinewidth": 0,
              "ticks": ""
             }
            },
            "marker": {
             "colorbar": {
              "outlinewidth": 0,
              "ticks": ""
             }
            },
            "type": "scatter3d"
           }
          ],
          "scattercarpet": [
           {
            "marker": {
             "colorbar": {
              "outlinewidth": 0,
              "ticks": ""
             }
            },
            "type": "scattercarpet"
           }
          ],
          "scattergeo": [
           {
            "marker": {
             "colorbar": {
              "outlinewidth": 0,
              "ticks": ""
             }
            },
            "type": "scattergeo"
           }
          ],
          "scattergl": [
           {
            "marker": {
             "colorbar": {
              "outlinewidth": 0,
              "ticks": ""
             }
            },
            "type": "scattergl"
           }
          ],
          "scattermapbox": [
           {
            "marker": {
             "colorbar": {
              "outlinewidth": 0,
              "ticks": ""
             }
            },
            "type": "scattermapbox"
           }
          ],
          "scatterpolar": [
           {
            "marker": {
             "colorbar": {
              "outlinewidth": 0,
              "ticks": ""
             }
            },
            "type": "scatterpolar"
           }
          ],
          "scatterpolargl": [
           {
            "marker": {
             "colorbar": {
              "outlinewidth": 0,
              "ticks": ""
             }
            },
            "type": "scatterpolargl"
           }
          ],
          "scatterternary": [
           {
            "marker": {
             "colorbar": {
              "outlinewidth": 0,
              "ticks": ""
             }
            },
            "type": "scatterternary"
           }
          ],
          "surface": [
           {
            "colorbar": {
             "outlinewidth": 0,
             "ticks": ""
            },
            "colorscale": [
             [
              0,
              "#0d0887"
             ],
             [
              0.1111111111111111,
              "#46039f"
             ],
             [
              0.2222222222222222,
              "#7201a8"
             ],
             [
              0.3333333333333333,
              "#9c179e"
             ],
             [
              0.4444444444444444,
              "#bd3786"
             ],
             [
              0.5555555555555556,
              "#d8576b"
             ],
             [
              0.6666666666666666,
              "#ed7953"
             ],
             [
              0.7777777777777778,
              "#fb9f3a"
             ],
             [
              0.8888888888888888,
              "#fdca26"
             ],
             [
              1,
              "#f0f921"
             ]
            ],
            "type": "surface"
           }
          ],
          "table": [
           {
            "cells": {
             "fill": {
              "color": "#EBF0F8"
             },
             "line": {
              "color": "white"
             }
            },
            "header": {
             "fill": {
              "color": "#C8D4E3"
             },
             "line": {
              "color": "white"
             }
            },
            "type": "table"
           }
          ]
         },
         "layout": {
          "annotationdefaults": {
           "arrowcolor": "#2a3f5f",
           "arrowhead": 0,
           "arrowwidth": 1
          },
          "colorscale": {
           "diverging": [
            [
             0,
             "#8e0152"
            ],
            [
             0.1,
             "#c51b7d"
            ],
            [
             0.2,
             "#de77ae"
            ],
            [
             0.3,
             "#f1b6da"
            ],
            [
             0.4,
             "#fde0ef"
            ],
            [
             0.5,
             "#f7f7f7"
            ],
            [
             0.6,
             "#e6f5d0"
            ],
            [
             0.7,
             "#b8e186"
            ],
            [
             0.8,
             "#7fbc41"
            ],
            [
             0.9,
             "#4d9221"
            ],
            [
             1,
             "#276419"
            ]
           ],
           "sequential": [
            [
             0,
             "#0d0887"
            ],
            [
             0.1111111111111111,
             "#46039f"
            ],
            [
             0.2222222222222222,
             "#7201a8"
            ],
            [
             0.3333333333333333,
             "#9c179e"
            ],
            [
             0.4444444444444444,
             "#bd3786"
            ],
            [
             0.5555555555555556,
             "#d8576b"
            ],
            [
             0.6666666666666666,
             "#ed7953"
            ],
            [
             0.7777777777777778,
             "#fb9f3a"
            ],
            [
             0.8888888888888888,
             "#fdca26"
            ],
            [
             1,
             "#f0f921"
            ]
           ],
           "sequentialminus": [
            [
             0,
             "#0d0887"
            ],
            [
             0.1111111111111111,
             "#46039f"
            ],
            [
             0.2222222222222222,
             "#7201a8"
            ],
            [
             0.3333333333333333,
             "#9c179e"
            ],
            [
             0.4444444444444444,
             "#bd3786"
            ],
            [
             0.5555555555555556,
             "#d8576b"
            ],
            [
             0.6666666666666666,
             "#ed7953"
            ],
            [
             0.7777777777777778,
             "#fb9f3a"
            ],
            [
             0.8888888888888888,
             "#fdca26"
            ],
            [
             1,
             "#f0f921"
            ]
           ]
          },
          "colorway": [
           "#636efa",
           "#EF553B",
           "#00cc96",
           "#ab63fa",
           "#FFA15A",
           "#19d3f3",
           "#FF6692",
           "#B6E880",
           "#FF97FF",
           "#FECB52"
          ],
          "font": {
           "color": "#2a3f5f"
          },
          "geo": {
           "bgcolor": "white",
           "lakecolor": "white",
           "landcolor": "#E5ECF6",
           "showlakes": true,
           "showland": true,
           "subunitcolor": "white"
          },
          "hoverlabel": {
           "align": "left"
          },
          "hovermode": "closest",
          "mapbox": {
           "style": "light"
          },
          "paper_bgcolor": "white",
          "plot_bgcolor": "#E5ECF6",
          "polar": {
           "angularaxis": {
            "gridcolor": "white",
            "linecolor": "white",
            "ticks": ""
           },
           "bgcolor": "#E5ECF6",
           "radialaxis": {
            "gridcolor": "white",
            "linecolor": "white",
            "ticks": ""
           }
          },
          "scene": {
           "xaxis": {
            "backgroundcolor": "#E5ECF6",
            "gridcolor": "white",
            "gridwidth": 2,
            "linecolor": "white",
            "showbackground": true,
            "ticks": "",
            "zerolinecolor": "white"
           },
           "yaxis": {
            "backgroundcolor": "#E5ECF6",
            "gridcolor": "white",
            "gridwidth": 2,
            "linecolor": "white",
            "showbackground": true,
            "ticks": "",
            "zerolinecolor": "white"
           },
           "zaxis": {
            "backgroundcolor": "#E5ECF6",
            "gridcolor": "white",
            "gridwidth": 2,
            "linecolor": "white",
            "showbackground": true,
            "ticks": "",
            "zerolinecolor": "white"
           }
          },
          "shapedefaults": {
           "line": {
            "color": "#2a3f5f"
           }
          },
          "ternary": {
           "aaxis": {
            "gridcolor": "white",
            "linecolor": "white",
            "ticks": ""
           },
           "baxis": {
            "gridcolor": "white",
            "linecolor": "white",
            "ticks": ""
           },
           "bgcolor": "#E5ECF6",
           "caxis": {
            "gridcolor": "white",
            "linecolor": "white",
            "ticks": ""
           }
          },
          "title": {
           "x": 0.05
          },
          "xaxis": {
           "automargin": true,
           "gridcolor": "white",
           "linecolor": "white",
           "ticks": "",
           "zerolinecolor": "white",
           "zerolinewidth": 2
          },
          "yaxis": {
           "automargin": true,
           "gridcolor": "white",
           "linecolor": "white",
           "ticks": "",
           "zerolinecolor": "white",
           "zerolinewidth": 2
          }
         }
        },
        "title": {
         "text": "Epilepsy"
        }
       }
      },
      "text/html": [
       "<div>\n",
       "        \n",
       "        \n",
       "            <div id=\"12e48b3d-107a-4374-a678-567e1bf55724\" class=\"plotly-graph-div\" style=\"height:600px; width:100%;\"></div>\n",
       "            <script type=\"text/javascript\">\n",
       "                require([\"plotly\"], function(Plotly) {\n",
       "                    window.PLOTLYENV=window.PLOTLYENV || {};\n",
       "                    \n",
       "                if (document.getElementById(\"12e48b3d-107a-4374-a678-567e1bf55724\")) {\n",
       "                    Plotly.newPlot(\n",
       "                        '12e48b3d-107a-4374-a678-567e1bf55724',\n",
       "                        [{\"hoverlabel\": {\"namelength\": 0}, \"hovertemplate\": \"label=epilepsy<br>train_test=train_real<br>x=%{x}<br>y=%{y}<br>z=%{z}\", \"legendgroup\": \"label=epilepsy, train_test=train_real\", \"marker\": {\"color\": \"#636efa\", \"symbol\": \"circle\"}, \"mode\": \"markers\", \"name\": \"label=epilepsy, train_test=train_real\", \"scene\": \"scene\", \"showlegend\": true, \"type\": \"scatter3d\", \"x\": [\"31.552166\", \"26.378916\", \"65.27135\", \"-7.601267\", \"35.613045\", \"15.220205\", \"-32.029793\", \"-14.006576\", \"12.0431\", \"13.601459\", \"57.97497\", \"55.510418\", \"-11.6646805\", \"-0.80107987\", \"13.252767\", \"41.986305\", \"-42.64733\", \"-49.645706\", \"2.598918\", \"16.127323\", \"8.914404\", \"14.952133\", \"-7.0450587\", \"37.248783\", \"-27.56056\", \"-8.51683\", \"18.285997\", \"6.4676003\", \"-47.029114\", \"-31.219381\", \"50.750607\", \"-92.642494\", \"75.53516\", \"-50.786274\"], \"y\": [\"-33.85736\", \"110.47799\", \"-27.066221\", \"47.16849\", \"-36.769855\", \"30.758747\", \"-51.670914\", \"-33.08757\", \"-41.770153\", \"44.502747\", \"-22.071646\", \"-114.8879\", \"48.913406\", \"24.623625\", \"-12.32267\", \"10.007444\", \"23.536087\", \"6.6725965\", \"-47.647884\", \"35.23645\", \"13.44134\", \"-42.834354\", \"39.855854\", \"-10.553078\", \"1.1204833\", \"15.513892\", \"-19.107306\", \"56.66607\", \"-25.918072\", \"-14.851999\", \"-96.80914\", \"20.284428\", \"-4.883867\", \"11.681553\"], \"z\": [\"-57.163647\", \"70.31983\", \"-26.398592\", \"-11.923945\", \"10.1018305\", \"-105.91791\", \"-10.3337555\", \"9.684519\", \"-0.74056005\", \"-69.02167\", \"-52.10464\", \"5.66953\", \"-39.41117\", \"-52.394436\", \"-17.068657\", \"-68.57397\", \"-19.49519\", \"48.114933\", \"23.211754\", \"-28.754112\", \"-86.86979\", \"-36.539032\", \"30.067629\", \"-0.49253023\", \"65.14965\", \"96.82233\", \"16.070358\", \"112.120804\", \"-29.14768\", \"112.953896\", \"60.63429\", \"19.33257\", \"-42.477127\", \"2.3901386\"]}, {\"hoverlabel\": {\"namelength\": 0}, \"hovertemplate\": \"label=epilepsy<br>train_test=test<br>x=%{x}<br>y=%{y}<br>z=%{z}\", \"legendgroup\": \"label=epilepsy, train_test=test\", \"marker\": {\"color\": \"#636efa\", \"symbol\": \"cross\"}, \"mode\": \"markers\", \"name\": \"label=epilepsy, train_test=test\", \"scene\": \"scene\", \"showlegend\": true, \"type\": \"scatter3d\", \"x\": [\"-52.06246\", \"47.21308\", \"-28.960524\", \"-10.160307\", \"-91.09214\", \"-8.891316\", \"3.473309\", \"-102.99706\", \"-71.70183\", \"-7.202762\", \"-160.20816\", \"-17.278673\", \"34.394302\", \"-64.03359\", \"-35.16327\", \"-42.238655\", \"12.464683\", \"-33.888866\", \"-7.7553825\", \"-20.533466\", \"-21.090406\", \"53.147987\", \"29.708595\", \"74.648895\", \"69.16628\", \"0.54967695\", \"-10.64286\", \"-8.880491\", \"56.672485\", \"-26.618006\", \"-2.6074858\", \"38.85222\", \"-31.962942\", \"45.21736\"], \"y\": [\"-21.1938\", \"52.685757\", \"33.915977\", \"-10.541397\", \"-17.56389\", \"-76.92685\", \"-62.552322\", \"36.320442\", \"-49.960697\", \"-32.922863\", \"59.940327\", \"-73.05994\", \"-72.44789\", \"-2.1350162\", \"-3.0300324\", \"-36.555836\", \"28.958614\", \"27.700338\", \"20.325981\", \"-27.587582\", \"48.63491\", \"-58.50335\", \"-71.85867\", \"-38.778606\", \"-25.39537\", \"-18.530851\", \"35.76706\", \"21.318512\", \"-51.612473\", \"-16.115402\", \"-14.365118\", \"-36.309372\", \"36.05097\", \"-47.878113\"], \"z\": [\"55.37401\", \"124.94898\", \"-0.115186535\", \"87.57988\", \"37.759785\", \"-2.6200218\", \"-18.586782\", \"65.20654\", \"-25.549255\", \"-27.128696\", \"-44.117077\", \"65.78582\", \"-24.250185\", \"-19.211985\", \"-31.027664\", \"37.282356\", \"0.9690555\", \"79.22815\", \"-105.50273\", \"66.327705\", \"95.02874\", \"-12.939929\", \"-54.251717\", \"-65.85138\", \"5.65581\", \"42.765007\", \"116.77882\", \"-17.038622\", \"-41.00098\", \"37.708084\", \"0.7170146\", \"-16.688278\", \"41.776077\", \"-75.418816\"]}, {\"hoverlabel\": {\"namelength\": 0}, \"hovertemplate\": \"label=walking<br>train_test=train_real<br>x=%{x}<br>y=%{y}<br>z=%{z}\", \"legendgroup\": \"label=walking, train_test=train_real\", \"marker\": {\"color\": \"#EF553B\", \"symbol\": \"circle\"}, \"mode\": \"markers\", \"name\": \"label=walking, train_test=train_real\", \"scene\": \"scene\", \"showlegend\": true, \"type\": \"scatter3d\", \"x\": [\"124.28931\", \"107.315544\", \"98.43876\", \"-56.485878\", \"110.14651\", \"-26.018448\", \"-41.72988\", \"47.07294\", \"-26.283598\", \"105.59124\", \"135.48633\", \"74.57944\", \"-86.05378\", \"62.96496\", \"123.183014\", \"100.81884\", \"-25.846834\", \"23.57018\", \"-52.07479\", \"-24.646053\", \"111.17003\", \"-49.774883\", \"124.31958\", \"-81.174034\", \"-111.962585\", \"-98.66047\", \"-79.79446\", \"-54.78388\", \"-79.67866\", \"-22.569368\", \"106.35068\", \"-35.845028\", \"101.3923\", \"-3.1165285\", \"84.81964\", \"131.0647\", \"-24.724676\"], \"y\": [\"-33.39474\", \"-26.42764\", \"5.897161\", \"-120.719925\", \"-28.067669\", \"13.879958\", \"-68.91954\", \"-4.8016834\", \"12.885821\", \"-54.81825\", \"-14.000421\", \"7.284304\", \"93.279\", \"-19.305906\", \"11.769345\", \"-85.82058\", \"124.754745\", \"-2.895833\", \"81.77038\", \"100.631485\", \"-55.35013\", \"72.883484\", \"-3.1349268\", \"113.02982\", \"-73.245384\", \"94.27788\", \"129.77594\", \"91.727356\", \"88.337906\", \"96.86811\", \"-10.847155\", \"-110.38104\", \"25.990183\", \"2.0948052\", \"-47.411808\", \"22.875605\", \"84.994644\"], \"z\": [\"51.092373\", \"-24.061087\", \"2.6724374\", \"8.794931\", \"-54.487083\", \"29.194635\", \"16.315283\", \"-111.38626\", \"126.004295\", \"-23.090158\", \"24.476707\", \"34.963978\", \"-49.976696\", \"37.214188\", \"29.96751\", \"-37.288513\", \"-8.2059145\", \"-41.91455\", \"-33.629154\", \"-45.400337\", \"-51.77103\", \"27.679712\", \"2.80988\", \"12.356299\", \"-30.371298\", \"-4.3986855\", \"-54.20775\", \"-62.331535\", \"-24.11707\", \"-16.865932\", \"24.380356\", \"36.998062\", \"17.391077\", \"124.416374\", \"-42.453327\", \"1.9773358\", \"52.298405\"]}, {\"hoverlabel\": {\"namelength\": 0}, \"hovertemplate\": \"label=walking<br>train_test=test<br>x=%{x}<br>y=%{y}<br>z=%{z}\", \"legendgroup\": \"label=walking, train_test=test\", \"marker\": {\"color\": \"#EF553B\", \"symbol\": \"cross\"}, \"mode\": \"markers\", \"name\": \"label=walking, train_test=test\", \"scene\": \"scene\", \"showlegend\": true, \"type\": \"scatter3d\", \"x\": [\"-80.85381\", \"-40.2158\", \"-54.09456\", \"90.073845\", \"133.73724\", \"132.34505\", \"119.93635\", \"-58.929623\", \"118.87321\", \"-26.029453\", \"-70.21548\", \"-43.61664\", \"-54.29377\", \"-92.66463\", \"127.508736\", \"-79.62693\", \"-64.87518\", \"-36.280033\", \"-41.188297\", \"-51.035526\", \"46.728798\", \"-83.86536\", \"-18.745653\", \"-53.6032\", \"135.71487\", \"109.28157\", \"-35.67657\", \"-32.737873\", \"-128.60286\", \"139.19997\", \"-57.810047\", \"-70.33782\", \"-71.43387\", \"-18.612211\", \"-88.41271\", \"-70.86676\", \"-55.926907\"], \"y\": [\"-37.747364\", \"122.65197\", \"130.40671\", \"29.70319\", \"-2.5582645\", \"-41.210915\", \"40.46561\", \"147.42706\", \"-6.548922\", \"108.42679\", \"80.67269\", \"-12.215453\", \"-61.93092\", \"78.571724\", \"-38.730484\", \"61.956863\", \"108.825615\", \"9.961265\", \"101.84096\", \"-25.355465\", \"-74.65493\", \"47.000465\", \"-128.43916\", \"99.543816\", \"43.774075\", \"31.031893\", \"74.97215\", \"-9.806104\", \"63.516235\", \"-18.042768\", \"11.184451\", \"65.160835\", \"55.517815\", \"98.37143\", \"120.062294\", \"94.611496\", \"59.941044\"], \"z\": [\"86.97258\", \"-35.18917\", \"-2.6410575\", \"-91.4617\", \"53.65463\", \"-37.049774\", \"30.04841\", \"-25.226467\", \"-39.570904\", \"48.151638\", \"1.3663282\", \"83.57813\", \"82.20068\", \"23.389544\", \"-8.835442\", \"-41.538887\", \"-35.329796\", \"100.2962\", \"22.50708\", \"-1.5748196\", \"88.682526\", \"-13.854334\", \"5.5297275\", \"-7.90586\", \"28.313147\", \"-18.641731\", \"3.718762\", \"-6.5767503\", \"8.8503065\", \"-25.280659\", \"79.56821\", \"46.601166\", \"16.198803\", \"73.37417\", \"-24.448595\", \"33.077656\", \"-14.903228\"]}, {\"hoverlabel\": {\"namelength\": 0}, \"hovertemplate\": \"label=running<br>train_test=train_real<br>x=%{x}<br>y=%{y}<br>z=%{z}\", \"legendgroup\": \"label=running, train_test=train_real\", \"marker\": {\"color\": \"#00cc96\", \"symbol\": \"circle\"}, \"mode\": \"markers\", \"name\": \"label=running, train_test=train_real\", \"scene\": \"scene\", \"showlegend\": true, \"type\": \"scatter3d\", \"x\": [\"-75.540924\", \"17.568802\", \"-52.933384\", \"5.0262275\", \"-51.082077\", \"85.1839\", \"80.19578\", \"-10.969966\", \"-101.09773\", \"74.05801\", \"-134.67871\", \"118.74916\", \"27.69622\", \"8.082459\", \"129.6852\", \"-68.11392\", \"-86.88703\", \"27.250797\", \"-3.722245\", \"83.782936\", \"-118.96606\", \"-73.75256\", \"-31.1275\", \"29.046215\", \"-29.28823\", \"-59.809387\", \"125.46144\", \"51.90434\", \"103.0778\", \"-75.803925\", \"48.725655\", \"70.62369\", \"44.36399\", \"82.08508\", \"125.362946\", \"61.647774\"], \"y\": [\"-17.08384\", \"-130.01843\", \"39.46667\", \"-129.2695\", \"-0.7657395\", \"17.161379\", \"-16.103409\", \"40.505344\", \"9.361042\", \"-25.144506\", \"28.410051\", \"3.5686235\", \"18.073277\", \"80.59769\", \"-52.75401\", \"95.4168\", \"3.6249743\", \"-116.62517\", \"65.522545\", \"3.6994193\", \"53.07173\", \"9.037159\", \"63.238243\", \"-132.18335\", \"18.598196\", \"14.59948\", \"-19.898449\", \"-97.78771\", \"-22.119213\", \"24.488342\", \"-133.23357\", \"-90.794\", \"-107.52605\", \"-86.148315\", \"73.66534\", \"-38.921833\"], \"z\": [\"-84.00551\", \"31.763\", \"-75.03091\", \"-64.45296\", \"-81.79033\", \"136.81958\", \"86.93366\", \"-78.70617\", \"-85.53112\", \"120.720726\", \"-44.205772\", \"106.97216\", \"-145.67809\", \"-73.36758\", \"75.30412\", \"86.25222\", \"-59.672306\", \"-77.49101\", \"-93.24195\", \"110.476906\", \"-41.219025\", \"-102.59368\", \"-79.62928\", \"-50.249077\", \"-77.14804\", \"-57.043083\", \"82.2644\", \"-80.58166\", \"108.50096\", \"-77.55562\", \"-72.123695\", \"-45.202244\", \"-53.907627\", \"-69.94532\", \"-6.4586077\", \"-116.03084\"]}, {\"hoverlabel\": {\"namelength\": 0}, \"hovertemplate\": \"label=running<br>train_test=test<br>x=%{x}<br>y=%{y}<br>z=%{z}\", \"legendgroup\": \"label=running, train_test=test\", \"marker\": {\"color\": \"#00cc96\", \"symbol\": \"cross\"}, \"mode\": \"markers\", \"name\": \"label=running, train_test=test\", \"scene\": \"scene\", \"showlegend\": true, \"type\": \"scatter3d\", \"x\": [\"-124.684944\", \"111.52285\", \"96.96776\", \"-40.107216\", \"-91.91608\", \"59.947094\", \"-150.00864\", \"-71.86242\", \"-121.29244\", \"48.92326\", \"-130.92548\", \"-101.94169\", \"97.882904\", \"-46.910034\", \"-15.75887\", \"-148.48476\", \"89.79607\", \"-66.62253\", \"-121.09138\", \"97.199356\", \"62.892433\", \"-78.965706\", \"-146.93228\", \"-38.385445\", \"31.199617\", \"-29.386822\", \"102.82428\", \"91.45283\", \"-98.71201\", \"67.04315\", \"-88.95036\", \"-84.73013\", \"-116.76616\", \"-79.80715\", \"72.35676\", \"105.32788\", \"88.76813\"], \"y\": [\"6.412626\", \"-73.587326\", \"-10.318454\", \"58.349125\", \"-19.295275\", \"0.26492232\", \"2.4633949\", \"-14.208823\", \"32.34181\", \"111.97524\", \"-17.479836\", \"38.409683\", \"-47.102924\", \"21.355244\", \"21.550903\", \"-8.604226\", \"11.049799\", \"53.029667\", \"6.9406667\", \"-10.053286\", \"69.404274\", \"7.9932494\", \"20.960926\", \"160.51474\", \"143.57246\", \"44.468956\", \"-51.136047\", \"-112.04283\", \"-1.0942447\", \"-122.41084\", \"42.412453\", \"32.963997\", \"-48.237495\", \"-7.3143673\", \"-115.73876\", \"25.973768\", \"40.785892\"], \"z\": [\"-6.633766\", \"65.89441\", \"135.15462\", \"134.54153\", \"-36.429775\", \"130.06902\", \"-41.309395\", \"-139.58928\", \"-19.018698\", \"-33.581512\", \"-35.08107\", \"-73.05699\", \"61.20384\", \"-100.87403\", \"-150.00171\", \"-15.024824\", \"82.34446\", \"107.848305\", \"-33.567093\", \"66.47168\", \"-80.04118\", \"129.62418\", \"-18.666414\", \"-62.24172\", \"7.161774\", \"-102.73856\", \"89.37441\", \"-52.319702\", \"102.82962\", \"-42.312656\", \"-99.06441\", \"-47.576477\", \"6.355476\", \"15.595382\", \"-72.12158\", \"117.02657\", \"99.21535\"]}, {\"hoverlabel\": {\"namelength\": 0}, \"hovertemplate\": \"label=sawing<br>train_test=train_real<br>x=%{x}<br>y=%{y}<br>z=%{z}\", \"legendgroup\": \"label=sawing, train_test=train_real\", \"marker\": {\"color\": \"#ab63fa\", \"symbol\": \"circle\"}, \"mode\": \"markers\", \"name\": \"label=sawing, train_test=train_real\", \"scene\": \"scene\", \"showlegend\": true, \"type\": \"scatter3d\", \"x\": [\"64.8758\", \"39.195766\", \"-47.832066\", \"3.4913373\", \"35.602566\", \"-6.339433\", \"45.01198\", \"-34.67728\", \"-62.29144\", \"48.642517\", \"74.98239\", \"15.156827\", \"-33.949696\", \"7.7933764\", \"49.243122\", \"-67.95784\", \"-18.678026\", \"-58.928104\", \"28.765726\", \"-25.887007\", \"-17.304995\", \"-13.754506\", \"12.341674\", \"19.011002\", \"59.043472\", \"2.270797\", \"53.39392\", \"66.45468\", \"18.98536\", \"5.1750436\"], \"y\": [\"8.226225\", \"-33.49295\", \"-76.98343\", \"27.004673\", \"44.668118\", \"-84.20206\", \"-8.363759\", \"-87.67066\", \"-87.141174\", \"32.240467\", \"54.103394\", \"100.003334\", \"-85.608055\", \"-89.60844\", \"5.559416\", \"-66.873085\", \"-68.40275\", \"-99.09855\", \"39.67831\", \"-22.433426\", \"93.50733\", \"-40.199802\", \"110.0325\", \"-52.77662\", \"-60.628326\", \"-59.56297\", \"-25.773726\", \"78.982346\", \"66.09777\", \"-87.99515\"], \"z\": [\"60.328865\", \"65.10638\", \"-83.49977\", \"69.0629\", \"-11.234678\", \"-61.595222\", \"60.530655\", \"-26.319021\", \"-38.383736\", \"44.874126\", \"10.721161\", \"7.944325\", \"-58.423943\", \"-37.776634\", \"85.08674\", \"-63.094757\", \"-41.43396\", \"-67.20378\", \"66.64137\", \"-116.900276\", \"113.091034\", \"-55.23494\", \"38.38716\", \"-123.70069\", \"29.016026\", \"-72.01076\", \"88.64721\", \"-4.8903065\", \"44.08729\", \"-86.27905\"]}, {\"hoverlabel\": {\"namelength\": 0}, \"hovertemplate\": \"label=sawing<br>train_test=test<br>x=%{x}<br>y=%{y}<br>z=%{z}\", \"legendgroup\": \"label=sawing, train_test=test\", \"marker\": {\"color\": \"#ab63fa\", \"symbol\": \"cross\"}, \"mode\": \"markers\", \"name\": \"label=sawing, train_test=test\", \"scene\": \"scene\", \"showlegend\": true, \"type\": \"scatter3d\", \"x\": [\"-11.0458975\", \"-43.712704\", \"40.50536\", \"15.723604\", \"22.645346\", \"14.336985\", \"26.425758\", \"21.255253\", \"38.18459\", \"-15.592356\", \"22.673748\", \"0.7346839\", \"38.86293\", \"-19.969172\", \"75.408905\", \"85.55265\", \"-22.355806\", \"-46.295135\", \"33.016422\", \"10.215079\", \"23.95145\", \"55.242306\", \"-30.134212\", \"5.390765\", \"-78.022934\", \"12.030018\", \"60.95782\", \"31.108856\", \"59.328438\", \"40.015526\"], \"y\": [\"-18.931171\", \"-111.86619\", \"83.4487\", \"-74.11313\", \"-13.026324\", \"69.29528\", \"62.380276\", \"5.6306224\", \"-83.860016\", \"-104.99037\", \"29.569462\", \"84.14367\", \"6.998443\", \"-74.81447\", \"34.012653\", \"-84.11337\", \"-104.53964\", \"-62.519665\", \"90.41048\", \"87.40103\", \"10.76213\", \"31.42596\", \"-56.435654\", \"-86.22111\", \"-57.85201\", \"54.973293\", \"36.316048\", \"-62.634445\", \"25.285177\", \"60.624973\"], \"z\": [\"-88.51341\", \"-44.964848\", \"56.431427\", \"70.293564\", \"82.14855\", \"-9.789721\", \"-35.155857\", \"105.58802\", \"17.710054\", \"-42.1252\", \"91.82642\", \"29.792028\", \"39.490772\", \"-91.67427\", \"53.45283\", \"24.178926\", \"-76.67829\", \"-44.749134\", \"30.359\", \"58.957253\", \"66.72472\", \"75.559074\", \"-69.87232\", \"42.157825\", \"45.524166\", \"17.633383\", \"-49.523525\", \"45.19631\", \"20.415297\", \"15.037949\"]}],\n",
       "                        {\"height\": 600, \"legend\": {\"tracegroupgap\": 0}, \"scene\": {\"domain\": {\"x\": [0.0, 0.98], \"y\": [0.0, 1.0]}, \"xaxis\": {\"title\": {\"text\": \"x\"}}, \"yaxis\": {\"title\": {\"text\": \"y\"}}, \"zaxis\": {\"title\": {\"text\": \"z\"}}}, \"template\": {\"data\": {\"bar\": [{\"error_x\": {\"color\": \"#2a3f5f\"}, \"error_y\": {\"color\": \"#2a3f5f\"}, \"marker\": {\"line\": {\"color\": \"#E5ECF6\", \"width\": 0.5}}, \"type\": \"bar\"}], \"barpolar\": [{\"marker\": {\"line\": {\"color\": \"#E5ECF6\", \"width\": 0.5}}, \"type\": \"barpolar\"}], \"carpet\": [{\"aaxis\": {\"endlinecolor\": \"#2a3f5f\", \"gridcolor\": \"white\", \"linecolor\": \"white\", \"minorgridcolor\": \"white\", \"startlinecolor\": \"#2a3f5f\"}, \"baxis\": {\"endlinecolor\": \"#2a3f5f\", \"gridcolor\": \"white\", \"linecolor\": \"white\", \"minorgridcolor\": \"white\", \"startlinecolor\": \"#2a3f5f\"}, \"type\": \"carpet\"}], \"choropleth\": [{\"colorbar\": {\"outlinewidth\": 0, \"ticks\": \"\"}, \"type\": \"choropleth\"}], \"contour\": [{\"colorbar\": {\"outlinewidth\": 0, \"ticks\": \"\"}, \"colorscale\": [[0.0, \"#0d0887\"], [0.1111111111111111, \"#46039f\"], [0.2222222222222222, \"#7201a8\"], [0.3333333333333333, \"#9c179e\"], [0.4444444444444444, \"#bd3786\"], [0.5555555555555556, \"#d8576b\"], [0.6666666666666666, \"#ed7953\"], [0.7777777777777778, \"#fb9f3a\"], [0.8888888888888888, \"#fdca26\"], [1.0, \"#f0f921\"]], \"type\": \"contour\"}], \"contourcarpet\": [{\"colorbar\": {\"outlinewidth\": 0, \"ticks\": \"\"}, \"type\": \"contourcarpet\"}], \"heatmap\": [{\"colorbar\": {\"outlinewidth\": 0, \"ticks\": \"\"}, \"colorscale\": [[0.0, \"#0d0887\"], [0.1111111111111111, \"#46039f\"], [0.2222222222222222, \"#7201a8\"], [0.3333333333333333, \"#9c179e\"], [0.4444444444444444, \"#bd3786\"], [0.5555555555555556, \"#d8576b\"], [0.6666666666666666, \"#ed7953\"], [0.7777777777777778, \"#fb9f3a\"], [0.8888888888888888, \"#fdca26\"], [1.0, \"#f0f921\"]], \"type\": \"heatmap\"}], \"heatmapgl\": [{\"colorbar\": {\"outlinewidth\": 0, \"ticks\": \"\"}, \"colorscale\": [[0.0, \"#0d0887\"], [0.1111111111111111, \"#46039f\"], [0.2222222222222222, \"#7201a8\"], [0.3333333333333333, \"#9c179e\"], [0.4444444444444444, \"#bd3786\"], [0.5555555555555556, \"#d8576b\"], [0.6666666666666666, \"#ed7953\"], [0.7777777777777778, \"#fb9f3a\"], [0.8888888888888888, \"#fdca26\"], [1.0, \"#f0f921\"]], \"type\": \"heatmapgl\"}], \"histogram\": [{\"marker\": {\"colorbar\": {\"outlinewidth\": 0, \"ticks\": \"\"}}, \"type\": \"histogram\"}], \"histogram2d\": [{\"colorbar\": {\"outlinewidth\": 0, \"ticks\": \"\"}, \"colorscale\": [[0.0, \"#0d0887\"], [0.1111111111111111, \"#46039f\"], [0.2222222222222222, \"#7201a8\"], [0.3333333333333333, \"#9c179e\"], [0.4444444444444444, \"#bd3786\"], [0.5555555555555556, \"#d8576b\"], [0.6666666666666666, \"#ed7953\"], [0.7777777777777778, \"#fb9f3a\"], [0.8888888888888888, \"#fdca26\"], [1.0, \"#f0f921\"]], \"type\": \"histogram2d\"}], \"histogram2dcontour\": [{\"colorbar\": {\"outlinewidth\": 0, \"ticks\": \"\"}, \"colorscale\": [[0.0, \"#0d0887\"], [0.1111111111111111, \"#46039f\"], [0.2222222222222222, \"#7201a8\"], [0.3333333333333333, \"#9c179e\"], [0.4444444444444444, \"#bd3786\"], [0.5555555555555556, \"#d8576b\"], [0.6666666666666666, \"#ed7953\"], [0.7777777777777778, \"#fb9f3a\"], [0.8888888888888888, \"#fdca26\"], [1.0, \"#f0f921\"]], \"type\": \"histogram2dcontour\"}], \"mesh3d\": [{\"colorbar\": {\"outlinewidth\": 0, \"ticks\": \"\"}, \"type\": \"mesh3d\"}], \"parcoords\": [{\"line\": {\"colorbar\": {\"outlinewidth\": 0, \"ticks\": \"\"}}, \"type\": \"parcoords\"}], \"scatter\": [{\"marker\": {\"colorbar\": {\"outlinewidth\": 0, \"ticks\": \"\"}}, \"type\": \"scatter\"}], \"scatter3d\": [{\"line\": {\"colorbar\": {\"outlinewidth\": 0, \"ticks\": \"\"}}, \"marker\": {\"colorbar\": {\"outlinewidth\": 0, \"ticks\": \"\"}}, \"type\": \"scatter3d\"}], \"scattercarpet\": [{\"marker\": {\"colorbar\": {\"outlinewidth\": 0, \"ticks\": \"\"}}, \"type\": \"scattercarpet\"}], \"scattergeo\": [{\"marker\": {\"colorbar\": {\"outlinewidth\": 0, \"ticks\": \"\"}}, \"type\": \"scattergeo\"}], \"scattergl\": [{\"marker\": {\"colorbar\": {\"outlinewidth\": 0, \"ticks\": \"\"}}, \"type\": \"scattergl\"}], \"scattermapbox\": [{\"marker\": {\"colorbar\": {\"outlinewidth\": 0, \"ticks\": \"\"}}, \"type\": \"scattermapbox\"}], \"scatterpolar\": [{\"marker\": {\"colorbar\": {\"outlinewidth\": 0, \"ticks\": \"\"}}, \"type\": \"scatterpolar\"}], \"scatterpolargl\": [{\"marker\": {\"colorbar\": {\"outlinewidth\": 0, \"ticks\": \"\"}}, \"type\": \"scatterpolargl\"}], \"scatterternary\": [{\"marker\": {\"colorbar\": {\"outlinewidth\": 0, \"ticks\": \"\"}}, \"type\": \"scatterternary\"}], \"surface\": [{\"colorbar\": {\"outlinewidth\": 0, \"ticks\": \"\"}, \"colorscale\": [[0.0, \"#0d0887\"], [0.1111111111111111, \"#46039f\"], [0.2222222222222222, \"#7201a8\"], [0.3333333333333333, \"#9c179e\"], [0.4444444444444444, \"#bd3786\"], [0.5555555555555556, \"#d8576b\"], [0.6666666666666666, \"#ed7953\"], [0.7777777777777778, \"#fb9f3a\"], [0.8888888888888888, \"#fdca26\"], [1.0, \"#f0f921\"]], \"type\": \"surface\"}], \"table\": [{\"cells\": {\"fill\": {\"color\": \"#EBF0F8\"}, \"line\": {\"color\": \"white\"}}, \"header\": {\"fill\": {\"color\": \"#C8D4E3\"}, \"line\": {\"color\": \"white\"}}, \"type\": \"table\"}]}, \"layout\": {\"annotationdefaults\": {\"arrowcolor\": \"#2a3f5f\", \"arrowhead\": 0, \"arrowwidth\": 1}, \"colorscale\": {\"diverging\": [[0, \"#8e0152\"], [0.1, \"#c51b7d\"], [0.2, \"#de77ae\"], [0.3, \"#f1b6da\"], [0.4, \"#fde0ef\"], [0.5, \"#f7f7f7\"], [0.6, \"#e6f5d0\"], [0.7, \"#b8e186\"], [0.8, \"#7fbc41\"], [0.9, \"#4d9221\"], [1, \"#276419\"]], \"sequential\": [[0.0, \"#0d0887\"], [0.1111111111111111, \"#46039f\"], [0.2222222222222222, \"#7201a8\"], [0.3333333333333333, \"#9c179e\"], [0.4444444444444444, \"#bd3786\"], [0.5555555555555556, \"#d8576b\"], [0.6666666666666666, \"#ed7953\"], [0.7777777777777778, \"#fb9f3a\"], [0.8888888888888888, \"#fdca26\"], [1.0, \"#f0f921\"]], \"sequentialminus\": [[0.0, \"#0d0887\"], [0.1111111111111111, \"#46039f\"], [0.2222222222222222, \"#7201a8\"], [0.3333333333333333, \"#9c179e\"], [0.4444444444444444, \"#bd3786\"], [0.5555555555555556, \"#d8576b\"], [0.6666666666666666, \"#ed7953\"], [0.7777777777777778, \"#fb9f3a\"], [0.8888888888888888, \"#fdca26\"], [1.0, \"#f0f921\"]]}, \"colorway\": [\"#636efa\", \"#EF553B\", \"#00cc96\", \"#ab63fa\", \"#FFA15A\", \"#19d3f3\", \"#FF6692\", \"#B6E880\", \"#FF97FF\", \"#FECB52\"], \"font\": {\"color\": \"#2a3f5f\"}, \"geo\": {\"bgcolor\": \"white\", \"lakecolor\": \"white\", \"landcolor\": \"#E5ECF6\", \"showlakes\": true, \"showland\": true, \"subunitcolor\": \"white\"}, \"hoverlabel\": {\"align\": \"left\"}, \"hovermode\": \"closest\", \"mapbox\": {\"style\": \"light\"}, \"paper_bgcolor\": \"white\", \"plot_bgcolor\": \"#E5ECF6\", \"polar\": {\"angularaxis\": {\"gridcolor\": \"white\", \"linecolor\": \"white\", \"ticks\": \"\"}, \"bgcolor\": \"#E5ECF6\", \"radialaxis\": {\"gridcolor\": \"white\", \"linecolor\": \"white\", \"ticks\": \"\"}}, \"scene\": {\"xaxis\": {\"backgroundcolor\": \"#E5ECF6\", \"gridcolor\": \"white\", \"gridwidth\": 2, \"linecolor\": \"white\", \"showbackground\": true, \"ticks\": \"\", \"zerolinecolor\": \"white\"}, \"yaxis\": {\"backgroundcolor\": \"#E5ECF6\", \"gridcolor\": \"white\", \"gridwidth\": 2, \"linecolor\": \"white\", \"showbackground\": true, \"ticks\": \"\", \"zerolinecolor\": \"white\"}, \"zaxis\": {\"backgroundcolor\": \"#E5ECF6\", \"gridcolor\": \"white\", \"gridwidth\": 2, \"linecolor\": \"white\", \"showbackground\": true, \"ticks\": \"\", \"zerolinecolor\": \"white\"}}, \"shapedefaults\": {\"line\": {\"color\": \"#2a3f5f\"}}, \"ternary\": {\"aaxis\": {\"gridcolor\": \"white\", \"linecolor\": \"white\", \"ticks\": \"\"}, \"baxis\": {\"gridcolor\": \"white\", \"linecolor\": \"white\", \"ticks\": \"\"}, \"bgcolor\": \"#E5ECF6\", \"caxis\": {\"gridcolor\": \"white\", \"linecolor\": \"white\", \"ticks\": \"\"}}, \"title\": {\"x\": 0.05}, \"xaxis\": {\"automargin\": true, \"gridcolor\": \"white\", \"linecolor\": \"white\", \"ticks\": \"\", \"zerolinecolor\": \"white\", \"zerolinewidth\": 2}, \"yaxis\": {\"automargin\": true, \"gridcolor\": \"white\", \"linecolor\": \"white\", \"ticks\": \"\", \"zerolinecolor\": \"white\", \"zerolinewidth\": 2}}}, \"title\": {\"text\": \"Epilepsy\"}},\n",
       "                        {\"responsive\": true}\n",
       "                    ).then(function(){\n",
       "                            \n",
       "var gd = document.getElementById('12e48b3d-107a-4374-a678-567e1bf55724');\n",
       "var x = new MutationObserver(function (mutations, observer) {{\n",
       "        var display = window.getComputedStyle(gd).display;\n",
       "        if (!display || display === 'none') {{\n",
       "            console.log([gd, 'removed!']);\n",
       "            Plotly.purge(gd);\n",
       "            observer.disconnect();\n",
       "        }}\n",
       "}});\n",
       "\n",
       "// Listen for the removal of the full notebook cells\n",
       "var notebookContainer = gd.closest('#notebook-container');\n",
       "if (notebookContainer) {{\n",
       "    x.observe(notebookContainer, {childList: true});\n",
       "}}\n",
       "\n",
       "// Listen for the clearing of the current output cell\n",
       "var outputEl = gd.closest('.output');\n",
       "if (outputEl) {{\n",
       "    x.observe(outputEl, {childList: true});\n",
       "}}\n",
       "\n",
       "                        })\n",
       "                };\n",
       "                });\n",
       "            </script>\n",
       "        </div>"
      ]
     },
     "metadata": {},
     "output_type": "display_data"
    },
    {
     "name": "stdout",
     "output_type": "stream",
     "text": [
      "Augmentation degree: 4.000000\n"
     ]
    },
    {
     "data": {
      "application/vnd.plotly.v1+json": {
       "config": {
        "plotlyServerURL": "https://plot.ly"
       },
       "data": [
        {
         "hoverlabel": {
          "namelength": 0
         },
         "hovertemplate": "label=epilepsy<br>train_test=train_real<br>x=%{x}<br>y=%{y}<br>z=%{z}",
         "legendgroup": "label=epilepsy, train_test=train_real",
         "marker": {
          "color": "#636efa",
          "symbol": "circle"
         },
         "mode": "markers",
         "name": "label=epilepsy, train_test=train_real",
         "scene": "scene",
         "showlegend": true,
         "type": "scatter3d",
         "x": [
          "-2.461446",
          "4.1780562",
          "-2.1382778",
          "6.6086287",
          "0.24390683",
          "3.2592523",
          "2.0632124",
          "1.8281697",
          "0.96898407",
          "4.7649813",
          "-2.0917358",
          "5.1603923",
          "6.4779744",
          "5.2542253",
          "1.8989881",
          "4.755424",
          "5.4192204",
          "1.1466808",
          "1.3854926",
          "6.503567",
          "3.4112267",
          "-1.7913221",
          "5.525667",
          "0.302261",
          "-0.4430181",
          "-1.6771804",
          "0.5716889",
          "-1.6184946",
          "3.7309442",
          "-0.7380366",
          "-0.0043084123",
          "4.1618133",
          "-1.8082424",
          "5.1381545"
         ],
         "y": [
          "8.440966",
          "-11.677861",
          "7.0297403",
          "-4.1176996",
          "6.405839",
          "-6.8692183",
          "6.3810544",
          "5.396211",
          "5.6356807",
          "-6.5559034",
          "7.0686674",
          "-6.3508735",
          "-4.2458997",
          "-6.3113093",
          "5.478929",
          "1.1276875",
          "-0.20281751",
          "-6.3349915",
          "5.4563875",
          "-5.970587",
          "-6.83992",
          "8.928368",
          "-7.6407685",
          "5.861457",
          "-6.5521383",
          "-7.8637085",
          "5.7924385",
          "-7.713275",
          "5.7232866",
          "-7.522542",
          "-5.8248644",
          "2.5504298",
          "7.19979",
          "0.57852477"
         ],
         "z": [
          "-1.477983",
          "0.37534848",
          "-2.5571957",
          "4.194141",
          "-0.55476445",
          "6.471603",
          "3.2453997",
          "0.18004237",
          "-0.19456914",
          "7.2128687",
          "-2.6275504",
          "6.7386403",
          "5.1285496",
          "6.723306",
          "0.24059337",
          "2.832152",
          "2.8067942",
          "-3.6532176",
          "0.022301417",
          "4.0052533",
          "6.465352",
          "-0.7223752",
          "1.5241132",
          "-0.54306835",
          "-4.1130934",
          "-6.004544",
          "-0.39283088",
          "-7.638256",
          "4.326564",
          "-6.9029584",
          "-2.4754171",
          "4.6839294",
          "-2.7051346",
          "2.7724867"
         ]
        },
        {
         "hoverlabel": {
          "namelength": 0
         },
         "hovertemplate": "label=epilepsy<br>train_test=test<br>x=%{x}<br>y=%{y}<br>z=%{z}",
         "legendgroup": "label=epilepsy, train_test=test",
         "marker": {
          "color": "#636efa",
          "symbol": "cross"
         },
         "mode": "markers",
         "name": "label=epilepsy, train_test=test",
         "scene": "scene",
         "showlegend": true,
         "type": "scatter3d",
         "x": [
          "0.5955449",
          "-2.176632",
          "5.4603777",
          "-1.6595973",
          "5.204842",
          "-2.1050606",
          "-2.0617576",
          "-2.6887436",
          "3.731942",
          "-0.0060134106",
          "-2.8365996",
          "4.2426",
          "-2.5070992",
          "4.353404",
          "4.3321314",
          "-0.048623215",
          "6.5574207",
          "0.0147865405",
          "3.2605379",
          "-0.6388627",
          "-0.74181515",
          "-2.2662342",
          "-3.3056788",
          "-3.1444008",
          "-1.3075907",
          "-0.20414552",
          "-1.0273234",
          "6.7550797",
          "-2.8275456",
          "0.18591137",
          "1.9815431",
          "-1.0678825",
          "2.4710188",
          "-2.6008234"
         ],
         "y": [
          "-5.894474",
          "8.812106",
          "-2.148449",
          "-7.4751997",
          "-6.3714795",
          "8.958539",
          "8.900218",
          "8.130723",
          "2.31081",
          "9.73996",
          "6.556887",
          "-11.818219",
          "6.5896645",
          "2.6450844",
          "5.696146",
          "-5.8361034",
          "-5.29887",
          "-7.318851",
          "-6.874384",
          "-6.8022976",
          "-7.581475",
          "6.59336",
          "6.367732",
          "7.297297",
          "5.5586433",
          "-5.5543876",
          "-7.7043366",
          "-3.7004063",
          "6.761309",
          "-5.727439",
          "5.466932",
          "6.787466",
          "-6.3137536",
          "8.511051"
         ],
         "z": [
          "-2.6331694",
          "-0.8743871",
          "3.7510922",
          "-4.4583044",
          "7.1957192",
          "-0.42354703",
          "-0.2994837",
          "-1.8952755",
          "4.821884",
          "-0.54520816",
          "-1.3002638",
          "0.5401259",
          "-0.709101",
          "4.59054",
          "4.095024",
          "-2.5506957",
          "3.8584929",
          "-6.098591",
          "6.527681",
          "-3.447499",
          "-7.365972",
          "-0.8956333",
          "-0.7060233",
          "-2.4560366",
          "-1.8426465",
          "-2.0347583",
          "-7.2989936",
          "3.7584379",
          "-1.9494823",
          "-2.2408965",
          "0.2101746",
          "-0.91368544",
          "-2.0162063",
          "-1.4921548"
         ]
        },
        {
         "hoverlabel": {
          "namelength": 0
         },
         "hovertemplate": "label=epilepsy<br>train_test=train_synthetic<br>x=%{x}<br>y=%{y}<br>z=%{z}",
         "legendgroup": "label=epilepsy, train_test=train_synthetic",
         "marker": {
          "color": "#636efa",
          "symbol": "circle-open"
         },
         "mode": "markers",
         "name": "label=epilepsy, train_test=train_synthetic",
         "scene": "scene",
         "showlegend": true,
         "type": "scatter3d",
         "x": [
          "6.6849046",
          "0.95715547",
          "6.7696905",
          "6.759329",
          "0.18539794",
          "4.5051765",
          "6.866951",
          "6.6029487",
          "-0.010838501",
          "2.472743",
          "2.4730449",
          "0.3217819",
          "1.7264751",
          "1.0271498",
          "4.722467",
          "6.832344",
          "6.718686",
          "0.34887427",
          "4.1584806",
          "4.1854258",
          "4.5052896",
          "7.0034175",
          "0.35127196",
          "4.7229133",
          "6.603304",
          "4.1572104",
          "4.4662085",
          "6.793344",
          "5.7889566",
          "0.95913",
          "1.4748048",
          "6.730618",
          "6.409744",
          "-1.0949507",
          "5.756674",
          "-1.0949535",
          "6.603487",
          "6.684946",
          "1.6829071",
          "4.465979",
          "0.18629739",
          "0.32297623",
          "6.8739576",
          "0.2938801",
          "3.1688259",
          "4.1854086",
          "6.6031823",
          "6.858876",
          "-1.0933312",
          "6.5770693",
          "6.953595",
          "6.8565536",
          "6.8428435",
          "6.7144284",
          "6.787467",
          "0.34888777",
          "6.8669825",
          "1.8909067",
          "0.5082769",
          "-1.1202468",
          "6.9534526",
          "-1.0933379",
          "6.953597",
          "5.7738295",
          "0.97409093",
          "3.083713",
          "6.8669753",
          "6.890708",
          "6.856449",
          "6.451528",
          "0.36472443",
          "3.6427987",
          "6.714459",
          "0.18597656",
          "1.0078413",
          "4.157421",
          "-1.3350092",
          "2.1654406",
          "4.157475",
          "-1.2754401",
          "6.6077027",
          "1.8943903",
          "0.9369167",
          "2.473456",
          "6.6036325",
          "6.6027036",
          "5.788951",
          "4.227466",
          "6.759317",
          "6.856491",
          "1.0756783",
          "6.8908987",
          "1.0758128",
          "4.3460617",
          "7.054247",
          "1.0079459",
          "-1.2754333",
          "0.29302925",
          "-0.7582275",
          "1.7284062",
          "6.8428564",
          "3.6855016",
          "5.7889557",
          "0.5080574",
          "3.0835397",
          "4.7225895",
          "6.8323298",
          "1.4749553",
          "6.603305",
          "1.0427605",
          "6.832351",
          "6.684817",
          "0.36513886",
          "4.3460703",
          "6.8587184",
          "6.8429003",
          "6.730624",
          "1.0778639",
          "-0.008256498",
          "1.7284234",
          "4.1569753",
          "-0.008284967",
          "5.7738347",
          "4.3460655",
          "-1.3350666",
          "6.858878",
          "0.95679885",
          "6.4092965",
          "6.714459",
          "6.8910084",
          "-0.75808334",
          "0.29424763",
          "0.35128418",
          "0.294187",
          "6.987222",
          "6.832343",
          "0.3657049",
          "6.5770664",
          "6.7907286",
          "2.47282",
          "0.32177848",
          "6.790763",
          "6.87396",
          "6.8564825",
          "6.891013",
          "6.8743353",
          "-0.31785893",
          "6.451519",
          "6.7592306",
          "6.8909",
          "4.1575303"
         ],
         "y": [
          "-4.204593",
          "8.137901",
          "-1.3311574",
          "-3.8685474",
          "-6.589051",
          "5.081145",
          "0.1668259",
          "1.5160159",
          "8.05167",
          "7.3124294",
          "7.313623",
          "8.392127",
          "8.021862",
          "8.358936",
          "5.135165",
          "-1.6350685",
          "-2.310115",
          "8.620752",
          "5.627536",
          "5.0149164",
          "5.08007",
          "0.76885194",
          "-6.6238074",
          "5.134663",
          "1.5168235",
          "5.625564",
          "4.289597",
          "-2.1808517",
          "5.0894785",
          "8.141483",
          "-6.232076",
          "-2.7711625",
          "1.8818133",
          "-7.1949253",
          "5.089985",
          "-7.1949325",
          "1.5173228",
          "-4.204317",
          "8.211776",
          "4.289231",
          "-6.591665",
          "8.3917465",
          "-0.15958883",
          "-6.8287444",
          "6.3686543",
          "5.0148582",
          "1.5172982",
          "-1.08254",
          "-7.1949654",
          "-4.672252",
          "-2.7856643",
          "1.0953588",
          "-0.83404267",
          "-1.1943395",
          "-0.2755328",
          "8.620753",
          "0.16685192",
          "8.095598",
          "-6.414086",
          "-7.5503826",
          "-2.7856417",
          "-7.194981",
          "-2.7858524",
          "4.9414134",
          "8.185308",
          "6.1378217",
          "0.16688323",
          "-0.37610954",
          "1.0958112",
          "2.3179116",
          "8.741815",
          "6.0661364",
          "-1.1938665",
          "-6.591982",
          "-6.4741783",
          "5.625437",
          "-7.4115434",
          "7.6605163",
          "5.625439",
          "-7.4639378",
          "-3.8888047",
          "8.09558",
          "8.722229",
          "7.3146944",
          "1.5171579",
          "1.5163175",
          "5.08947",
          "5.544342",
          "-3.868749",
          "1.095882",
          "8.722152",
          "-0.3757932",
          "8.722079",
          "3.7422094",
          "0.70077205",
          "-6.4743953",
          "-7.463936",
          "-6.824411",
          "-7.149648",
          "8.0233135",
          "-0.834479",
          "5.658178",
          "5.0894766",
          "-6.412868",
          "6.1376886",
          "5.1348176",
          "-1.6351265",
          "-6.2318497",
          "1.5162017",
          "-6.291074",
          "-1.6352196",
          "-4.204349",
          "8.745679",
          "3.7423363",
          "1.1235012",
          "-0.83349967",
          "-2.7711134",
          "8.726279",
          "8.284636",
          "8.023306",
          "5.625608",
          "8.284606",
          "4.941424",
          "3.742217",
          "-7.411667",
          "-1.0825157",
          "8.1381855",
          "1.8815825",
          "-1.1943165",
          "-0.375822",
          "-7.1502037",
          "-6.830993",
          "-6.6237955",
          "-6.830826",
          "0.89905953",
          "-1.6351943",
          "8.748737",
          "-4.6723056",
          "-1.8964878",
          "7.313267",
          "8.395156",
          "-1.8965025",
          "-0.15956922",
          "1.0960482",
          "-0.37625095",
          "-0.1595609",
          "-6.960777",
          "2.3177838",
          "-3.8692324",
          "-0.3759196",
          "5.6254582"
         ],
         "z": [
          "3.5653048",
          "-0.4930762",
          "2.9899035",
          "3.199452",
          "-4.0892863",
          "2.3965118",
          "5.2041855",
          "3.570706",
          "-0.8122024",
          "1.4047443",
          "1.4044132",
          "0.095767446",
          "1.0056063",
          "-0.637905",
          "2.4562535",
          "3.0285265",
          "4.8527765",
          "-0.6060864",
          "1.6395181",
          "2.8923266",
          "2.396306",
          "3.242468",
          "-5.0933905",
          "2.456794",
          "3.570722",
          "1.6393005",
          "3.3951533",
          "5.325333",
          "1.7278403",
          "-0.49690723",
          "-3.1790707",
          "4.966554",
          "4.3405952",
          "-4.825644",
          "1.7732884",
          "-4.8256593",
          "3.5707064",
          "3.5650845",
          "0.5119877",
          "3.395171",
          "-4.0886064",
          "0.09540292",
          "4.582923",
          "-4.7734423",
          "1.2437521",
          "2.8924165",
          "3.5706482",
          "4.925816",
          "-4.8275604",
          "4.1258984",
          "2.5779812",
          "4.9654675",
          "5.5119996",
          "3.8357666",
          "2.6470687",
          "-0.606088",
          "5.204179",
          "0.46917924",
          "-4.4090734",
          "-6.1556854",
          "2.5794506",
          "-4.827597",
          "2.577925",
          "1.9751369",
          "-0.5321454",
          "1.0584886",
          "5.204221",
          "2.5843987",
          "4.965264",
          "4.2841806",
          "0.008095224",
          "1.5288115",
          "3.835791",
          "-4.0888515",
          "-4.1853333",
          "1.6394417",
          "-6.371596",
          "1.2228639",
          "1.6393442",
          "-6.92374",
          "4.7714586",
          "0.4676605",
          "0.0774836",
          "1.4046379",
          "3.5707302",
          "3.5706522",
          "1.7278614",
          "1.4095609",
          "3.1992462",
          "4.9653654",
          "-0.50698",
          "2.5844293",
          "-0.5089446",
          "3.7699113",
          "3.4958012",
          "-4.1853604",
          "-6.9237285",
          "-4.7744427",
          "-4.5701857",
          "1.0060089",
          "5.512034",
          "1.1954664",
          "1.7278465",
          "-4.409563",
          "1.0583823",
          "2.4566183",
          "3.0285306",
          "-3.1791885",
          "3.5707343",
          "-3.5764956",
          "3.0286474",
          "3.565078",
          "0.0060376115",
          "3.7700214",
          "3.2006001",
          "5.512166",
          "4.966948",
          "-0.48814124",
          "-0.60605925",
          "1.0060118",
          "1.6393082",
          "-0.60604197",
          "1.9751174",
          "3.7699032",
          "-6.371595",
          "4.9258246",
          "-0.49406326",
          "4.3407507",
          "3.8357992",
          "2.5843234",
          "-4.5703588",
          "-4.772153",
          "-5.0933747",
          "-4.772327",
          "4.379531",
          "3.0285366",
          "0.0037305804",
          "4.1258903",
          "4.5576024",
          "1.4048475",
          "0.096016385",
          "4.557598",
          "4.582931",
          "4.96518",
          "2.5849285",
          "4.5830503",
          "-4.3296833",
          "4.284229",
          "3.1994333",
          "2.5844553",
          "1.6394203"
         ]
        },
        {
         "hoverlabel": {
          "namelength": 0
         },
         "hovertemplate": "label=walking<br>train_test=train_real<br>x=%{x}<br>y=%{y}<br>z=%{z}",
         "legendgroup": "label=walking, train_test=train_real",
         "marker": {
          "color": "#EF553B",
          "symbol": "circle"
         },
         "mode": "markers",
         "name": "label=walking, train_test=train_real",
         "scene": "scene",
         "showlegend": true,
         "type": "scatter3d",
         "x": [
          "11.483565",
          "-5.9556985",
          "7.452076",
          "-8.801631",
          "-5.793263",
          "2.3645983",
          "2.2232063",
          "10.55938",
          "-2.4963198",
          "-5.105961",
          "10.350866",
          "-10.114478",
          "-8.371691",
          "-5.569515",
          "7.988792",
          "-3.1472747",
          "-11.551522",
          "2.0939605",
          "-8.331765",
          "-11.684521",
          "-4.4746227",
          "-9.532507",
          "8.9591465",
          "-8.732791",
          "-4.929865",
          "-8.430391",
          "-8.136983",
          "-8.655283",
          "-8.462477",
          "-12.321996",
          "10.522062",
          "-11.902947",
          "8.774369",
          "-2.8491912",
          "-3.781165",
          "10.63442",
          "4.8269067"
         ],
         "y": [
          "6.9640493",
          "6.033779",
          "12.251686",
          "-2.3823237",
          "6.8629007",
          "-6.063141",
          "6.286392",
          "8.603547",
          "-7.9721212",
          "6.21546",
          "10.204443",
          "-11.457402",
          "-4.2499366",
          "-9.354544",
          "9.907234",
          "3.9382648",
          "-2.5652769",
          "6.408421",
          "-5.00492",
          "-2.4530532",
          "6.7159824",
          "-3.8845813",
          "13.22194",
          "-5.483135",
          "6.0280714",
          "-4.9424624",
          "-4.813236",
          "-3.0053275",
          "-4.1384974",
          "-2.029438",
          "11.556106",
          "-2.0354803",
          "10.301056",
          "-8.205176",
          "6.744563",
          "10.414024",
          "-10.676721"
         ],
         "z": [
          "-8.224081",
          "-6.105573",
          "-9.979051",
          "2.975302",
          "-4.8783116",
          "-1.9100981",
          "4.114663",
          "-8.4970875",
          "-6.2513824",
          "-4.5747166",
          "-7.528125",
          "-5.133856",
          "4.997287",
          "-4.8903036",
          "-8.639691",
          "-9.33471",
          "6.2194467",
          "3.3403451",
          "4.2545934",
          "5.9777427",
          "-5.0096073",
          "0.81006616",
          "-7.420296",
          "2.8934531",
          "-5.9524107",
          "3.6605928",
          "6.222134",
          "2.3420587",
          "4.937834",
          "4.947715",
          "-6.6427813",
          "4.858159",
          "-8.6318035",
          "-6.1095824",
          "-3.4666095",
          "-7.0050735",
          "-1.8832781"
         ]
        },
        {
         "hoverlabel": {
          "namelength": 0
         },
         "hovertemplate": "label=walking<br>train_test=test<br>x=%{x}<br>y=%{y}<br>z=%{z}",
         "legendgroup": "label=walking, train_test=test",
         "marker": {
          "color": "#EF553B",
          "symbol": "cross"
         },
         "mode": "markers",
         "name": "label=walking, train_test=test",
         "scene": "scene",
         "showlegend": true,
         "type": "scatter3d",
         "x": [
          "-9.151105",
          "-8.773215",
          "-11.260024",
          "-8.119191",
          "10.966759",
          "-6.234605",
          "10.062205",
          "-10.95038",
          "-5.8925037",
          "4.827771",
          "-9.369147",
          "-1.0034351",
          "-8.530195",
          "-8.790485",
          "-6.3093967",
          "-3.9278007",
          "-8.312825",
          "-1.455206",
          "-10.205886",
          "4.2025943",
          "2.052279",
          "-7.83987",
          "-9.725036",
          "-8.735766",
          "10.424044",
          "11.017331",
          "-9.290183",
          "4.368573",
          "2.421247",
          "-6.315654",
          "-0.35864198",
          "-9.922473",
          "-8.9896555",
          "4.6403446",
          "-8.241958",
          "-8.610265",
          "-8.15045"
         ],
         "y": [
          "-3.6900432",
          "-3.4048903",
          "-2.702257",
          "-4.7992153",
          "7.8164697",
          "6.464069",
          "9.719433",
          "-2.9262843",
          "6.5161576",
          "-10.694554",
          "-2.4742897",
          "-6.0980463",
          "-2.3562806",
          "-4.6807356",
          "6.416008",
          "-5.002124",
          "-4.598078",
          "-7.4376016",
          "-3.0489814",
          "5.5703597",
          "-6.0079627",
          "-2.1957545",
          "-3.7840855",
          "-2.830466",
          "9.7452135",
          "7.7526646",
          "-4.9487596",
          "5.6007776",
          "-6.027979",
          "6.4855113",
          "-6.3901286",
          "-3.106865",
          "-3.2619483",
          "-10.270645",
          "-4.8764534",
          "-4.6457415",
          "-4.7986107"
         ],
         "z": [
          "1.6245902",
          "5.021819",
          "6.4553456",
          "6.29874",
          "-8.259525",
          "-6.065075",
          "-8.888402",
          "6.716986",
          "-6.014381",
          "-1.9308937",
          "3.6095834",
          "-4.769931",
          "2.94667",
          "1.6508013",
          "-6.1039567",
          "9.889955",
          "4.98353",
          "-5.9641395",
          "0.74385464",
          "3.5594134",
          "-2.0513072",
          "2.814598",
          "1.3852547",
          "3.1339529",
          "-9.199523",
          "-8.226527",
          "1.5995263",
          "3.848668",
          "-1.8409703",
          "-6.0973625",
          "-5.915517",
          "1.120794",
          "2.138038",
          "-1.5515057",
          "5.2290745",
          "1.6509029",
          "2.2308996"
         ]
        },
        {
         "hoverlabel": {
          "namelength": 0
         },
         "hovertemplate": "label=walking<br>train_test=train_synthetic<br>x=%{x}<br>y=%{y}<br>z=%{z}",
         "legendgroup": "label=walking, train_test=train_synthetic",
         "marker": {
          "color": "#EF553B",
          "symbol": "circle-open"
         },
         "mode": "markers",
         "name": "label=walking, train_test=train_synthetic",
         "scene": "scene",
         "showlegend": true,
         "type": "scatter3d",
         "x": [
          "-5.2475805",
          "-11.523426",
          "9.105192",
          "-10.555924",
          "-5.491658",
          "-5.3293953",
          "-12.087014",
          "4.314753",
          "-5.519284",
          "8.8751745",
          "-9.58999",
          "4.5361605",
          "8.153591",
          "-8.401983",
          "9.606209",
          "8.107152",
          "-8.98865",
          "-3.623271",
          "-10.634343",
          "-11.372274",
          "8.014052",
          "-5.2475123",
          "-5.145549",
          "-11.372302",
          "7.951782",
          "-9.3902645",
          "8.014056",
          "-11.372284",
          "9.69157",
          "-12.05488",
          "9.461728",
          "-5.1456404",
          "8.107339",
          "4.3148365",
          "-9.509782",
          "-8.741287",
          "10.500712",
          "7.802306",
          "9.691242",
          "-4.0076494",
          "-12.185955",
          "-10.548973",
          "-2.6834233",
          "-4.322156",
          "4.3149056",
          "5.737471",
          "-8.709842",
          "10.62099",
          "8.529791",
          "-9.590186",
          "-9.859163",
          "9.461538",
          "5.73872",
          "-4.7088304",
          "5.644374",
          "5.644398",
          "-11.52483",
          "-9.594069",
          "9.083811",
          "9.083508",
          "-10.3918085",
          "-4.1624236",
          "9.879743",
          "-4.85902",
          "7.9515295",
          "5.949229",
          "-9.603432",
          "8.107347",
          "7.954393",
          "-10.025809",
          "-11.372285",
          "-4.776619",
          "6.190409",
          "9.606234",
          "9.312882",
          "-8.401994",
          "-4.778282",
          "-5.003842",
          "8.104823",
          "8.014033",
          "10.435947",
          "-11.372354",
          "-8.401959",
          "8.871646",
          "-4.7765536",
          "-10.463938",
          "-12.054916",
          "-10.0256",
          "-4.861079",
          "-11.721474",
          "8.104875",
          "4.3149624",
          "-11.827153",
          "-8.423478",
          "-10.634454",
          "9.6062155",
          "4.3147216",
          "-9.482585",
          "9.084891",
          "-4.1926246",
          "-12.056297",
          "-1.179037",
          "7.956527",
          "-11.372313",
          "-4.29781",
          "-9.590003",
          "-5.519236",
          "-8.401946",
          "-2.8711379",
          "-5.1657386",
          "-9.390181",
          "9.084228",
          "-11.552495",
          "-9.620376",
          "5.949357",
          "-2.6833746",
          "8.925148",
          "-2.6835153",
          "6.1898384",
          "-4.5122933",
          "9.86532",
          "-3.1636376",
          "9.606235",
          "10.620983",
          "-8.704079",
          "8.1084175",
          "8.105725",
          "-0.2889119",
          "-4.3228183",
          "-10.548952",
          "9.312696",
          "6.19039",
          "7.95151",
          "-11.930305",
          "-5.519064",
          "-11.525979",
          "-10.4633465",
          "9.691262",
          "-10.556325",
          "-5.328074",
          "9.876598",
          "-5.4917927",
          "8.87522",
          "-9.015068",
          "10.585512",
          "9.69145",
          "-1.1077743",
          "-3.623246"
         ],
         "y": [
          "5.9832177",
          "-2.097482",
          "10.963488",
          "-2.6880932",
          "6.2251587",
          "6.8371735",
          "-2.3110468",
          "-9.864267",
          "-9.342855",
          "12.686028",
          "-4.158444",
          "-10.410675",
          "11.143226",
          "-5.088928",
          "11.853943",
          "12.230832",
          "-4.1816497",
          "-8.734968",
          "-3.07259",
          "-2.443788",
          "12.989083",
          "5.983216",
          "6.867919",
          "-2.4437785",
          "11.513223",
          "-3.719939",
          "12.989079",
          "-2.443783",
          "10.668977",
          "-2.6223755",
          "10.409961",
          "6.867828",
          "12.230627",
          "-9.864262",
          "-4.1245017",
          "-3.5411012",
          "8.725649",
          "10.905666",
          "10.668771",
          "5.8305106",
          "-2.1867979",
          "-3.038278",
          "-8.093718",
          "6.598774",
          "-9.864422",
          "13.4301815",
          "-4.843358",
          "8.41618",
          "11.468309",
          "-4.1583705",
          "-3.3970299",
          "10.410177",
          "13.430165",
          "6.5329413",
          "12.943178",
          "12.943167",
          "-2.0958767",
          "-3.3268073",
          "11.554494",
          "11.554224",
          "-3.2650142",
          "6.6324925",
          "12.429103",
          "6.9116926",
          "11.513318",
          "13.06503",
          "-4.323171",
          "12.230627",
          "11.514833",
          "-3.3548067",
          "-2.4437945",
          "5.9676194",
          "13.468052",
          "11.853852",
          "11.465243",
          "-5.0889277",
          "5.9665666",
          "6.5659947",
          "12.230071",
          "12.989105",
          "8.922591",
          "-2.443803",
          "-5.0889235",
          "12.684828",
          "5.967772",
          "-2.2767215",
          "-2.6223404",
          "-3.3548486",
          "6.9113913",
          "-2.7275865",
          "12.230158",
          "-9.864395",
          "-1.9310428",
          "-5.1007066",
          "-3.0730658",
          "11.853934",
          "-9.864192",
          "-4.301407",
          "11.554711",
          "6.096855",
          "-2.6208322",
          "6.788357",
          "11.51459",
          "-2.443776",
          "6.4542093",
          "-4.158201",
          "-9.342622",
          "-5.0889125",
          "6.838143",
          "6.3978815",
          "-3.7199206",
          "11.5544405",
          "-2.6426878",
          "-3.6151657",
          "13.064994",
          "-8.093687",
          "11.759617",
          "-8.093538",
          "13.467455",
          "6.1025023",
          "9.920945",
          "6.8754506",
          "11.8538475",
          "8.416083",
          "-4.844124",
          "12.231214",
          "12.230712",
          "6.908579",
          "6.5952063",
          "-3.0383508",
          "11.465376",
          "13.468035",
          "11.51334",
          "-2.0652509",
          "-9.342743",
          "-2.0947366",
          "-2.2768357",
          "10.668754",
          "-2.6894667",
          "6.756103",
          "12.433637",
          "6.2252755",
          "12.685976",
          "-3.5554383",
          "8.502558",
          "10.669178",
          "-5.8464684",
          "-8.73496"
         ],
         "z": [
          "-5.359228",
          "5.4904685",
          "-7.6392922",
          "3.1810453",
          "-4.9438953",
          "-4.561991",
          "5.56825",
          "-0.6985001",
          "-4.9121995",
          "-7.735079",
          "0.07337298",
          "-0.9151942",
          "-8.5811",
          "3.9231243",
          "-7.1669965",
          "-8.934679",
          "1.9935329",
          "-5.626417",
          "3.6700206",
          "4.286755",
          "-8.947988",
          "-5.359303",
          "-5.3315287",
          "4.2867017",
          "-9.639722",
          "1.068554",
          "-8.947986",
          "4.286737",
          "-8.11879",
          "5.2974496",
          "-8.594175",
          "-5.3316593",
          "-8.934525",
          "-0.6984378",
          "0.5018267",
          "2.6448703",
          "-8.570994",
          "-9.238363",
          "-8.118466",
          "-5.7520857",
          "4.8289757",
          "2.2653036",
          "-6.122481",
          "-4.196052",
          "-0.69853175",
          "-8.628356",
          "2.681165",
          "-8.459416",
          "-8.351653",
          "0.07357889",
          "3.4044054",
          "-8.594319",
          "-8.62957",
          "-5.577743",
          "-9.109126",
          "-9.109156",
          "5.4908943",
          "3.4129522",
          "-7.776736",
          "-7.7763605",
          "3.2688544",
          "-4.036714",
          "-6.7781935",
          "-4.9438753",
          "-9.638241",
          "-9.218668",
          "-0.41153768",
          "-8.934552",
          "-9.641483",
          "3.4233549",
          "4.2866907",
          "-4.976211",
          "-8.98306",
          "-7.167066",
          "-7.314286",
          "3.9230845",
          "-4.9769936",
          "-5.639712",
          "-8.933229",
          "-8.948001",
          "-8.626849",
          "4.2867203",
          "3.9231582",
          "-7.733948",
          "-4.977565",
          "3.4598498",
          "5.29747",
          "3.422682",
          "-4.9418936",
          "5.430879",
          "-8.933154",
          "-0.69849074",
          "5.346182",
          "3.856883",
          "3.6700692",
          "-7.1670184",
          "-0.6982853",
          "0.34005108",
          "-7.7783237",
          "-5.441072",
          "5.2976737",
          "-0.9607288",
          "-9.640125",
          "4.2866817",
          "-4.5860114",
          "0.07192405",
          "-4.9122076",
          "3.9231567",
          "-2.5503378",
          "-4.5862856",
          "1.068727",
          "-7.7769346",
          "5.671799",
          "1.8911945",
          "-9.218758",
          "-6.1225653",
          "-7.4473143",
          "-6.122707",
          "-8.982713",
          "-5.637936",
          "-8.865459",
          "-2.6918871",
          "-7.1670732",
          "-8.460118",
          "2.6817782",
          "-8.935558",
          "-8.934011",
          "-0.6858783",
          "-4.195021",
          "2.2651122",
          "-7.314195",
          "-8.982971",
          "-9.638247",
          "5.5536604",
          "-4.912325",
          "5.491135",
          "3.4600945",
          "-8.118458",
          "3.1813052",
          "-5.1683235",
          "-6.777153",
          "-4.944078",
          "-7.7350407",
          "2.545346",
          "-8.485952",
          "-8.118742",
          "-4.43667",
          "-5.6264577"
         ]
        },
        {
         "hoverlabel": {
          "namelength": 0
         },
         "hovertemplate": "label=running<br>train_test=train_real<br>x=%{x}<br>y=%{y}<br>z=%{z}",
         "legendgroup": "label=running, train_test=train_real",
         "marker": {
          "color": "#00cc96",
          "symbol": "circle"
         },
         "mode": "markers",
         "name": "label=running, train_test=train_real",
         "scene": "scene",
         "showlegend": true,
         "type": "scatter3d",
         "x": [
          "0.073588476",
          "-0.16748735",
          "0.39677024",
          "-3.3085392",
          "0.47379366",
          "15.529828",
          "14.852715",
          "4.177844",
          "-1.7404103",
          "15.264296",
          "-5.7816",
          "12.54747",
          "12.185009",
          "1.288941",
          "12.18632",
          "-2.671344",
          "-1.8718228",
          "-3.8003173",
          "4.472712",
          "14.421337",
          "-4.9740863",
          "-0.17021923",
          "2.2544773",
          "-3.8403265",
          "1.3822764",
          "-1.4360195",
          "11.987849",
          "-3.3370492",
          "14.502167",
          "-1.3603373",
          "-3.4478157",
          "-3.545662",
          "-2.4933405",
          "-3.545662",
          "-2.586515",
          "-2.779711"
         ],
         "y": [
          "-7.2605968",
          "-7.2386584",
          "-6.821026",
          "0.5818791",
          "-7.246612",
          "1.8957478",
          "2.545433",
          "-6.851116",
          "-6.749501",
          "0.15947896",
          "-5.8955913",
          "1.3839502",
          "5.8887825",
          "-5.7938733",
          "5.8644953",
          "2.4322448",
          "-6.4985285",
          "1.133666",
          "-6.214846",
          "1.3954679",
          "-5.9494815",
          "-7.219748",
          "-6.9098744",
          "1.0433772",
          "-7.2453885",
          "-6.621971",
          "4.434693",
          "2.4246345",
          "4.093872",
          "-6.5541496",
          "2.0891273",
          "3.6508107",
          "2.5060132",
          "3.6508107",
          "2.499635",
          "-6.2111735"
         ],
         "z": [
          "8.20438",
          "8.264211",
          "10.196932",
          "-14.425242",
          "8.665639",
          "-10.293574",
          "-5.4663057",
          "7.6955523",
          "8.95428",
          "-8.079298",
          "7.9859924",
          "-9.890364",
          "-8.377779",
          "11.381909",
          "-8.36562",
          "-11.019548",
          "9.736068",
          "-11.8777075",
          "9.438488",
          "-7.7080655",
          "8.313147",
          "8.384936",
          "7.8937",
          "-11.96936",
          "8.076173",
          "9.821473",
          "-8.161635",
          "-11.002286",
          "-7.685749",
          "9.933656",
          "-11.237765",
          "-10.563685",
          "-11.05234",
          "-10.563685",
          "-10.993981",
          "9.364098"
         ]
        },
        {
         "hoverlabel": {
          "namelength": 0
         },
         "hovertemplate": "label=running<br>train_test=test<br>x=%{x}<br>y=%{y}<br>z=%{z}",
         "legendgroup": "label=running, train_test=test",
         "marker": {
          "color": "#00cc96",
          "symbol": "cross"
         },
         "mode": "markers",
         "name": "label=running, train_test=test",
         "scene": "scene",
         "showlegend": true,
         "type": "scatter3d",
         "x": [
          "-5.9478946",
          "12.185828",
          "16.25252",
          "14.81879",
          "-0.048130043",
          "16.828777",
          "-6.3542185",
          "12.849147",
          "-5.771921",
          "-2.4813185",
          "-6.136935",
          "-2.4381118",
          "12.345089",
          "1.6061867",
          "11.960276",
          "-6.422984",
          "14.856372",
          "14.563429",
          "-6.2142034",
          "14.808541",
          "14.858278",
          "-0.2775779",
          "-6.022082",
          "12.067467",
          "-2.865956",
          "1.5911372",
          "12.366434",
          "-2.899406",
          "-0.90807587",
          "-2.8317392",
          "-2.8966358",
          "-3.3504214",
          "-5.9090815",
          "5.2958694",
          "-2.8855214",
          "12.718896",
          "13.059774"
         ],
         "y": [
          "-5.8934765",
          "5.8389874",
          "2.985875",
          "2.6172304",
          "-7.2526045",
          "0.7798044",
          "-5.8914294",
          "2.1363726",
          "-5.8993297",
          "-6.471671",
          "-5.8886776",
          "-6.5591393",
          "5.5214615",
          "-7.3130355",
          "4.4013534",
          "-5.8928638",
          "2.5478725",
          "0.49953678",
          "-5.889734",
          "2.6428895",
          "2.5268707",
          "-7.21346",
          "-5.8882403",
          "4.4716797",
          "3.4127011",
          "-7.1366887",
          "5.508124",
          "3.2917533",
          "-7.050413",
          "3.2420359",
          "-6.5318437",
          "-5.706313",
          "-5.8947124",
          "-6.322286",
          "3.089481",
          "1.2147682",
          "0.9554153"
         ],
         "z": [
          "7.933027",
          "-8.433636",
          "-8.930917",
          "-5.4893727",
          "8.204102",
          "-8.239107",
          "7.813082",
          "-9.038519",
          "7.9936724",
          "8.971729",
          "7.871345",
          "8.852461",
          "-8.241474",
          "8.940085",
          "-8.18474",
          "7.7956",
          "-5.456516",
          "-8.192053",
          "7.850769",
          "-5.475098",
          "-5.479731",
          "8.31766",
          "7.905537",
          "-8.150282",
          "-10.033354",
          "7.9128942",
          "-8.239662",
          "-10.243294",
          "8.512954",
          "-10.242834",
          "8.661068",
          "9.678119",
          "7.945545",
          "7.6048865",
          "-10.418985",
          "-9.9616995",
          "-9.838402"
         ]
        },
        {
         "hoverlabel": {
          "namelength": 0
         },
         "hovertemplate": "label=running<br>train_test=train_synthetic<br>x=%{x}<br>y=%{y}<br>z=%{z}",
         "legendgroup": "label=running, train_test=train_synthetic",
         "marker": {
          "color": "#00cc96",
          "symbol": "circle-open"
         },
         "mode": "markers",
         "name": "label=running, train_test=train_synthetic",
         "scene": "scene",
         "showlegend": true,
         "type": "scatter3d",
         "x": [
          "15.519114",
          "-2.116832",
          "-3.3570433",
          "15.711844",
          "-0.8823769",
          "14.288179",
          "-1.8297243",
          "1.5803725",
          "4.282554",
          "-1.2501122",
          "15.5789995",
          "0.27865312",
          "-1.9814048",
          "13.701987",
          "4.097773",
          "-2.6460147",
          "13.701991",
          "14.289008",
          "-0.7996347",
          "15.711995",
          "1.9287075",
          "1.6231755",
          "-1.0048493",
          "-3.4488142",
          "-2.1167107",
          "12.791764",
          "14.500039",
          "13.51323",
          "-1.5965074",
          "-3.449068",
          "15.157437",
          "15.378118",
          "15.1576",
          "-1.2478673",
          "3.9193892",
          "-1.7022151",
          "-1.7045377",
          "-2.3164852",
          "-0.79839116",
          "2.2858362",
          "-1.244938",
          "15.577724",
          "4.3858666",
          "-2.6461124",
          "2.0775561",
          "-1.7996027",
          "-2.1168373",
          "-1.9823748",
          "14.288181",
          "-2.859796",
          "-1.1322958",
          "1.5807718",
          "14.247547",
          "3.919383",
          "12.79194",
          "15.377938",
          "3.9076116",
          "14.4993725",
          "-1.7996507",
          "3.5560033",
          "-1.5602826",
          "-2.4884565",
          "4.634955",
          "0.27894738",
          "0.27842224",
          "-0.85848105",
          "3.5559955",
          "4.0983033",
          "-2.8600807",
          "1.5455583",
          "2.280733",
          "2.2766724",
          "13.544367",
          "15.580133",
          "14.50061",
          "4.6352034",
          "14.288044",
          "12.791975",
          "14.509417",
          "2.0854418",
          "-1.9817816",
          "4.0978427",
          "14.509035",
          "14.512222",
          "-1.5602982",
          "14.24762",
          "-3.9572587",
          "0.27872273",
          "-1.7989373",
          "2.229195",
          "14.499193",
          "3.5560188",
          "-1.2434042",
          "2.2435408",
          "-1.8297879",
          "-1.0363259",
          "1.5431297",
          "15.712841",
          "-3.3570864",
          "14.499704",
          "1.6231726",
          "-1.1322317",
          "-1.5968271",
          "-1.1320984",
          "13.093935",
          "2.1919975",
          "15.712599",
          "15.576964",
          "14.5095",
          "14.509866",
          "14.51222",
          "-3.5705872",
          "12.791761",
          "-2.3165452",
          "1.6300453",
          "15.519719",
          "-2.859797",
          "1.8823991",
          "-1.7023903",
          "-1.1863407",
          "15.711934",
          "-0.80097455",
          "-1.9819953",
          "13.569566",
          "-5.3510127",
          "-1.4689611",
          "15.5774355",
          "15.71272",
          "-2.8597934",
          "3.5560153",
          "4.097788",
          "-1.7996382",
          "-1.1322305",
          "13.544357",
          "2.079207",
          "3.9193878",
          "-1.7994589",
          "13.780443",
          "-1.5966588",
          "3.1889212",
          "2.105301",
          "-2.6451387",
          "3.9193907",
          "15.579844",
          "-2.8614142",
          "-2.6457837",
          "4.0977654",
          "4.0981255",
          "-2.3165596"
         ],
         "y": [
          "2.270479",
          "0.7814008",
          "0.3930716",
          "1.1579272",
          "2.049337",
          "1.2274812",
          "-6.0216413",
          "-6.628003",
          "-6.8984075",
          "2.3734534",
          "1.8928025",
          "-6.249582",
          "0.41275176",
          "4.8780546",
          "-6.991192",
          "0.2598763",
          "4.878053",
          "1.227729",
          "2.0827088",
          "1.1580755",
          "-6.678831",
          "-6.916071",
          "2.113729",
          "-6.002265",
          "0.7816417",
          "1.4985253",
          "2.112469",
          "4.968169",
          "-6.123091",
          "-6.0015507",
          "0.67017776",
          "1.4042448",
          "0.670205",
          "2.3778806",
          "-6.160851",
          "0.98077303",
          "0.9822986",
          "0.8209395",
          "2.0930083",
          "-6.68756",
          "2.3746455",
          "1.8915682",
          "-6.904742",
          "0.26005217",
          "-6.0230026",
          "0.70285463",
          "0.78139335",
          "0.41299218",
          "1.2274892",
          "-5.932694",
          "-6.1691384",
          "-6.6245112",
          "4.422149",
          "-6.1608305",
          "1.4985766",
          "1.4040722",
          "-7.250546",
          "2.1121733",
          "0.70321244",
          "-7.0446796",
          "1.4041281",
          "0.41628343",
          "-6.641212",
          "-6.249504",
          "-6.249532",
          "2.2265253",
          "-7.044657",
          "-6.9921236",
          "-5.9326844",
          "-6.4138217",
          "-6.7159805",
          "-6.731309",
          "4.9885387",
          "1.8937228",
          "2.1119952",
          "-6.6412077",
          "1.2274584",
          "1.4985883",
          "2.1981976",
          "-6.059136",
          "0.412733",
          "-6.9909773",
          "2.1997538",
          "4.151869",
          "1.404129",
          "4.422044",
          "-6.075692",
          "-6.2495694",
          "0.70192987",
          "-6.2848506",
          "2.1124737",
          "-7.0446963",
          "2.3756955",
          "-6.2959485",
          "-6.021616",
          "2.2699583",
          "-6.413437",
          "1.1586888",
          "0.39349088",
          "2.1124065",
          "-6.916061",
          "-6.169135",
          "-6.1238475",
          "-6.169128",
          "5.254055",
          "-6.23576",
          "1.1584284",
          "1.8910062",
          "2.1980155",
          "2.1952813",
          "4.151876",
          "-6.101143",
          "1.498524",
          "0.82099074",
          "-6.8732767",
          "2.270657",
          "-5.9326906",
          "-6.5091085",
          "0.9808119",
          "2.242202",
          "1.1577699",
          "2.0972981",
          "0.41289312",
          "1.025206",
          "-5.9179316",
          "1.2662225",
          "1.8913517",
          "1.1585433",
          "-5.9326987",
          "-7.044686",
          "-6.991224",
          "0.70316356",
          "-6.169135",
          "4.988542",
          "-6.0269713",
          "-6.160887",
          "0.7026956",
          "1.6326944",
          "-6.1230297",
          "-6.367813",
          "-6.0018086",
          "0.25918713",
          "-6.1608896",
          "1.8935176",
          "-5.9329724",
          "0.25976676",
          "-6.9911914",
          "-6.991313",
          "0.82091457"
         ],
         "z": [
          "-8.024301",
          "-13.698899",
          "-14.010741",
          "-8.517125",
          "-13.378844",
          "-8.916499",
          "10.665839",
          "11.352304",
          "8.086499",
          "-13.213186",
          "-9.157798",
          "11.148836",
          "-12.251361",
          "-7.691864",
          "9.615673",
          "-13.235771",
          "-7.6918626",
          "-8.915821",
          "-13.176891",
          "-8.516919",
          "10.636839",
          "10.929786",
          "-13.464023",
          "9.351897",
          "-13.699323",
          "-8.903317",
          "-8.255296",
          "-7.7245755",
          "10.656654",
          "9.352465",
          "-7.6633415",
          "-6.8003936",
          "-7.6633496",
          "-13.20271",
          "10.249672",
          "-11.891548",
          "-11.892872",
          "-12.300889",
          "-13.169908",
          "11.185575",
          "-13.202569",
          "-9.159323",
          "8.471028",
          "-13.235784",
          "10.869009",
          "-13.141753",
          "-13.69888",
          "-12.2509575",
          "-8.916415",
          "9.940635",
          "10.8220825",
          "11.354722",
          "-7.627531",
          "10.24969",
          "-8.903059",
          "-6.8006554",
          "9.022108",
          "-8.255963",
          "-13.141914",
          "9.766208",
          "-11.522566",
          "-12.266836",
          "8.711493",
          "11.149213",
          "11.148718",
          "-13.065608",
          "9.766234",
          "9.616728",
          "9.940374",
          "10.723353",
          "11.200323",
          "11.164624",
          "-7.7295256",
          "-9.156725",
          "-8.25314",
          "8.711621",
          "-8.916512",
          "-8.903004",
          "-8.415404",
          "10.799793",
          "-12.25135",
          "9.615894",
          "-8.419895",
          "-7.609832",
          "-11.522545",
          "-7.627513",
          "8.893237",
          "11.1488695",
          "-13.140743",
          "11.337066",
          "-8.257012",
          "9.766157",
          "-13.199862",
          "11.32439",
          "10.665835",
          "-12.207392",
          "10.72438",
          "-8.515985",
          "-14.010676",
          "-8.256012",
          "10.929701",
          "10.822096",
          "10.657336",
          "10.821971",
          "-7.8752",
          "11.346583",
          "-8.51627",
          "-9.160081",
          "-8.414832",
          "-8.408021",
          "-7.6098237",
          "9.121039",
          "-8.903325",
          "-12.301151",
          "11.157665",
          "-8.023665",
          "9.940637",
          "10.579568",
          "-11.891372",
          "-13.444421",
          "-8.517286",
          "-13.160364",
          "-12.251158",
          "-8.546353",
          "8.14933",
          "-11.974878",
          "-9.159518",
          "-8.516109",
          "9.940631",
          "9.766171",
          "9.615727",
          "-13.141809",
          "10.822097",
          "-7.7295294",
          "10.85876",
          "10.249649",
          "-13.14148",
          "-9.212698",
          "10.657224",
          "10.531496",
          "11.016018",
          "-13.236607",
          "10.249642",
          "-9.156912",
          "9.941247",
          "-13.235377",
          "9.615663",
          "9.616173",
          "-12.301025"
         ]
        },
        {
         "hoverlabel": {
          "namelength": 0
         },
         "hovertemplate": "label=sawing<br>train_test=train_real<br>x=%{x}<br>y=%{y}<br>z=%{z}",
         "legendgroup": "label=sawing, train_test=train_real",
         "marker": {
          "color": "#ab63fa",
          "symbol": "circle"
         },
         "mode": "markers",
         "name": "label=sawing, train_test=train_real",
         "scene": "scene",
         "showlegend": true,
         "type": "scatter3d",
         "x": [
          "-7.338095",
          "-8.215318",
          "-5.298947",
          "-3.9502301",
          "6.5169406",
          "-5.441703",
          "-5.1150765",
          "-5.7926755",
          "-5.778842",
          "-10.370416",
          "-3.9770799",
          "8.179403",
          "-5.748427",
          "-4.9021115",
          "-5.249311",
          "-4.652079",
          "-5.8874617",
          "-5.84013",
          "-3.9766266",
          "6.612056",
          "-4.7114725",
          "-4.167786",
          "6.3054104",
          "-5.357331",
          "6.4156218",
          "-4.995258",
          "-10.095313",
          "-3.8973916",
          "5.5754633",
          "-6.1136"
         ],
         "y": [
          "-13.840524",
          "-14.51635",
          "9.5557165",
          "-10.871569",
          "-6.572824",
          "8.395857",
          "-13.282222",
          "7.7493987",
          "10.282248",
          "-12.105196",
          "-11.001742",
          "-12.481279",
          "8.137851",
          "7.903495",
          "-13.22183",
          "11.782247",
          "7.4646792",
          "9.946229",
          "-10.9522505",
          "-7.200823",
          "6.8811965",
          "6.6935816",
          "-12.814545",
          "-12.941539",
          "-6.7980943",
          "7.7525473",
          "-14.742938",
          "-10.533288",
          "-11.920186",
          "8.239916"
         ],
         "z": [
          "-3.839671",
          "-3.5270987",
          "5.3053427",
          "-6.6338835",
          "3.8264518",
          "3.2896647",
          "-5.6551948",
          "4.7273674",
          "7.2178955",
          "-5.7980185",
          "-6.638431",
          "0.8994893",
          "3.9539661",
          "2.8583026",
          "-5.81165",
          "10.323099",
          "4.495722",
          "7.2588773",
          "-6.6525617",
          "3.6021526",
          "3.5383637",
          "3.3264575",
          "0.4515317",
          "-6.198482",
          "3.399883",
          "3.0897672",
          "-3.102001",
          "-6.505757",
          "0.9316638",
          "4.684382"
         ]
        },
        {
         "hoverlabel": {
          "namelength": 0
         },
         "hovertemplate": "label=sawing<br>train_test=test<br>x=%{x}<br>y=%{y}<br>z=%{z}",
         "legendgroup": "label=sawing, train_test=test",
         "marker": {
          "color": "#ab63fa",
          "symbol": "cross"
         },
         "mode": "markers",
         "name": "label=sawing, train_test=test",
         "scene": "scene",
         "showlegend": true,
         "type": "scatter3d",
         "x": [
          "6.51841",
          "-5.575606",
          "5.5678716",
          "7.1068983",
          "-4.151843",
          "6.584385",
          "6.522503",
          "-3.8787434",
          "6.5055075",
          "-5.0054216",
          "-3.8988347",
          "6.0136814",
          "-5.281627",
          "-6.062806",
          "-5.3891063",
          "5.704501",
          "-4.8850274",
          "-5.7459636",
          "5.128958",
          "5.2692547",
          "-4.037843",
          "-5.329541",
          "-4.261911",
          "5.3921075",
          "6.585902",
          "5.8933372",
          "-3.8075151",
          "7.521195",
          "-5.602774",
          "6.758505"
         ],
         "y": [
          "-6.8112717",
          "8.02955",
          "-12.329682",
          "-11.366855",
          "-11.961377",
          "-7.0797267",
          "-6.7346153",
          "-10.260969",
          "-6.6018972",
          "7.389917",
          "-10.768386",
          "-12.426561",
          "-13.291078",
          "8.345188",
          "-13.287967",
          "-12.524568",
          "7.7626824",
          "9.183251",
          "-12.207192",
          "-12.513459",
          "-10.980654",
          "-12.852614",
          "6.7554708",
          "-12.349963",
          "-7.1493783",
          "-7.923421",
          "5.677836",
          "-8.986518",
          "-13.053713",
          "-7.71755"
         ],
         "z": [
          "3.6277714",
          "5.769341",
          "0.5729385",
          "1.1467181",
          "-6.4542203",
          "3.5971253",
          "3.8791556",
          "-6.3679132",
          "3.724626",
          "3.4615116",
          "-6.6325126",
          "0.19517702",
          "-5.7105436",
          "4.0075326",
          "-5.6918006",
          "0.3772977",
          "2.9611685",
          "9.148984",
          "0.6688629",
          "0.34960315",
          "-6.6512804",
          "-6.3244686",
          "3.3753865",
          "0.6273594",
          "3.5634313",
          "1.8280717",
          "6.4371166",
          "3.158128",
          "-6.0206876",
          "3.3646593"
         ]
        },
        {
         "hoverlabel": {
          "namelength": 0
         },
         "hovertemplate": "label=sawing<br>train_test=train_synthetic<br>x=%{x}<br>y=%{y}<br>z=%{z}",
         "legendgroup": "label=sawing, train_test=train_synthetic",
         "marker": {
          "color": "#ab63fa",
          "symbol": "circle-open"
         },
         "mode": "markers",
         "name": "label=sawing, train_test=train_synthetic",
         "scene": "scene",
         "showlegend": true,
         "type": "scatter3d",
         "x": [
          "-5.231515",
          "-4.6618834",
          "-4.5725718",
          "-9.5934305",
          "-5.2114115",
          "-4.956688",
          "-4.5769124",
          "-5.982534",
          "7.2546444",
          "-4.5705004",
          "-5.9822426",
          "6.592117",
          "-4.576561",
          "7.11624",
          "-4.636026",
          "-5.166617",
          "6.931207",
          "-4.6780095",
          "5.9326215",
          "-5.231482",
          "6.824323",
          "-7.680871",
          "7.258369",
          "-4.6465406",
          "-4.950534",
          "-9.015584",
          "-7.84655",
          "-7.680174",
          "7.103496",
          "-5.231515",
          "-4.8735294",
          "-5.83244",
          "-4.5692844",
          "-7.8471284",
          "-10.694493",
          "-9.59343",
          "-4.6197586",
          "-5.2788334",
          "-10.694453",
          "6.8864474",
          "-9.01479",
          "-9.230092",
          "-4.9522095",
          "-5.2315154",
          "-7.6808834",
          "-10.073",
          "-5.6033955",
          "-5.3959293",
          "6.602908",
          "-4.8766665",
          "-9.015335",
          "-8.905175",
          "-9.0154295",
          "-7.8480425",
          "-5.5446014",
          "6.5847254",
          "-5.4062905",
          "6.824282",
          "6.8247285",
          "-4.9492736",
          "-5.23148",
          "6.9778905",
          "6.5468545",
          "6.5681973",
          "-5.231515",
          "-10.0729265",
          "6.72027",
          "-5.5950994",
          "-5.395933",
          "-8.540004",
          "-5.2033744",
          "-4.982782",
          "-8.905735",
          "7.0459104",
          "7.2583575",
          "6.88683",
          "7.1609764",
          "-5.6523833",
          "-5.4085326",
          "7.207973",
          "7.2080274",
          "6.745605",
          "-4.948809",
          "6.8156815",
          "-5.5696096",
          "-7.8450665",
          "-4.6920233",
          "-5.5696144",
          "-5.6600437",
          "6.8108616",
          "-9.012894",
          "-9.230029",
          "-5.53581",
          "-5.23148",
          "-8.54022",
          "-5.62298",
          "6.769574",
          "-9.013938",
          "-3.550994",
          "-4.967777",
          "7.0799556",
          "-7.55307",
          "7.0630918",
          "-3.550918",
          "-6.0913167",
          "-5.3950715",
          "-5.271412",
          "-4.958574",
          "-8.540105",
          "-5.6349773",
          "7.2080355",
          "6.8865433",
          "-5.569075",
          "-4.9213147",
          "-7.6805644",
          "-5.6229806",
          "-4.9467487",
          "-7.553087",
          "-4.7992196",
          "-5.701524",
          "-7.6790867",
          "-5.3500986",
          "-5.345494",
          "-9.593374",
          "-5.5351686",
          "-7.8451343",
          "7.162331",
          "-5.458638",
          "-6.45295",
          "6.726293",
          "-5.595319",
          "-5.640815",
          "-8.539826",
          "-5.3178043",
          "-9.015489",
          "-8.540152",
          "5.9325995",
          "-5.411254",
          "-10.07319",
          "-5.2921863",
          "-7.679859",
          "-9.603786",
          "-4.9584994",
          "-10.073053",
          "-4.3576503",
          "-8.540417",
          "-9.012665",
          "-10.073069",
          "7.25839",
          "6.59304",
          "-7.5530696",
          "-4.6899137",
          "-7.844117",
          "-5.218225",
          "7.252229"
         ],
         "y": [
          "9.124408",
          "11.272688",
          "6.295734",
          "-12.153884",
          "8.832314",
          "6.64542",
          "5.4881477",
          "-12.776476",
          "-9.909079",
          "6.292277",
          "-12.776561",
          "-8.675239",
          "5.4880905",
          "-10.047282",
          "11.246022",
          "11.372733",
          "-12.44668",
          "10.349315",
          "-12.263367",
          "9.124341",
          "-12.428611",
          "-13.092321",
          "-11.903691",
          "10.566861",
          "5.8363185",
          "-13.353661",
          "-13.5288105",
          "-13.092543",
          "-9.779054",
          "9.124384",
          "6.2655454",
          "-12.131466",
          "6.2889524",
          "-13.529301",
          "-13.234234",
          "-12.153898",
          "10.88933",
          "11.023762",
          "-13.233636",
          "-12.179029",
          "-13.352051",
          "-11.8421335",
          "6.66155",
          "9.124399",
          "-13.092283",
          "-13.431682",
          "-11.806904",
          "-11.790764",
          "-9.162936",
          "10.800774",
          "-13.353617",
          "-14.632332",
          "-13.35366",
          "-13.529573",
          "10.548271",
          "-9.852784",
          "10.349095",
          "-12.429973",
          "-12.42793",
          "6.1560407",
          "9.124389",
          "-8.921762",
          "-9.92713",
          "-9.986747",
          "9.124386",
          "-13.431686",
          "-9.196063",
          "6.0750732",
          "-11.790765",
          "-12.347941",
          "10.923288",
          "10.214587",
          "-14.63234",
          "-8.93435",
          "-11.90379",
          "-12.178763",
          "-9.034846",
          "9.2396965",
          "6.259851",
          "-12.039721",
          "-12.039464",
          "-9.199623",
          "5.838199",
          "-10.085406",
          "-13.09312",
          "-13.529205",
          "10.320847",
          "-13.093116",
          "7.602205",
          "-9.757573",
          "-13.346196",
          "-11.842117",
          "10.662283",
          "9.1243515",
          "-12.348126",
          "9.28354",
          "-9.766122",
          "-13.348095",
          "5.662439",
          "6.623141",
          "-9.773088",
          "-14.052058",
          "-10.064236",
          "5.663462",
          "-12.856133",
          "-11.791055",
          "10.932715",
          "10.217006",
          "-12.348177",
          "6.522052",
          "-12.039487",
          "-12.179007",
          "9.268069",
          "10.820363",
          "-13.09243",
          "9.283536",
          "5.8368554",
          "-14.052067",
          "10.818328",
          "6.236995",
          "-13.092759",
          "10.313254",
          "6.3014646",
          "-12.15389",
          "10.664561",
          "-13.529203",
          "-9.04629",
          "6.6832266",
          "-12.718228",
          "-10.071293",
          "6.0751085",
          "6.511781",
          "-12.3476925",
          "6.7754674",
          "-13.3537035",
          "-12.347974",
          "-12.263257",
          "6.2583294",
          "-13.4318695",
          "10.927125",
          "-13.092666",
          "-14.704138",
          "6.7837567",
          "-13.431877",
          "5.2179403",
          "-12.348219",
          "-13.347023",
          "-13.432126",
          "-11.903837",
          "-8.674666",
          "-14.052058",
          "10.642611",
          "-13.527301",
          "11.337422",
          "-9.919205"
         ],
         "z": [
          "7.7803326",
          "9.337147",
          "6.352846",
          "-5.8531337",
          "7.267646",
          "5.655343",
          "5.359372",
          "-6.8370523",
          "1.8740333",
          "6.3482337",
          "-6.8368554",
          "2.3710394",
          "5.358605",
          "2.1337194",
          "9.35507",
          "9.398064",
          "0.6742436",
          "9.032185",
          "0.7752175",
          "7.7802067",
          "0.98099816",
          "-4.541845",
          "0.7889738",
          "8.799544",
          "6.384446",
          "-3.9608724",
          "-4.898677",
          "-4.5422997",
          "1.6280805",
          "7.780312",
          "6.620716",
          "-6.8565874",
          "6.34335",
          "-4.8986044",
          "-4.1033525",
          "-5.8531275",
          "9.682078",
          "9.735095",
          "-4.103777",
          "0.49128032",
          "-3.9589632",
          "-5.838159",
          "5.669778",
          "7.7803254",
          "-4.5420237",
          "-3.8331995",
          "-7.0074315",
          "-6.984415",
          "2.4942698",
          "8.628947",
          "-3.9608452",
          "-3.232794",
          "-3.9608102",
          "-4.898603",
          "9.019475",
          "1.7538851",
          "9.213017",
          "0.98036444",
          "0.9808765",
          "6.623921",
          "7.78025",
          "2.097278",
          "1.8872129",
          "1.9952517",
          "7.7803183",
          "-3.8331864",
          "2.587921",
          "5.792802",
          "-6.984415",
          "-5.6232123",
          "9.801461",
          "9.255143",
          "-3.2329378",
          "2.133494",
          "0.7892519",
          "0.49098006",
          "2.3393242",
          "5.846603",
          "5.5301967",
          "1.1001967",
          "1.0998578",
          "2.598604",
          "6.382961",
          "2.1903121",
          "-6.8225093",
          "-4.8982787",
          "9.058645",
          "-6.822496",
          "5.3289585",
          "1.5856025",
          "-3.9535093",
          "-5.838184",
          "8.913272",
          "7.780221",
          "-5.6241302",
          "5.6230903",
          "1.5986911",
          "-3.9554515",
          "4.8107285",
          "5.6330924",
          "1.6148896",
          "-4.080399",
          "2.1609406",
          "4.8106728",
          "-6.723608",
          "-6.9844227",
          "8.650832",
          "9.247556",
          "-5.6241",
          "6.12793",
          "1.0998702",
          "0.4909933",
          "5.4045124",
          "8.621348",
          "-4.542032",
          "5.623086",
          "6.3829675",
          "-4.080416",
          "9.794152",
          "6.0015073",
          "-4.5446577",
          "9.249172",
          "5.5048914",
          "-5.8531284",
          "8.911238",
          "-4.898271",
          "2.3608594",
          "6.1483545",
          "-6.3498425",
          "2.1594083",
          "5.7931695",
          "6.123541",
          "-5.6232224",
          "6.102731",
          "-3.9608293",
          "-5.6238213",
          "0.7751442",
          "5.5315595",
          "-3.8330667",
          "8.659834",
          "-4.5426517",
          "-3.1214008",
          "5.827968",
          "-3.8330414",
          "5.063879",
          "-5.6233335",
          "-3.9529917",
          "-3.8328524",
          "0.78924775",
          "2.370696",
          "-4.080397",
          "8.726226",
          "-4.899248",
          "9.442263",
          "1.8905072"
         ]
        }
       ],
       "layout": {
        "height": 600,
        "legend": {
         "tracegroupgap": 0
        },
        "scene": {
         "domain": {
          "x": [
           0,
           0.98
          ],
          "y": [
           0,
           1
          ]
         },
         "xaxis": {
          "title": {
           "text": "x"
          }
         },
         "yaxis": {
          "title": {
           "text": "y"
          }
         },
         "zaxis": {
          "title": {
           "text": "z"
          }
         }
        },
        "template": {
         "data": {
          "bar": [
           {
            "error_x": {
             "color": "#2a3f5f"
            },
            "error_y": {
             "color": "#2a3f5f"
            },
            "marker": {
             "line": {
              "color": "#E5ECF6",
              "width": 0.5
             }
            },
            "type": "bar"
           }
          ],
          "barpolar": [
           {
            "marker": {
             "line": {
              "color": "#E5ECF6",
              "width": 0.5
             }
            },
            "type": "barpolar"
           }
          ],
          "carpet": [
           {
            "aaxis": {
             "endlinecolor": "#2a3f5f",
             "gridcolor": "white",
             "linecolor": "white",
             "minorgridcolor": "white",
             "startlinecolor": "#2a3f5f"
            },
            "baxis": {
             "endlinecolor": "#2a3f5f",
             "gridcolor": "white",
             "linecolor": "white",
             "minorgridcolor": "white",
             "startlinecolor": "#2a3f5f"
            },
            "type": "carpet"
           }
          ],
          "choropleth": [
           {
            "colorbar": {
             "outlinewidth": 0,
             "ticks": ""
            },
            "type": "choropleth"
           }
          ],
          "contour": [
           {
            "colorbar": {
             "outlinewidth": 0,
             "ticks": ""
            },
            "colorscale": [
             [
              0,
              "#0d0887"
             ],
             [
              0.1111111111111111,
              "#46039f"
             ],
             [
              0.2222222222222222,
              "#7201a8"
             ],
             [
              0.3333333333333333,
              "#9c179e"
             ],
             [
              0.4444444444444444,
              "#bd3786"
             ],
             [
              0.5555555555555556,
              "#d8576b"
             ],
             [
              0.6666666666666666,
              "#ed7953"
             ],
             [
              0.7777777777777778,
              "#fb9f3a"
             ],
             [
              0.8888888888888888,
              "#fdca26"
             ],
             [
              1,
              "#f0f921"
             ]
            ],
            "type": "contour"
           }
          ],
          "contourcarpet": [
           {
            "colorbar": {
             "outlinewidth": 0,
             "ticks": ""
            },
            "type": "contourcarpet"
           }
          ],
          "heatmap": [
           {
            "colorbar": {
             "outlinewidth": 0,
             "ticks": ""
            },
            "colorscale": [
             [
              0,
              "#0d0887"
             ],
             [
              0.1111111111111111,
              "#46039f"
             ],
             [
              0.2222222222222222,
              "#7201a8"
             ],
             [
              0.3333333333333333,
              "#9c179e"
             ],
             [
              0.4444444444444444,
              "#bd3786"
             ],
             [
              0.5555555555555556,
              "#d8576b"
             ],
             [
              0.6666666666666666,
              "#ed7953"
             ],
             [
              0.7777777777777778,
              "#fb9f3a"
             ],
             [
              0.8888888888888888,
              "#fdca26"
             ],
             [
              1,
              "#f0f921"
             ]
            ],
            "type": "heatmap"
           }
          ],
          "heatmapgl": [
           {
            "colorbar": {
             "outlinewidth": 0,
             "ticks": ""
            },
            "colorscale": [
             [
              0,
              "#0d0887"
             ],
             [
              0.1111111111111111,
              "#46039f"
             ],
             [
              0.2222222222222222,
              "#7201a8"
             ],
             [
              0.3333333333333333,
              "#9c179e"
             ],
             [
              0.4444444444444444,
              "#bd3786"
             ],
             [
              0.5555555555555556,
              "#d8576b"
             ],
             [
              0.6666666666666666,
              "#ed7953"
             ],
             [
              0.7777777777777778,
              "#fb9f3a"
             ],
             [
              0.8888888888888888,
              "#fdca26"
             ],
             [
              1,
              "#f0f921"
             ]
            ],
            "type": "heatmapgl"
           }
          ],
          "histogram": [
           {
            "marker": {
             "colorbar": {
              "outlinewidth": 0,
              "ticks": ""
             }
            },
            "type": "histogram"
           }
          ],
          "histogram2d": [
           {
            "colorbar": {
             "outlinewidth": 0,
             "ticks": ""
            },
            "colorscale": [
             [
              0,
              "#0d0887"
             ],
             [
              0.1111111111111111,
              "#46039f"
             ],
             [
              0.2222222222222222,
              "#7201a8"
             ],
             [
              0.3333333333333333,
              "#9c179e"
             ],
             [
              0.4444444444444444,
              "#bd3786"
             ],
             [
              0.5555555555555556,
              "#d8576b"
             ],
             [
              0.6666666666666666,
              "#ed7953"
             ],
             [
              0.7777777777777778,
              "#fb9f3a"
             ],
             [
              0.8888888888888888,
              "#fdca26"
             ],
             [
              1,
              "#f0f921"
             ]
            ],
            "type": "histogram2d"
           }
          ],
          "histogram2dcontour": [
           {
            "colorbar": {
             "outlinewidth": 0,
             "ticks": ""
            },
            "colorscale": [
             [
              0,
              "#0d0887"
             ],
             [
              0.1111111111111111,
              "#46039f"
             ],
             [
              0.2222222222222222,
              "#7201a8"
             ],
             [
              0.3333333333333333,
              "#9c179e"
             ],
             [
              0.4444444444444444,
              "#bd3786"
             ],
             [
              0.5555555555555556,
              "#d8576b"
             ],
             [
              0.6666666666666666,
              "#ed7953"
             ],
             [
              0.7777777777777778,
              "#fb9f3a"
             ],
             [
              0.8888888888888888,
              "#fdca26"
             ],
             [
              1,
              "#f0f921"
             ]
            ],
            "type": "histogram2dcontour"
           }
          ],
          "mesh3d": [
           {
            "colorbar": {
             "outlinewidth": 0,
             "ticks": ""
            },
            "type": "mesh3d"
           }
          ],
          "parcoords": [
           {
            "line": {
             "colorbar": {
              "outlinewidth": 0,
              "ticks": ""
             }
            },
            "type": "parcoords"
           }
          ],
          "scatter": [
           {
            "marker": {
             "colorbar": {
              "outlinewidth": 0,
              "ticks": ""
             }
            },
            "type": "scatter"
           }
          ],
          "scatter3d": [
           {
            "line": {
             "colorbar": {
              "outlinewidth": 0,
              "ticks": ""
             }
            },
            "marker": {
             "colorbar": {
              "outlinewidth": 0,
              "ticks": ""
             }
            },
            "type": "scatter3d"
           }
          ],
          "scattercarpet": [
           {
            "marker": {
             "colorbar": {
              "outlinewidth": 0,
              "ticks": ""
             }
            },
            "type": "scattercarpet"
           }
          ],
          "scattergeo": [
           {
            "marker": {
             "colorbar": {
              "outlinewidth": 0,
              "ticks": ""
             }
            },
            "type": "scattergeo"
           }
          ],
          "scattergl": [
           {
            "marker": {
             "colorbar": {
              "outlinewidth": 0,
              "ticks": ""
             }
            },
            "type": "scattergl"
           }
          ],
          "scattermapbox": [
           {
            "marker": {
             "colorbar": {
              "outlinewidth": 0,
              "ticks": ""
             }
            },
            "type": "scattermapbox"
           }
          ],
          "scatterpolar": [
           {
            "marker": {
             "colorbar": {
              "outlinewidth": 0,
              "ticks": ""
             }
            },
            "type": "scatterpolar"
           }
          ],
          "scatterpolargl": [
           {
            "marker": {
             "colorbar": {
              "outlinewidth": 0,
              "ticks": ""
             }
            },
            "type": "scatterpolargl"
           }
          ],
          "scatterternary": [
           {
            "marker": {
             "colorbar": {
              "outlinewidth": 0,
              "ticks": ""
             }
            },
            "type": "scatterternary"
           }
          ],
          "surface": [
           {
            "colorbar": {
             "outlinewidth": 0,
             "ticks": ""
            },
            "colorscale": [
             [
              0,
              "#0d0887"
             ],
             [
              0.1111111111111111,
              "#46039f"
             ],
             [
              0.2222222222222222,
              "#7201a8"
             ],
             [
              0.3333333333333333,
              "#9c179e"
             ],
             [
              0.4444444444444444,
              "#bd3786"
             ],
             [
              0.5555555555555556,
              "#d8576b"
             ],
             [
              0.6666666666666666,
              "#ed7953"
             ],
             [
              0.7777777777777778,
              "#fb9f3a"
             ],
             [
              0.8888888888888888,
              "#fdca26"
             ],
             [
              1,
              "#f0f921"
             ]
            ],
            "type": "surface"
           }
          ],
          "table": [
           {
            "cells": {
             "fill": {
              "color": "#EBF0F8"
             },
             "line": {
              "color": "white"
             }
            },
            "header": {
             "fill": {
              "color": "#C8D4E3"
             },
             "line": {
              "color": "white"
             }
            },
            "type": "table"
           }
          ]
         },
         "layout": {
          "annotationdefaults": {
           "arrowcolor": "#2a3f5f",
           "arrowhead": 0,
           "arrowwidth": 1
          },
          "colorscale": {
           "diverging": [
            [
             0,
             "#8e0152"
            ],
            [
             0.1,
             "#c51b7d"
            ],
            [
             0.2,
             "#de77ae"
            ],
            [
             0.3,
             "#f1b6da"
            ],
            [
             0.4,
             "#fde0ef"
            ],
            [
             0.5,
             "#f7f7f7"
            ],
            [
             0.6,
             "#e6f5d0"
            ],
            [
             0.7,
             "#b8e186"
            ],
            [
             0.8,
             "#7fbc41"
            ],
            [
             0.9,
             "#4d9221"
            ],
            [
             1,
             "#276419"
            ]
           ],
           "sequential": [
            [
             0,
             "#0d0887"
            ],
            [
             0.1111111111111111,
             "#46039f"
            ],
            [
             0.2222222222222222,
             "#7201a8"
            ],
            [
             0.3333333333333333,
             "#9c179e"
            ],
            [
             0.4444444444444444,
             "#bd3786"
            ],
            [
             0.5555555555555556,
             "#d8576b"
            ],
            [
             0.6666666666666666,
             "#ed7953"
            ],
            [
             0.7777777777777778,
             "#fb9f3a"
            ],
            [
             0.8888888888888888,
             "#fdca26"
            ],
            [
             1,
             "#f0f921"
            ]
           ],
           "sequentialminus": [
            [
             0,
             "#0d0887"
            ],
            [
             0.1111111111111111,
             "#46039f"
            ],
            [
             0.2222222222222222,
             "#7201a8"
            ],
            [
             0.3333333333333333,
             "#9c179e"
            ],
            [
             0.4444444444444444,
             "#bd3786"
            ],
            [
             0.5555555555555556,
             "#d8576b"
            ],
            [
             0.6666666666666666,
             "#ed7953"
            ],
            [
             0.7777777777777778,
             "#fb9f3a"
            ],
            [
             0.8888888888888888,
             "#fdca26"
            ],
            [
             1,
             "#f0f921"
            ]
           ]
          },
          "colorway": [
           "#636efa",
           "#EF553B",
           "#00cc96",
           "#ab63fa",
           "#FFA15A",
           "#19d3f3",
           "#FF6692",
           "#B6E880",
           "#FF97FF",
           "#FECB52"
          ],
          "font": {
           "color": "#2a3f5f"
          },
          "geo": {
           "bgcolor": "white",
           "lakecolor": "white",
           "landcolor": "#E5ECF6",
           "showlakes": true,
           "showland": true,
           "subunitcolor": "white"
          },
          "hoverlabel": {
           "align": "left"
          },
          "hovermode": "closest",
          "mapbox": {
           "style": "light"
          },
          "paper_bgcolor": "white",
          "plot_bgcolor": "#E5ECF6",
          "polar": {
           "angularaxis": {
            "gridcolor": "white",
            "linecolor": "white",
            "ticks": ""
           },
           "bgcolor": "#E5ECF6",
           "radialaxis": {
            "gridcolor": "white",
            "linecolor": "white",
            "ticks": ""
           }
          },
          "scene": {
           "xaxis": {
            "backgroundcolor": "#E5ECF6",
            "gridcolor": "white",
            "gridwidth": 2,
            "linecolor": "white",
            "showbackground": true,
            "ticks": "",
            "zerolinecolor": "white"
           },
           "yaxis": {
            "backgroundcolor": "#E5ECF6",
            "gridcolor": "white",
            "gridwidth": 2,
            "linecolor": "white",
            "showbackground": true,
            "ticks": "",
            "zerolinecolor": "white"
           },
           "zaxis": {
            "backgroundcolor": "#E5ECF6",
            "gridcolor": "white",
            "gridwidth": 2,
            "linecolor": "white",
            "showbackground": true,
            "ticks": "",
            "zerolinecolor": "white"
           }
          },
          "shapedefaults": {
           "line": {
            "color": "#2a3f5f"
           }
          },
          "ternary": {
           "aaxis": {
            "gridcolor": "white",
            "linecolor": "white",
            "ticks": ""
           },
           "baxis": {
            "gridcolor": "white",
            "linecolor": "white",
            "ticks": ""
           },
           "bgcolor": "#E5ECF6",
           "caxis": {
            "gridcolor": "white",
            "linecolor": "white",
            "ticks": ""
           }
          },
          "title": {
           "x": 0.05
          },
          "xaxis": {
           "automargin": true,
           "gridcolor": "white",
           "linecolor": "white",
           "ticks": "",
           "zerolinecolor": "white",
           "zerolinewidth": 2
          },
          "yaxis": {
           "automargin": true,
           "gridcolor": "white",
           "linecolor": "white",
           "ticks": "",
           "zerolinecolor": "white",
           "zerolinewidth": 2
          }
         }
        },
        "title": {
         "text": "Epilepsy"
        }
       }
      },
      "text/html": [
       "<div>\n",
       "        \n",
       "        \n",
       "            <div id=\"34be2036-0dbd-4b60-9689-309a52b7cc27\" class=\"plotly-graph-div\" style=\"height:600px; width:100%;\"></div>\n",
       "            <script type=\"text/javascript\">\n",
       "                require([\"plotly\"], function(Plotly) {\n",
       "                    window.PLOTLYENV=window.PLOTLYENV || {};\n",
       "                    \n",
       "                if (document.getElementById(\"34be2036-0dbd-4b60-9689-309a52b7cc27\")) {\n",
       "                    Plotly.newPlot(\n",
       "                        '34be2036-0dbd-4b60-9689-309a52b7cc27',\n",
       "                        [{\"hoverlabel\": {\"namelength\": 0}, \"hovertemplate\": \"label=epilepsy<br>train_test=train_real<br>x=%{x}<br>y=%{y}<br>z=%{z}\", \"legendgroup\": \"label=epilepsy, train_test=train_real\", \"marker\": {\"color\": \"#636efa\", \"symbol\": \"circle\"}, \"mode\": \"markers\", \"name\": \"label=epilepsy, train_test=train_real\", \"scene\": \"scene\", \"showlegend\": true, \"type\": \"scatter3d\", \"x\": [\"-2.461446\", \"4.1780562\", \"-2.1382778\", \"6.6086287\", \"0.24390683\", \"3.2592523\", \"2.0632124\", \"1.8281697\", \"0.96898407\", \"4.7649813\", \"-2.0917358\", \"5.1603923\", \"6.4779744\", \"5.2542253\", \"1.8989881\", \"4.755424\", \"5.4192204\", \"1.1466808\", \"1.3854926\", \"6.503567\", \"3.4112267\", \"-1.7913221\", \"5.525667\", \"0.302261\", \"-0.4430181\", \"-1.6771804\", \"0.5716889\", \"-1.6184946\", \"3.7309442\", \"-0.7380366\", \"-0.0043084123\", \"4.1618133\", \"-1.8082424\", \"5.1381545\"], \"y\": [\"8.440966\", \"-11.677861\", \"7.0297403\", \"-4.1176996\", \"6.405839\", \"-6.8692183\", \"6.3810544\", \"5.396211\", \"5.6356807\", \"-6.5559034\", \"7.0686674\", \"-6.3508735\", \"-4.2458997\", \"-6.3113093\", \"5.478929\", \"1.1276875\", \"-0.20281751\", \"-6.3349915\", \"5.4563875\", \"-5.970587\", \"-6.83992\", \"8.928368\", \"-7.6407685\", \"5.861457\", \"-6.5521383\", \"-7.8637085\", \"5.7924385\", \"-7.713275\", \"5.7232866\", \"-7.522542\", \"-5.8248644\", \"2.5504298\", \"7.19979\", \"0.57852477\"], \"z\": [\"-1.477983\", \"0.37534848\", \"-2.5571957\", \"4.194141\", \"-0.55476445\", \"6.471603\", \"3.2453997\", \"0.18004237\", \"-0.19456914\", \"7.2128687\", \"-2.6275504\", \"6.7386403\", \"5.1285496\", \"6.723306\", \"0.24059337\", \"2.832152\", \"2.8067942\", \"-3.6532176\", \"0.022301417\", \"4.0052533\", \"6.465352\", \"-0.7223752\", \"1.5241132\", \"-0.54306835\", \"-4.1130934\", \"-6.004544\", \"-0.39283088\", \"-7.638256\", \"4.326564\", \"-6.9029584\", \"-2.4754171\", \"4.6839294\", \"-2.7051346\", \"2.7724867\"]}, {\"hoverlabel\": {\"namelength\": 0}, \"hovertemplate\": \"label=epilepsy<br>train_test=test<br>x=%{x}<br>y=%{y}<br>z=%{z}\", \"legendgroup\": \"label=epilepsy, train_test=test\", \"marker\": {\"color\": \"#636efa\", \"symbol\": \"cross\"}, \"mode\": \"markers\", \"name\": \"label=epilepsy, train_test=test\", \"scene\": \"scene\", \"showlegend\": true, \"type\": \"scatter3d\", \"x\": [\"0.5955449\", \"-2.176632\", \"5.4603777\", \"-1.6595973\", \"5.204842\", \"-2.1050606\", \"-2.0617576\", \"-2.6887436\", \"3.731942\", \"-0.0060134106\", \"-2.8365996\", \"4.2426\", \"-2.5070992\", \"4.353404\", \"4.3321314\", \"-0.048623215\", \"6.5574207\", \"0.0147865405\", \"3.2605379\", \"-0.6388627\", \"-0.74181515\", \"-2.2662342\", \"-3.3056788\", \"-3.1444008\", \"-1.3075907\", \"-0.20414552\", \"-1.0273234\", \"6.7550797\", \"-2.8275456\", \"0.18591137\", \"1.9815431\", \"-1.0678825\", \"2.4710188\", \"-2.6008234\"], \"y\": [\"-5.894474\", \"8.812106\", \"-2.148449\", \"-7.4751997\", \"-6.3714795\", \"8.958539\", \"8.900218\", \"8.130723\", \"2.31081\", \"9.73996\", \"6.556887\", \"-11.818219\", \"6.5896645\", \"2.6450844\", \"5.696146\", \"-5.8361034\", \"-5.29887\", \"-7.318851\", \"-6.874384\", \"-6.8022976\", \"-7.581475\", \"6.59336\", \"6.367732\", \"7.297297\", \"5.5586433\", \"-5.5543876\", \"-7.7043366\", \"-3.7004063\", \"6.761309\", \"-5.727439\", \"5.466932\", \"6.787466\", \"-6.3137536\", \"8.511051\"], \"z\": [\"-2.6331694\", \"-0.8743871\", \"3.7510922\", \"-4.4583044\", \"7.1957192\", \"-0.42354703\", \"-0.2994837\", \"-1.8952755\", \"4.821884\", \"-0.54520816\", \"-1.3002638\", \"0.5401259\", \"-0.709101\", \"4.59054\", \"4.095024\", \"-2.5506957\", \"3.8584929\", \"-6.098591\", \"6.527681\", \"-3.447499\", \"-7.365972\", \"-0.8956333\", \"-0.7060233\", \"-2.4560366\", \"-1.8426465\", \"-2.0347583\", \"-7.2989936\", \"3.7584379\", \"-1.9494823\", \"-2.2408965\", \"0.2101746\", \"-0.91368544\", \"-2.0162063\", \"-1.4921548\"]}, {\"hoverlabel\": {\"namelength\": 0}, \"hovertemplate\": \"label=epilepsy<br>train_test=train_synthetic<br>x=%{x}<br>y=%{y}<br>z=%{z}\", \"legendgroup\": \"label=epilepsy, train_test=train_synthetic\", \"marker\": {\"color\": \"#636efa\", \"symbol\": \"circle-open\"}, \"mode\": \"markers\", \"name\": \"label=epilepsy, train_test=train_synthetic\", \"scene\": \"scene\", \"showlegend\": true, \"type\": \"scatter3d\", \"x\": [\"6.6849046\", \"0.95715547\", \"6.7696905\", \"6.759329\", \"0.18539794\", \"4.5051765\", \"6.866951\", \"6.6029487\", \"-0.010838501\", \"2.472743\", \"2.4730449\", \"0.3217819\", \"1.7264751\", \"1.0271498\", \"4.722467\", \"6.832344\", \"6.718686\", \"0.34887427\", \"4.1584806\", \"4.1854258\", \"4.5052896\", \"7.0034175\", \"0.35127196\", \"4.7229133\", \"6.603304\", \"4.1572104\", \"4.4662085\", \"6.793344\", \"5.7889566\", \"0.95913\", \"1.4748048\", \"6.730618\", \"6.409744\", \"-1.0949507\", \"5.756674\", \"-1.0949535\", \"6.603487\", \"6.684946\", \"1.6829071\", \"4.465979\", \"0.18629739\", \"0.32297623\", \"6.8739576\", \"0.2938801\", \"3.1688259\", \"4.1854086\", \"6.6031823\", \"6.858876\", \"-1.0933312\", \"6.5770693\", \"6.953595\", \"6.8565536\", \"6.8428435\", \"6.7144284\", \"6.787467\", \"0.34888777\", \"6.8669825\", \"1.8909067\", \"0.5082769\", \"-1.1202468\", \"6.9534526\", \"-1.0933379\", \"6.953597\", \"5.7738295\", \"0.97409093\", \"3.083713\", \"6.8669753\", \"6.890708\", \"6.856449\", \"6.451528\", \"0.36472443\", \"3.6427987\", \"6.714459\", \"0.18597656\", \"1.0078413\", \"4.157421\", \"-1.3350092\", \"2.1654406\", \"4.157475\", \"-1.2754401\", \"6.6077027\", \"1.8943903\", \"0.9369167\", \"2.473456\", \"6.6036325\", \"6.6027036\", \"5.788951\", \"4.227466\", \"6.759317\", \"6.856491\", \"1.0756783\", \"6.8908987\", \"1.0758128\", \"4.3460617\", \"7.054247\", \"1.0079459\", \"-1.2754333\", \"0.29302925\", \"-0.7582275\", \"1.7284062\", \"6.8428564\", \"3.6855016\", \"5.7889557\", \"0.5080574\", \"3.0835397\", \"4.7225895\", \"6.8323298\", \"1.4749553\", \"6.603305\", \"1.0427605\", \"6.832351\", \"6.684817\", \"0.36513886\", \"4.3460703\", \"6.8587184\", \"6.8429003\", \"6.730624\", \"1.0778639\", \"-0.008256498\", \"1.7284234\", \"4.1569753\", \"-0.008284967\", \"5.7738347\", \"4.3460655\", \"-1.3350666\", \"6.858878\", \"0.95679885\", \"6.4092965\", \"6.714459\", \"6.8910084\", \"-0.75808334\", \"0.29424763\", \"0.35128418\", \"0.294187\", \"6.987222\", \"6.832343\", \"0.3657049\", \"6.5770664\", \"6.7907286\", \"2.47282\", \"0.32177848\", \"6.790763\", \"6.87396\", \"6.8564825\", \"6.891013\", \"6.8743353\", \"-0.31785893\", \"6.451519\", \"6.7592306\", \"6.8909\", \"4.1575303\"], \"y\": [\"-4.204593\", \"8.137901\", \"-1.3311574\", \"-3.8685474\", \"-6.589051\", \"5.081145\", \"0.1668259\", \"1.5160159\", \"8.05167\", \"7.3124294\", \"7.313623\", \"8.392127\", \"8.021862\", \"8.358936\", \"5.135165\", \"-1.6350685\", \"-2.310115\", \"8.620752\", \"5.627536\", \"5.0149164\", \"5.08007\", \"0.76885194\", \"-6.6238074\", \"5.134663\", \"1.5168235\", \"5.625564\", \"4.289597\", \"-2.1808517\", \"5.0894785\", \"8.141483\", \"-6.232076\", \"-2.7711625\", \"1.8818133\", \"-7.1949253\", \"5.089985\", \"-7.1949325\", \"1.5173228\", \"-4.204317\", \"8.211776\", \"4.289231\", \"-6.591665\", \"8.3917465\", \"-0.15958883\", \"-6.8287444\", \"6.3686543\", \"5.0148582\", \"1.5172982\", \"-1.08254\", \"-7.1949654\", \"-4.672252\", \"-2.7856643\", \"1.0953588\", \"-0.83404267\", \"-1.1943395\", \"-0.2755328\", \"8.620753\", \"0.16685192\", \"8.095598\", \"-6.414086\", \"-7.5503826\", \"-2.7856417\", \"-7.194981\", \"-2.7858524\", \"4.9414134\", \"8.185308\", \"6.1378217\", \"0.16688323\", \"-0.37610954\", \"1.0958112\", \"2.3179116\", \"8.741815\", \"6.0661364\", \"-1.1938665\", \"-6.591982\", \"-6.4741783\", \"5.625437\", \"-7.4115434\", \"7.6605163\", \"5.625439\", \"-7.4639378\", \"-3.8888047\", \"8.09558\", \"8.722229\", \"7.3146944\", \"1.5171579\", \"1.5163175\", \"5.08947\", \"5.544342\", \"-3.868749\", \"1.095882\", \"8.722152\", \"-0.3757932\", \"8.722079\", \"3.7422094\", \"0.70077205\", \"-6.4743953\", \"-7.463936\", \"-6.824411\", \"-7.149648\", \"8.0233135\", \"-0.834479\", \"5.658178\", \"5.0894766\", \"-6.412868\", \"6.1376886\", \"5.1348176\", \"-1.6351265\", \"-6.2318497\", \"1.5162017\", \"-6.291074\", \"-1.6352196\", \"-4.204349\", \"8.745679\", \"3.7423363\", \"1.1235012\", \"-0.83349967\", \"-2.7711134\", \"8.726279\", \"8.284636\", \"8.023306\", \"5.625608\", \"8.284606\", \"4.941424\", \"3.742217\", \"-7.411667\", \"-1.0825157\", \"8.1381855\", \"1.8815825\", \"-1.1943165\", \"-0.375822\", \"-7.1502037\", \"-6.830993\", \"-6.6237955\", \"-6.830826\", \"0.89905953\", \"-1.6351943\", \"8.748737\", \"-4.6723056\", \"-1.8964878\", \"7.313267\", \"8.395156\", \"-1.8965025\", \"-0.15956922\", \"1.0960482\", \"-0.37625095\", \"-0.1595609\", \"-6.960777\", \"2.3177838\", \"-3.8692324\", \"-0.3759196\", \"5.6254582\"], \"z\": [\"3.5653048\", \"-0.4930762\", \"2.9899035\", \"3.199452\", \"-4.0892863\", \"2.3965118\", \"5.2041855\", \"3.570706\", \"-0.8122024\", \"1.4047443\", \"1.4044132\", \"0.095767446\", \"1.0056063\", \"-0.637905\", \"2.4562535\", \"3.0285265\", \"4.8527765\", \"-0.6060864\", \"1.6395181\", \"2.8923266\", \"2.396306\", \"3.242468\", \"-5.0933905\", \"2.456794\", \"3.570722\", \"1.6393005\", \"3.3951533\", \"5.325333\", \"1.7278403\", \"-0.49690723\", \"-3.1790707\", \"4.966554\", \"4.3405952\", \"-4.825644\", \"1.7732884\", \"-4.8256593\", \"3.5707064\", \"3.5650845\", \"0.5119877\", \"3.395171\", \"-4.0886064\", \"0.09540292\", \"4.582923\", \"-4.7734423\", \"1.2437521\", \"2.8924165\", \"3.5706482\", \"4.925816\", \"-4.8275604\", \"4.1258984\", \"2.5779812\", \"4.9654675\", \"5.5119996\", \"3.8357666\", \"2.6470687\", \"-0.606088\", \"5.204179\", \"0.46917924\", \"-4.4090734\", \"-6.1556854\", \"2.5794506\", \"-4.827597\", \"2.577925\", \"1.9751369\", \"-0.5321454\", \"1.0584886\", \"5.204221\", \"2.5843987\", \"4.965264\", \"4.2841806\", \"0.008095224\", \"1.5288115\", \"3.835791\", \"-4.0888515\", \"-4.1853333\", \"1.6394417\", \"-6.371596\", \"1.2228639\", \"1.6393442\", \"-6.92374\", \"4.7714586\", \"0.4676605\", \"0.0774836\", \"1.4046379\", \"3.5707302\", \"3.5706522\", \"1.7278614\", \"1.4095609\", \"3.1992462\", \"4.9653654\", \"-0.50698\", \"2.5844293\", \"-0.5089446\", \"3.7699113\", \"3.4958012\", \"-4.1853604\", \"-6.9237285\", \"-4.7744427\", \"-4.5701857\", \"1.0060089\", \"5.512034\", \"1.1954664\", \"1.7278465\", \"-4.409563\", \"1.0583823\", \"2.4566183\", \"3.0285306\", \"-3.1791885\", \"3.5707343\", \"-3.5764956\", \"3.0286474\", \"3.565078\", \"0.0060376115\", \"3.7700214\", \"3.2006001\", \"5.512166\", \"4.966948\", \"-0.48814124\", \"-0.60605925\", \"1.0060118\", \"1.6393082\", \"-0.60604197\", \"1.9751174\", \"3.7699032\", \"-6.371595\", \"4.9258246\", \"-0.49406326\", \"4.3407507\", \"3.8357992\", \"2.5843234\", \"-4.5703588\", \"-4.772153\", \"-5.0933747\", \"-4.772327\", \"4.379531\", \"3.0285366\", \"0.0037305804\", \"4.1258903\", \"4.5576024\", \"1.4048475\", \"0.096016385\", \"4.557598\", \"4.582931\", \"4.96518\", \"2.5849285\", \"4.5830503\", \"-4.3296833\", \"4.284229\", \"3.1994333\", \"2.5844553\", \"1.6394203\"]}, {\"hoverlabel\": {\"namelength\": 0}, \"hovertemplate\": \"label=walking<br>train_test=train_real<br>x=%{x}<br>y=%{y}<br>z=%{z}\", \"legendgroup\": \"label=walking, train_test=train_real\", \"marker\": {\"color\": \"#EF553B\", \"symbol\": \"circle\"}, \"mode\": \"markers\", \"name\": \"label=walking, train_test=train_real\", \"scene\": \"scene\", \"showlegend\": true, \"type\": \"scatter3d\", \"x\": [\"11.483565\", \"-5.9556985\", \"7.452076\", \"-8.801631\", \"-5.793263\", \"2.3645983\", \"2.2232063\", \"10.55938\", \"-2.4963198\", \"-5.105961\", \"10.350866\", \"-10.114478\", \"-8.371691\", \"-5.569515\", \"7.988792\", \"-3.1472747\", \"-11.551522\", \"2.0939605\", \"-8.331765\", \"-11.684521\", \"-4.4746227\", \"-9.532507\", \"8.9591465\", \"-8.732791\", \"-4.929865\", \"-8.430391\", \"-8.136983\", \"-8.655283\", \"-8.462477\", \"-12.321996\", \"10.522062\", \"-11.902947\", \"8.774369\", \"-2.8491912\", \"-3.781165\", \"10.63442\", \"4.8269067\"], \"y\": [\"6.9640493\", \"6.033779\", \"12.251686\", \"-2.3823237\", \"6.8629007\", \"-6.063141\", \"6.286392\", \"8.603547\", \"-7.9721212\", \"6.21546\", \"10.204443\", \"-11.457402\", \"-4.2499366\", \"-9.354544\", \"9.907234\", \"3.9382648\", \"-2.5652769\", \"6.408421\", \"-5.00492\", \"-2.4530532\", \"6.7159824\", \"-3.8845813\", \"13.22194\", \"-5.483135\", \"6.0280714\", \"-4.9424624\", \"-4.813236\", \"-3.0053275\", \"-4.1384974\", \"-2.029438\", \"11.556106\", \"-2.0354803\", \"10.301056\", \"-8.205176\", \"6.744563\", \"10.414024\", \"-10.676721\"], \"z\": [\"-8.224081\", \"-6.105573\", \"-9.979051\", \"2.975302\", \"-4.8783116\", \"-1.9100981\", \"4.114663\", \"-8.4970875\", \"-6.2513824\", \"-4.5747166\", \"-7.528125\", \"-5.133856\", \"4.997287\", \"-4.8903036\", \"-8.639691\", \"-9.33471\", \"6.2194467\", \"3.3403451\", \"4.2545934\", \"5.9777427\", \"-5.0096073\", \"0.81006616\", \"-7.420296\", \"2.8934531\", \"-5.9524107\", \"3.6605928\", \"6.222134\", \"2.3420587\", \"4.937834\", \"4.947715\", \"-6.6427813\", \"4.858159\", \"-8.6318035\", \"-6.1095824\", \"-3.4666095\", \"-7.0050735\", \"-1.8832781\"]}, {\"hoverlabel\": {\"namelength\": 0}, \"hovertemplate\": \"label=walking<br>train_test=test<br>x=%{x}<br>y=%{y}<br>z=%{z}\", \"legendgroup\": \"label=walking, train_test=test\", \"marker\": {\"color\": \"#EF553B\", \"symbol\": \"cross\"}, \"mode\": \"markers\", \"name\": \"label=walking, train_test=test\", \"scene\": \"scene\", \"showlegend\": true, \"type\": \"scatter3d\", \"x\": [\"-9.151105\", \"-8.773215\", \"-11.260024\", \"-8.119191\", \"10.966759\", \"-6.234605\", \"10.062205\", \"-10.95038\", \"-5.8925037\", \"4.827771\", \"-9.369147\", \"-1.0034351\", \"-8.530195\", \"-8.790485\", \"-6.3093967\", \"-3.9278007\", \"-8.312825\", \"-1.455206\", \"-10.205886\", \"4.2025943\", \"2.052279\", \"-7.83987\", \"-9.725036\", \"-8.735766\", \"10.424044\", \"11.017331\", \"-9.290183\", \"4.368573\", \"2.421247\", \"-6.315654\", \"-0.35864198\", \"-9.922473\", \"-8.9896555\", \"4.6403446\", \"-8.241958\", \"-8.610265\", \"-8.15045\"], \"y\": [\"-3.6900432\", \"-3.4048903\", \"-2.702257\", \"-4.7992153\", \"7.8164697\", \"6.464069\", \"9.719433\", \"-2.9262843\", \"6.5161576\", \"-10.694554\", \"-2.4742897\", \"-6.0980463\", \"-2.3562806\", \"-4.6807356\", \"6.416008\", \"-5.002124\", \"-4.598078\", \"-7.4376016\", \"-3.0489814\", \"5.5703597\", \"-6.0079627\", \"-2.1957545\", \"-3.7840855\", \"-2.830466\", \"9.7452135\", \"7.7526646\", \"-4.9487596\", \"5.6007776\", \"-6.027979\", \"6.4855113\", \"-6.3901286\", \"-3.106865\", \"-3.2619483\", \"-10.270645\", \"-4.8764534\", \"-4.6457415\", \"-4.7986107\"], \"z\": [\"1.6245902\", \"5.021819\", \"6.4553456\", \"6.29874\", \"-8.259525\", \"-6.065075\", \"-8.888402\", \"6.716986\", \"-6.014381\", \"-1.9308937\", \"3.6095834\", \"-4.769931\", \"2.94667\", \"1.6508013\", \"-6.1039567\", \"9.889955\", \"4.98353\", \"-5.9641395\", \"0.74385464\", \"3.5594134\", \"-2.0513072\", \"2.814598\", \"1.3852547\", \"3.1339529\", \"-9.199523\", \"-8.226527\", \"1.5995263\", \"3.848668\", \"-1.8409703\", \"-6.0973625\", \"-5.915517\", \"1.120794\", \"2.138038\", \"-1.5515057\", \"5.2290745\", \"1.6509029\", \"2.2308996\"]}, {\"hoverlabel\": {\"namelength\": 0}, \"hovertemplate\": \"label=walking<br>train_test=train_synthetic<br>x=%{x}<br>y=%{y}<br>z=%{z}\", \"legendgroup\": \"label=walking, train_test=train_synthetic\", \"marker\": {\"color\": \"#EF553B\", \"symbol\": \"circle-open\"}, \"mode\": \"markers\", \"name\": \"label=walking, train_test=train_synthetic\", \"scene\": \"scene\", \"showlegend\": true, \"type\": \"scatter3d\", \"x\": [\"-5.2475805\", \"-11.523426\", \"9.105192\", \"-10.555924\", \"-5.491658\", \"-5.3293953\", \"-12.087014\", \"4.314753\", \"-5.519284\", \"8.8751745\", \"-9.58999\", \"4.5361605\", \"8.153591\", \"-8.401983\", \"9.606209\", \"8.107152\", \"-8.98865\", \"-3.623271\", \"-10.634343\", \"-11.372274\", \"8.014052\", \"-5.2475123\", \"-5.145549\", \"-11.372302\", \"7.951782\", \"-9.3902645\", \"8.014056\", \"-11.372284\", \"9.69157\", \"-12.05488\", \"9.461728\", \"-5.1456404\", \"8.107339\", \"4.3148365\", \"-9.509782\", \"-8.741287\", \"10.500712\", \"7.802306\", \"9.691242\", \"-4.0076494\", \"-12.185955\", \"-10.548973\", \"-2.6834233\", \"-4.322156\", \"4.3149056\", \"5.737471\", \"-8.709842\", \"10.62099\", \"8.529791\", \"-9.590186\", \"-9.859163\", \"9.461538\", \"5.73872\", \"-4.7088304\", \"5.644374\", \"5.644398\", \"-11.52483\", \"-9.594069\", \"9.083811\", \"9.083508\", \"-10.3918085\", \"-4.1624236\", \"9.879743\", \"-4.85902\", \"7.9515295\", \"5.949229\", \"-9.603432\", \"8.107347\", \"7.954393\", \"-10.025809\", \"-11.372285\", \"-4.776619\", \"6.190409\", \"9.606234\", \"9.312882\", \"-8.401994\", \"-4.778282\", \"-5.003842\", \"8.104823\", \"8.014033\", \"10.435947\", \"-11.372354\", \"-8.401959\", \"8.871646\", \"-4.7765536\", \"-10.463938\", \"-12.054916\", \"-10.0256\", \"-4.861079\", \"-11.721474\", \"8.104875\", \"4.3149624\", \"-11.827153\", \"-8.423478\", \"-10.634454\", \"9.6062155\", \"4.3147216\", \"-9.482585\", \"9.084891\", \"-4.1926246\", \"-12.056297\", \"-1.179037\", \"7.956527\", \"-11.372313\", \"-4.29781\", \"-9.590003\", \"-5.519236\", \"-8.401946\", \"-2.8711379\", \"-5.1657386\", \"-9.390181\", \"9.084228\", \"-11.552495\", \"-9.620376\", \"5.949357\", \"-2.6833746\", \"8.925148\", \"-2.6835153\", \"6.1898384\", \"-4.5122933\", \"9.86532\", \"-3.1636376\", \"9.606235\", \"10.620983\", \"-8.704079\", \"8.1084175\", \"8.105725\", \"-0.2889119\", \"-4.3228183\", \"-10.548952\", \"9.312696\", \"6.19039\", \"7.95151\", \"-11.930305\", \"-5.519064\", \"-11.525979\", \"-10.4633465\", \"9.691262\", \"-10.556325\", \"-5.328074\", \"9.876598\", \"-5.4917927\", \"8.87522\", \"-9.015068\", \"10.585512\", \"9.69145\", \"-1.1077743\", \"-3.623246\"], \"y\": [\"5.9832177\", \"-2.097482\", \"10.963488\", \"-2.6880932\", \"6.2251587\", \"6.8371735\", \"-2.3110468\", \"-9.864267\", \"-9.342855\", \"12.686028\", \"-4.158444\", \"-10.410675\", \"11.143226\", \"-5.088928\", \"11.853943\", \"12.230832\", \"-4.1816497\", \"-8.734968\", \"-3.07259\", \"-2.443788\", \"12.989083\", \"5.983216\", \"6.867919\", \"-2.4437785\", \"11.513223\", \"-3.719939\", \"12.989079\", \"-2.443783\", \"10.668977\", \"-2.6223755\", \"10.409961\", \"6.867828\", \"12.230627\", \"-9.864262\", \"-4.1245017\", \"-3.5411012\", \"8.725649\", \"10.905666\", \"10.668771\", \"5.8305106\", \"-2.1867979\", \"-3.038278\", \"-8.093718\", \"6.598774\", \"-9.864422\", \"13.4301815\", \"-4.843358\", \"8.41618\", \"11.468309\", \"-4.1583705\", \"-3.3970299\", \"10.410177\", \"13.430165\", \"6.5329413\", \"12.943178\", \"12.943167\", \"-2.0958767\", \"-3.3268073\", \"11.554494\", \"11.554224\", \"-3.2650142\", \"6.6324925\", \"12.429103\", \"6.9116926\", \"11.513318\", \"13.06503\", \"-4.323171\", \"12.230627\", \"11.514833\", \"-3.3548067\", \"-2.4437945\", \"5.9676194\", \"13.468052\", \"11.853852\", \"11.465243\", \"-5.0889277\", \"5.9665666\", \"6.5659947\", \"12.230071\", \"12.989105\", \"8.922591\", \"-2.443803\", \"-5.0889235\", \"12.684828\", \"5.967772\", \"-2.2767215\", \"-2.6223404\", \"-3.3548486\", \"6.9113913\", \"-2.7275865\", \"12.230158\", \"-9.864395\", \"-1.9310428\", \"-5.1007066\", \"-3.0730658\", \"11.853934\", \"-9.864192\", \"-4.301407\", \"11.554711\", \"6.096855\", \"-2.6208322\", \"6.788357\", \"11.51459\", \"-2.443776\", \"6.4542093\", \"-4.158201\", \"-9.342622\", \"-5.0889125\", \"6.838143\", \"6.3978815\", \"-3.7199206\", \"11.5544405\", \"-2.6426878\", \"-3.6151657\", \"13.064994\", \"-8.093687\", \"11.759617\", \"-8.093538\", \"13.467455\", \"6.1025023\", \"9.920945\", \"6.8754506\", \"11.8538475\", \"8.416083\", \"-4.844124\", \"12.231214\", \"12.230712\", \"6.908579\", \"6.5952063\", \"-3.0383508\", \"11.465376\", \"13.468035\", \"11.51334\", \"-2.0652509\", \"-9.342743\", \"-2.0947366\", \"-2.2768357\", \"10.668754\", \"-2.6894667\", \"6.756103\", \"12.433637\", \"6.2252755\", \"12.685976\", \"-3.5554383\", \"8.502558\", \"10.669178\", \"-5.8464684\", \"-8.73496\"], \"z\": [\"-5.359228\", \"5.4904685\", \"-7.6392922\", \"3.1810453\", \"-4.9438953\", \"-4.561991\", \"5.56825\", \"-0.6985001\", \"-4.9121995\", \"-7.735079\", \"0.07337298\", \"-0.9151942\", \"-8.5811\", \"3.9231243\", \"-7.1669965\", \"-8.934679\", \"1.9935329\", \"-5.626417\", \"3.6700206\", \"4.286755\", \"-8.947988\", \"-5.359303\", \"-5.3315287\", \"4.2867017\", \"-9.639722\", \"1.068554\", \"-8.947986\", \"4.286737\", \"-8.11879\", \"5.2974496\", \"-8.594175\", \"-5.3316593\", \"-8.934525\", \"-0.6984378\", \"0.5018267\", \"2.6448703\", \"-8.570994\", \"-9.238363\", \"-8.118466\", \"-5.7520857\", \"4.8289757\", \"2.2653036\", \"-6.122481\", \"-4.196052\", \"-0.69853175\", \"-8.628356\", \"2.681165\", \"-8.459416\", \"-8.351653\", \"0.07357889\", \"3.4044054\", \"-8.594319\", \"-8.62957\", \"-5.577743\", \"-9.109126\", \"-9.109156\", \"5.4908943\", \"3.4129522\", \"-7.776736\", \"-7.7763605\", \"3.2688544\", \"-4.036714\", \"-6.7781935\", \"-4.9438753\", \"-9.638241\", \"-9.218668\", \"-0.41153768\", \"-8.934552\", \"-9.641483\", \"3.4233549\", \"4.2866907\", \"-4.976211\", \"-8.98306\", \"-7.167066\", \"-7.314286\", \"3.9230845\", \"-4.9769936\", \"-5.639712\", \"-8.933229\", \"-8.948001\", \"-8.626849\", \"4.2867203\", \"3.9231582\", \"-7.733948\", \"-4.977565\", \"3.4598498\", \"5.29747\", \"3.422682\", \"-4.9418936\", \"5.430879\", \"-8.933154\", \"-0.69849074\", \"5.346182\", \"3.856883\", \"3.6700692\", \"-7.1670184\", \"-0.6982853\", \"0.34005108\", \"-7.7783237\", \"-5.441072\", \"5.2976737\", \"-0.9607288\", \"-9.640125\", \"4.2866817\", \"-4.5860114\", \"0.07192405\", \"-4.9122076\", \"3.9231567\", \"-2.5503378\", \"-4.5862856\", \"1.068727\", \"-7.7769346\", \"5.671799\", \"1.8911945\", \"-9.218758\", \"-6.1225653\", \"-7.4473143\", \"-6.122707\", \"-8.982713\", \"-5.637936\", \"-8.865459\", \"-2.6918871\", \"-7.1670732\", \"-8.460118\", \"2.6817782\", \"-8.935558\", \"-8.934011\", \"-0.6858783\", \"-4.195021\", \"2.2651122\", \"-7.314195\", \"-8.982971\", \"-9.638247\", \"5.5536604\", \"-4.912325\", \"5.491135\", \"3.4600945\", \"-8.118458\", \"3.1813052\", \"-5.1683235\", \"-6.777153\", \"-4.944078\", \"-7.7350407\", \"2.545346\", \"-8.485952\", \"-8.118742\", \"-4.43667\", \"-5.6264577\"]}, {\"hoverlabel\": {\"namelength\": 0}, \"hovertemplate\": \"label=running<br>train_test=train_real<br>x=%{x}<br>y=%{y}<br>z=%{z}\", \"legendgroup\": \"label=running, train_test=train_real\", \"marker\": {\"color\": \"#00cc96\", \"symbol\": \"circle\"}, \"mode\": \"markers\", \"name\": \"label=running, train_test=train_real\", \"scene\": \"scene\", \"showlegend\": true, \"type\": \"scatter3d\", \"x\": [\"0.073588476\", \"-0.16748735\", \"0.39677024\", \"-3.3085392\", \"0.47379366\", \"15.529828\", \"14.852715\", \"4.177844\", \"-1.7404103\", \"15.264296\", \"-5.7816\", \"12.54747\", \"12.185009\", \"1.288941\", \"12.18632\", \"-2.671344\", \"-1.8718228\", \"-3.8003173\", \"4.472712\", \"14.421337\", \"-4.9740863\", \"-0.17021923\", \"2.2544773\", \"-3.8403265\", \"1.3822764\", \"-1.4360195\", \"11.987849\", \"-3.3370492\", \"14.502167\", \"-1.3603373\", \"-3.4478157\", \"-3.545662\", \"-2.4933405\", \"-3.545662\", \"-2.586515\", \"-2.779711\"], \"y\": [\"-7.2605968\", \"-7.2386584\", \"-6.821026\", \"0.5818791\", \"-7.246612\", \"1.8957478\", \"2.545433\", \"-6.851116\", \"-6.749501\", \"0.15947896\", \"-5.8955913\", \"1.3839502\", \"5.8887825\", \"-5.7938733\", \"5.8644953\", \"2.4322448\", \"-6.4985285\", \"1.133666\", \"-6.214846\", \"1.3954679\", \"-5.9494815\", \"-7.219748\", \"-6.9098744\", \"1.0433772\", \"-7.2453885\", \"-6.621971\", \"4.434693\", \"2.4246345\", \"4.093872\", \"-6.5541496\", \"2.0891273\", \"3.6508107\", \"2.5060132\", \"3.6508107\", \"2.499635\", \"-6.2111735\"], \"z\": [\"8.20438\", \"8.264211\", \"10.196932\", \"-14.425242\", \"8.665639\", \"-10.293574\", \"-5.4663057\", \"7.6955523\", \"8.95428\", \"-8.079298\", \"7.9859924\", \"-9.890364\", \"-8.377779\", \"11.381909\", \"-8.36562\", \"-11.019548\", \"9.736068\", \"-11.8777075\", \"9.438488\", \"-7.7080655\", \"8.313147\", \"8.384936\", \"7.8937\", \"-11.96936\", \"8.076173\", \"9.821473\", \"-8.161635\", \"-11.002286\", \"-7.685749\", \"9.933656\", \"-11.237765\", \"-10.563685\", \"-11.05234\", \"-10.563685\", \"-10.993981\", \"9.364098\"]}, {\"hoverlabel\": {\"namelength\": 0}, \"hovertemplate\": \"label=running<br>train_test=test<br>x=%{x}<br>y=%{y}<br>z=%{z}\", \"legendgroup\": \"label=running, train_test=test\", \"marker\": {\"color\": \"#00cc96\", \"symbol\": \"cross\"}, \"mode\": \"markers\", \"name\": \"label=running, train_test=test\", \"scene\": \"scene\", \"showlegend\": true, \"type\": \"scatter3d\", \"x\": [\"-5.9478946\", \"12.185828\", \"16.25252\", \"14.81879\", \"-0.048130043\", \"16.828777\", \"-6.3542185\", \"12.849147\", \"-5.771921\", \"-2.4813185\", \"-6.136935\", \"-2.4381118\", \"12.345089\", \"1.6061867\", \"11.960276\", \"-6.422984\", \"14.856372\", \"14.563429\", \"-6.2142034\", \"14.808541\", \"14.858278\", \"-0.2775779\", \"-6.022082\", \"12.067467\", \"-2.865956\", \"1.5911372\", \"12.366434\", \"-2.899406\", \"-0.90807587\", \"-2.8317392\", \"-2.8966358\", \"-3.3504214\", \"-5.9090815\", \"5.2958694\", \"-2.8855214\", \"12.718896\", \"13.059774\"], \"y\": [\"-5.8934765\", \"5.8389874\", \"2.985875\", \"2.6172304\", \"-7.2526045\", \"0.7798044\", \"-5.8914294\", \"2.1363726\", \"-5.8993297\", \"-6.471671\", \"-5.8886776\", \"-6.5591393\", \"5.5214615\", \"-7.3130355\", \"4.4013534\", \"-5.8928638\", \"2.5478725\", \"0.49953678\", \"-5.889734\", \"2.6428895\", \"2.5268707\", \"-7.21346\", \"-5.8882403\", \"4.4716797\", \"3.4127011\", \"-7.1366887\", \"5.508124\", \"3.2917533\", \"-7.050413\", \"3.2420359\", \"-6.5318437\", \"-5.706313\", \"-5.8947124\", \"-6.322286\", \"3.089481\", \"1.2147682\", \"0.9554153\"], \"z\": [\"7.933027\", \"-8.433636\", \"-8.930917\", \"-5.4893727\", \"8.204102\", \"-8.239107\", \"7.813082\", \"-9.038519\", \"7.9936724\", \"8.971729\", \"7.871345\", \"8.852461\", \"-8.241474\", \"8.940085\", \"-8.18474\", \"7.7956\", \"-5.456516\", \"-8.192053\", \"7.850769\", \"-5.475098\", \"-5.479731\", \"8.31766\", \"7.905537\", \"-8.150282\", \"-10.033354\", \"7.9128942\", \"-8.239662\", \"-10.243294\", \"8.512954\", \"-10.242834\", \"8.661068\", \"9.678119\", \"7.945545\", \"7.6048865\", \"-10.418985\", \"-9.9616995\", \"-9.838402\"]}, {\"hoverlabel\": {\"namelength\": 0}, \"hovertemplate\": \"label=running<br>train_test=train_synthetic<br>x=%{x}<br>y=%{y}<br>z=%{z}\", \"legendgroup\": \"label=running, train_test=train_synthetic\", \"marker\": {\"color\": \"#00cc96\", \"symbol\": \"circle-open\"}, \"mode\": \"markers\", \"name\": \"label=running, train_test=train_synthetic\", \"scene\": \"scene\", \"showlegend\": true, \"type\": \"scatter3d\", \"x\": [\"15.519114\", \"-2.116832\", \"-3.3570433\", \"15.711844\", \"-0.8823769\", \"14.288179\", \"-1.8297243\", \"1.5803725\", \"4.282554\", \"-1.2501122\", \"15.5789995\", \"0.27865312\", \"-1.9814048\", \"13.701987\", \"4.097773\", \"-2.6460147\", \"13.701991\", \"14.289008\", \"-0.7996347\", \"15.711995\", \"1.9287075\", \"1.6231755\", \"-1.0048493\", \"-3.4488142\", \"-2.1167107\", \"12.791764\", \"14.500039\", \"13.51323\", \"-1.5965074\", \"-3.449068\", \"15.157437\", \"15.378118\", \"15.1576\", \"-1.2478673\", \"3.9193892\", \"-1.7022151\", \"-1.7045377\", \"-2.3164852\", \"-0.79839116\", \"2.2858362\", \"-1.244938\", \"15.577724\", \"4.3858666\", \"-2.6461124\", \"2.0775561\", \"-1.7996027\", \"-2.1168373\", \"-1.9823748\", \"14.288181\", \"-2.859796\", \"-1.1322958\", \"1.5807718\", \"14.247547\", \"3.919383\", \"12.79194\", \"15.377938\", \"3.9076116\", \"14.4993725\", \"-1.7996507\", \"3.5560033\", \"-1.5602826\", \"-2.4884565\", \"4.634955\", \"0.27894738\", \"0.27842224\", \"-0.85848105\", \"3.5559955\", \"4.0983033\", \"-2.8600807\", \"1.5455583\", \"2.280733\", \"2.2766724\", \"13.544367\", \"15.580133\", \"14.50061\", \"4.6352034\", \"14.288044\", \"12.791975\", \"14.509417\", \"2.0854418\", \"-1.9817816\", \"4.0978427\", \"14.509035\", \"14.512222\", \"-1.5602982\", \"14.24762\", \"-3.9572587\", \"0.27872273\", \"-1.7989373\", \"2.229195\", \"14.499193\", \"3.5560188\", \"-1.2434042\", \"2.2435408\", \"-1.8297879\", \"-1.0363259\", \"1.5431297\", \"15.712841\", \"-3.3570864\", \"14.499704\", \"1.6231726\", \"-1.1322317\", \"-1.5968271\", \"-1.1320984\", \"13.093935\", \"2.1919975\", \"15.712599\", \"15.576964\", \"14.5095\", \"14.509866\", \"14.51222\", \"-3.5705872\", \"12.791761\", \"-2.3165452\", \"1.6300453\", \"15.519719\", \"-2.859797\", \"1.8823991\", \"-1.7023903\", \"-1.1863407\", \"15.711934\", \"-0.80097455\", \"-1.9819953\", \"13.569566\", \"-5.3510127\", \"-1.4689611\", \"15.5774355\", \"15.71272\", \"-2.8597934\", \"3.5560153\", \"4.097788\", \"-1.7996382\", \"-1.1322305\", \"13.544357\", \"2.079207\", \"3.9193878\", \"-1.7994589\", \"13.780443\", \"-1.5966588\", \"3.1889212\", \"2.105301\", \"-2.6451387\", \"3.9193907\", \"15.579844\", \"-2.8614142\", \"-2.6457837\", \"4.0977654\", \"4.0981255\", \"-2.3165596\"], \"y\": [\"2.270479\", \"0.7814008\", \"0.3930716\", \"1.1579272\", \"2.049337\", \"1.2274812\", \"-6.0216413\", \"-6.628003\", \"-6.8984075\", \"2.3734534\", \"1.8928025\", \"-6.249582\", \"0.41275176\", \"4.8780546\", \"-6.991192\", \"0.2598763\", \"4.878053\", \"1.227729\", \"2.0827088\", \"1.1580755\", \"-6.678831\", \"-6.916071\", \"2.113729\", \"-6.002265\", \"0.7816417\", \"1.4985253\", \"2.112469\", \"4.968169\", \"-6.123091\", \"-6.0015507\", \"0.67017776\", \"1.4042448\", \"0.670205\", \"2.3778806\", \"-6.160851\", \"0.98077303\", \"0.9822986\", \"0.8209395\", \"2.0930083\", \"-6.68756\", \"2.3746455\", \"1.8915682\", \"-6.904742\", \"0.26005217\", \"-6.0230026\", \"0.70285463\", \"0.78139335\", \"0.41299218\", \"1.2274892\", \"-5.932694\", \"-6.1691384\", \"-6.6245112\", \"4.422149\", \"-6.1608305\", \"1.4985766\", \"1.4040722\", \"-7.250546\", \"2.1121733\", \"0.70321244\", \"-7.0446796\", \"1.4041281\", \"0.41628343\", \"-6.641212\", \"-6.249504\", \"-6.249532\", \"2.2265253\", \"-7.044657\", \"-6.9921236\", \"-5.9326844\", \"-6.4138217\", \"-6.7159805\", \"-6.731309\", \"4.9885387\", \"1.8937228\", \"2.1119952\", \"-6.6412077\", \"1.2274584\", \"1.4985883\", \"2.1981976\", \"-6.059136\", \"0.412733\", \"-6.9909773\", \"2.1997538\", \"4.151869\", \"1.404129\", \"4.422044\", \"-6.075692\", \"-6.2495694\", \"0.70192987\", \"-6.2848506\", \"2.1124737\", \"-7.0446963\", \"2.3756955\", \"-6.2959485\", \"-6.021616\", \"2.2699583\", \"-6.413437\", \"1.1586888\", \"0.39349088\", \"2.1124065\", \"-6.916061\", \"-6.169135\", \"-6.1238475\", \"-6.169128\", \"5.254055\", \"-6.23576\", \"1.1584284\", \"1.8910062\", \"2.1980155\", \"2.1952813\", \"4.151876\", \"-6.101143\", \"1.498524\", \"0.82099074\", \"-6.8732767\", \"2.270657\", \"-5.9326906\", \"-6.5091085\", \"0.9808119\", \"2.242202\", \"1.1577699\", \"2.0972981\", \"0.41289312\", \"1.025206\", \"-5.9179316\", \"1.2662225\", \"1.8913517\", \"1.1585433\", \"-5.9326987\", \"-7.044686\", \"-6.991224\", \"0.70316356\", \"-6.169135\", \"4.988542\", \"-6.0269713\", \"-6.160887\", \"0.7026956\", \"1.6326944\", \"-6.1230297\", \"-6.367813\", \"-6.0018086\", \"0.25918713\", \"-6.1608896\", \"1.8935176\", \"-5.9329724\", \"0.25976676\", \"-6.9911914\", \"-6.991313\", \"0.82091457\"], \"z\": [\"-8.024301\", \"-13.698899\", \"-14.010741\", \"-8.517125\", \"-13.378844\", \"-8.916499\", \"10.665839\", \"11.352304\", \"8.086499\", \"-13.213186\", \"-9.157798\", \"11.148836\", \"-12.251361\", \"-7.691864\", \"9.615673\", \"-13.235771\", \"-7.6918626\", \"-8.915821\", \"-13.176891\", \"-8.516919\", \"10.636839\", \"10.929786\", \"-13.464023\", \"9.351897\", \"-13.699323\", \"-8.903317\", \"-8.255296\", \"-7.7245755\", \"10.656654\", \"9.352465\", \"-7.6633415\", \"-6.8003936\", \"-7.6633496\", \"-13.20271\", \"10.249672\", \"-11.891548\", \"-11.892872\", \"-12.300889\", \"-13.169908\", \"11.185575\", \"-13.202569\", \"-9.159323\", \"8.471028\", \"-13.235784\", \"10.869009\", \"-13.141753\", \"-13.69888\", \"-12.2509575\", \"-8.916415\", \"9.940635\", \"10.8220825\", \"11.354722\", \"-7.627531\", \"10.24969\", \"-8.903059\", \"-6.8006554\", \"9.022108\", \"-8.255963\", \"-13.141914\", \"9.766208\", \"-11.522566\", \"-12.266836\", \"8.711493\", \"11.149213\", \"11.148718\", \"-13.065608\", \"9.766234\", \"9.616728\", \"9.940374\", \"10.723353\", \"11.200323\", \"11.164624\", \"-7.7295256\", \"-9.156725\", \"-8.25314\", \"8.711621\", \"-8.916512\", \"-8.903004\", \"-8.415404\", \"10.799793\", \"-12.25135\", \"9.615894\", \"-8.419895\", \"-7.609832\", \"-11.522545\", \"-7.627513\", \"8.893237\", \"11.1488695\", \"-13.140743\", \"11.337066\", \"-8.257012\", \"9.766157\", \"-13.199862\", \"11.32439\", \"10.665835\", \"-12.207392\", \"10.72438\", \"-8.515985\", \"-14.010676\", \"-8.256012\", \"10.929701\", \"10.822096\", \"10.657336\", \"10.821971\", \"-7.8752\", \"11.346583\", \"-8.51627\", \"-9.160081\", \"-8.414832\", \"-8.408021\", \"-7.6098237\", \"9.121039\", \"-8.903325\", \"-12.301151\", \"11.157665\", \"-8.023665\", \"9.940637\", \"10.579568\", \"-11.891372\", \"-13.444421\", \"-8.517286\", \"-13.160364\", \"-12.251158\", \"-8.546353\", \"8.14933\", \"-11.974878\", \"-9.159518\", \"-8.516109\", \"9.940631\", \"9.766171\", \"9.615727\", \"-13.141809\", \"10.822097\", \"-7.7295294\", \"10.85876\", \"10.249649\", \"-13.14148\", \"-9.212698\", \"10.657224\", \"10.531496\", \"11.016018\", \"-13.236607\", \"10.249642\", \"-9.156912\", \"9.941247\", \"-13.235377\", \"9.615663\", \"9.616173\", \"-12.301025\"]}, {\"hoverlabel\": {\"namelength\": 0}, \"hovertemplate\": \"label=sawing<br>train_test=train_real<br>x=%{x}<br>y=%{y}<br>z=%{z}\", \"legendgroup\": \"label=sawing, train_test=train_real\", \"marker\": {\"color\": \"#ab63fa\", \"symbol\": \"circle\"}, \"mode\": \"markers\", \"name\": \"label=sawing, train_test=train_real\", \"scene\": \"scene\", \"showlegend\": true, \"type\": \"scatter3d\", \"x\": [\"-7.338095\", \"-8.215318\", \"-5.298947\", \"-3.9502301\", \"6.5169406\", \"-5.441703\", \"-5.1150765\", \"-5.7926755\", \"-5.778842\", \"-10.370416\", \"-3.9770799\", \"8.179403\", \"-5.748427\", \"-4.9021115\", \"-5.249311\", \"-4.652079\", \"-5.8874617\", \"-5.84013\", \"-3.9766266\", \"6.612056\", \"-4.7114725\", \"-4.167786\", \"6.3054104\", \"-5.357331\", \"6.4156218\", \"-4.995258\", \"-10.095313\", \"-3.8973916\", \"5.5754633\", \"-6.1136\"], \"y\": [\"-13.840524\", \"-14.51635\", \"9.5557165\", \"-10.871569\", \"-6.572824\", \"8.395857\", \"-13.282222\", \"7.7493987\", \"10.282248\", \"-12.105196\", \"-11.001742\", \"-12.481279\", \"8.137851\", \"7.903495\", \"-13.22183\", \"11.782247\", \"7.4646792\", \"9.946229\", \"-10.9522505\", \"-7.200823\", \"6.8811965\", \"6.6935816\", \"-12.814545\", \"-12.941539\", \"-6.7980943\", \"7.7525473\", \"-14.742938\", \"-10.533288\", \"-11.920186\", \"8.239916\"], \"z\": [\"-3.839671\", \"-3.5270987\", \"5.3053427\", \"-6.6338835\", \"3.8264518\", \"3.2896647\", \"-5.6551948\", \"4.7273674\", \"7.2178955\", \"-5.7980185\", \"-6.638431\", \"0.8994893\", \"3.9539661\", \"2.8583026\", \"-5.81165\", \"10.323099\", \"4.495722\", \"7.2588773\", \"-6.6525617\", \"3.6021526\", \"3.5383637\", \"3.3264575\", \"0.4515317\", \"-6.198482\", \"3.399883\", \"3.0897672\", \"-3.102001\", \"-6.505757\", \"0.9316638\", \"4.684382\"]}, {\"hoverlabel\": {\"namelength\": 0}, \"hovertemplate\": \"label=sawing<br>train_test=test<br>x=%{x}<br>y=%{y}<br>z=%{z}\", \"legendgroup\": \"label=sawing, train_test=test\", \"marker\": {\"color\": \"#ab63fa\", \"symbol\": \"cross\"}, \"mode\": \"markers\", \"name\": \"label=sawing, train_test=test\", \"scene\": \"scene\", \"showlegend\": true, \"type\": \"scatter3d\", \"x\": [\"6.51841\", \"-5.575606\", \"5.5678716\", \"7.1068983\", \"-4.151843\", \"6.584385\", \"6.522503\", \"-3.8787434\", \"6.5055075\", \"-5.0054216\", \"-3.8988347\", \"6.0136814\", \"-5.281627\", \"-6.062806\", \"-5.3891063\", \"5.704501\", \"-4.8850274\", \"-5.7459636\", \"5.128958\", \"5.2692547\", \"-4.037843\", \"-5.329541\", \"-4.261911\", \"5.3921075\", \"6.585902\", \"5.8933372\", \"-3.8075151\", \"7.521195\", \"-5.602774\", \"6.758505\"], \"y\": [\"-6.8112717\", \"8.02955\", \"-12.329682\", \"-11.366855\", \"-11.961377\", \"-7.0797267\", \"-6.7346153\", \"-10.260969\", \"-6.6018972\", \"7.389917\", \"-10.768386\", \"-12.426561\", \"-13.291078\", \"8.345188\", \"-13.287967\", \"-12.524568\", \"7.7626824\", \"9.183251\", \"-12.207192\", \"-12.513459\", \"-10.980654\", \"-12.852614\", \"6.7554708\", \"-12.349963\", \"-7.1493783\", \"-7.923421\", \"5.677836\", \"-8.986518\", \"-13.053713\", \"-7.71755\"], \"z\": [\"3.6277714\", \"5.769341\", \"0.5729385\", \"1.1467181\", \"-6.4542203\", \"3.5971253\", \"3.8791556\", \"-6.3679132\", \"3.724626\", \"3.4615116\", \"-6.6325126\", \"0.19517702\", \"-5.7105436\", \"4.0075326\", \"-5.6918006\", \"0.3772977\", \"2.9611685\", \"9.148984\", \"0.6688629\", \"0.34960315\", \"-6.6512804\", \"-6.3244686\", \"3.3753865\", \"0.6273594\", \"3.5634313\", \"1.8280717\", \"6.4371166\", \"3.158128\", \"-6.0206876\", \"3.3646593\"]}, {\"hoverlabel\": {\"namelength\": 0}, \"hovertemplate\": \"label=sawing<br>train_test=train_synthetic<br>x=%{x}<br>y=%{y}<br>z=%{z}\", \"legendgroup\": \"label=sawing, train_test=train_synthetic\", \"marker\": {\"color\": \"#ab63fa\", \"symbol\": \"circle-open\"}, \"mode\": \"markers\", \"name\": \"label=sawing, train_test=train_synthetic\", \"scene\": \"scene\", \"showlegend\": true, \"type\": \"scatter3d\", \"x\": [\"-5.231515\", \"-4.6618834\", \"-4.5725718\", \"-9.5934305\", \"-5.2114115\", \"-4.956688\", \"-4.5769124\", \"-5.982534\", \"7.2546444\", \"-4.5705004\", \"-5.9822426\", \"6.592117\", \"-4.576561\", \"7.11624\", \"-4.636026\", \"-5.166617\", \"6.931207\", \"-4.6780095\", \"5.9326215\", \"-5.231482\", \"6.824323\", \"-7.680871\", \"7.258369\", \"-4.6465406\", \"-4.950534\", \"-9.015584\", \"-7.84655\", \"-7.680174\", \"7.103496\", \"-5.231515\", \"-4.8735294\", \"-5.83244\", \"-4.5692844\", \"-7.8471284\", \"-10.694493\", \"-9.59343\", \"-4.6197586\", \"-5.2788334\", \"-10.694453\", \"6.8864474\", \"-9.01479\", \"-9.230092\", \"-4.9522095\", \"-5.2315154\", \"-7.6808834\", \"-10.073\", \"-5.6033955\", \"-5.3959293\", \"6.602908\", \"-4.8766665\", \"-9.015335\", \"-8.905175\", \"-9.0154295\", \"-7.8480425\", \"-5.5446014\", \"6.5847254\", \"-5.4062905\", \"6.824282\", \"6.8247285\", \"-4.9492736\", \"-5.23148\", \"6.9778905\", \"6.5468545\", \"6.5681973\", \"-5.231515\", \"-10.0729265\", \"6.72027\", \"-5.5950994\", \"-5.395933\", \"-8.540004\", \"-5.2033744\", \"-4.982782\", \"-8.905735\", \"7.0459104\", \"7.2583575\", \"6.88683\", \"7.1609764\", \"-5.6523833\", \"-5.4085326\", \"7.207973\", \"7.2080274\", \"6.745605\", \"-4.948809\", \"6.8156815\", \"-5.5696096\", \"-7.8450665\", \"-4.6920233\", \"-5.5696144\", \"-5.6600437\", \"6.8108616\", \"-9.012894\", \"-9.230029\", \"-5.53581\", \"-5.23148\", \"-8.54022\", \"-5.62298\", \"6.769574\", \"-9.013938\", \"-3.550994\", \"-4.967777\", \"7.0799556\", \"-7.55307\", \"7.0630918\", \"-3.550918\", \"-6.0913167\", \"-5.3950715\", \"-5.271412\", \"-4.958574\", \"-8.540105\", \"-5.6349773\", \"7.2080355\", \"6.8865433\", \"-5.569075\", \"-4.9213147\", \"-7.6805644\", \"-5.6229806\", \"-4.9467487\", \"-7.553087\", \"-4.7992196\", \"-5.701524\", \"-7.6790867\", \"-5.3500986\", \"-5.345494\", \"-9.593374\", \"-5.5351686\", \"-7.8451343\", \"7.162331\", \"-5.458638\", \"-6.45295\", \"6.726293\", \"-5.595319\", \"-5.640815\", \"-8.539826\", \"-5.3178043\", \"-9.015489\", \"-8.540152\", \"5.9325995\", \"-5.411254\", \"-10.07319\", \"-5.2921863\", \"-7.679859\", \"-9.603786\", \"-4.9584994\", \"-10.073053\", \"-4.3576503\", \"-8.540417\", \"-9.012665\", \"-10.073069\", \"7.25839\", \"6.59304\", \"-7.5530696\", \"-4.6899137\", \"-7.844117\", \"-5.218225\", \"7.252229\"], \"y\": [\"9.124408\", \"11.272688\", \"6.295734\", \"-12.153884\", \"8.832314\", \"6.64542\", \"5.4881477\", \"-12.776476\", \"-9.909079\", \"6.292277\", \"-12.776561\", \"-8.675239\", \"5.4880905\", \"-10.047282\", \"11.246022\", \"11.372733\", \"-12.44668\", \"10.349315\", \"-12.263367\", \"9.124341\", \"-12.428611\", \"-13.092321\", \"-11.903691\", \"10.566861\", \"5.8363185\", \"-13.353661\", \"-13.5288105\", \"-13.092543\", \"-9.779054\", \"9.124384\", \"6.2655454\", \"-12.131466\", \"6.2889524\", \"-13.529301\", \"-13.234234\", \"-12.153898\", \"10.88933\", \"11.023762\", \"-13.233636\", \"-12.179029\", \"-13.352051\", \"-11.8421335\", \"6.66155\", \"9.124399\", \"-13.092283\", \"-13.431682\", \"-11.806904\", \"-11.790764\", \"-9.162936\", \"10.800774\", \"-13.353617\", \"-14.632332\", \"-13.35366\", \"-13.529573\", \"10.548271\", \"-9.852784\", \"10.349095\", \"-12.429973\", \"-12.42793\", \"6.1560407\", \"9.124389\", \"-8.921762\", \"-9.92713\", \"-9.986747\", \"9.124386\", \"-13.431686\", \"-9.196063\", \"6.0750732\", \"-11.790765\", \"-12.347941\", \"10.923288\", \"10.214587\", \"-14.63234\", \"-8.93435\", \"-11.90379\", \"-12.178763\", \"-9.034846\", \"9.2396965\", \"6.259851\", \"-12.039721\", \"-12.039464\", \"-9.199623\", \"5.838199\", \"-10.085406\", \"-13.09312\", \"-13.529205\", \"10.320847\", \"-13.093116\", \"7.602205\", \"-9.757573\", \"-13.346196\", \"-11.842117\", \"10.662283\", \"9.1243515\", \"-12.348126\", \"9.28354\", \"-9.766122\", \"-13.348095\", \"5.662439\", \"6.623141\", \"-9.773088\", \"-14.052058\", \"-10.064236\", \"5.663462\", \"-12.856133\", \"-11.791055\", \"10.932715\", \"10.217006\", \"-12.348177\", \"6.522052\", \"-12.039487\", \"-12.179007\", \"9.268069\", \"10.820363\", \"-13.09243\", \"9.283536\", \"5.8368554\", \"-14.052067\", \"10.818328\", \"6.236995\", \"-13.092759\", \"10.313254\", \"6.3014646\", \"-12.15389\", \"10.664561\", \"-13.529203\", \"-9.04629\", \"6.6832266\", \"-12.718228\", \"-10.071293\", \"6.0751085\", \"6.511781\", \"-12.3476925\", \"6.7754674\", \"-13.3537035\", \"-12.347974\", \"-12.263257\", \"6.2583294\", \"-13.4318695\", \"10.927125\", \"-13.092666\", \"-14.704138\", \"6.7837567\", \"-13.431877\", \"5.2179403\", \"-12.348219\", \"-13.347023\", \"-13.432126\", \"-11.903837\", \"-8.674666\", \"-14.052058\", \"10.642611\", \"-13.527301\", \"11.337422\", \"-9.919205\"], \"z\": [\"7.7803326\", \"9.337147\", \"6.352846\", \"-5.8531337\", \"7.267646\", \"5.655343\", \"5.359372\", \"-6.8370523\", \"1.8740333\", \"6.3482337\", \"-6.8368554\", \"2.3710394\", \"5.358605\", \"2.1337194\", \"9.35507\", \"9.398064\", \"0.6742436\", \"9.032185\", \"0.7752175\", \"7.7802067\", \"0.98099816\", \"-4.541845\", \"0.7889738\", \"8.799544\", \"6.384446\", \"-3.9608724\", \"-4.898677\", \"-4.5422997\", \"1.6280805\", \"7.780312\", \"6.620716\", \"-6.8565874\", \"6.34335\", \"-4.8986044\", \"-4.1033525\", \"-5.8531275\", \"9.682078\", \"9.735095\", \"-4.103777\", \"0.49128032\", \"-3.9589632\", \"-5.838159\", \"5.669778\", \"7.7803254\", \"-4.5420237\", \"-3.8331995\", \"-7.0074315\", \"-6.984415\", \"2.4942698\", \"8.628947\", \"-3.9608452\", \"-3.232794\", \"-3.9608102\", \"-4.898603\", \"9.019475\", \"1.7538851\", \"9.213017\", \"0.98036444\", \"0.9808765\", \"6.623921\", \"7.78025\", \"2.097278\", \"1.8872129\", \"1.9952517\", \"7.7803183\", \"-3.8331864\", \"2.587921\", \"5.792802\", \"-6.984415\", \"-5.6232123\", \"9.801461\", \"9.255143\", \"-3.2329378\", \"2.133494\", \"0.7892519\", \"0.49098006\", \"2.3393242\", \"5.846603\", \"5.5301967\", \"1.1001967\", \"1.0998578\", \"2.598604\", \"6.382961\", \"2.1903121\", \"-6.8225093\", \"-4.8982787\", \"9.058645\", \"-6.822496\", \"5.3289585\", \"1.5856025\", \"-3.9535093\", \"-5.838184\", \"8.913272\", \"7.780221\", \"-5.6241302\", \"5.6230903\", \"1.5986911\", \"-3.9554515\", \"4.8107285\", \"5.6330924\", \"1.6148896\", \"-4.080399\", \"2.1609406\", \"4.8106728\", \"-6.723608\", \"-6.9844227\", \"8.650832\", \"9.247556\", \"-5.6241\", \"6.12793\", \"1.0998702\", \"0.4909933\", \"5.4045124\", \"8.621348\", \"-4.542032\", \"5.623086\", \"6.3829675\", \"-4.080416\", \"9.794152\", \"6.0015073\", \"-4.5446577\", \"9.249172\", \"5.5048914\", \"-5.8531284\", \"8.911238\", \"-4.898271\", \"2.3608594\", \"6.1483545\", \"-6.3498425\", \"2.1594083\", \"5.7931695\", \"6.123541\", \"-5.6232224\", \"6.102731\", \"-3.9608293\", \"-5.6238213\", \"0.7751442\", \"5.5315595\", \"-3.8330667\", \"8.659834\", \"-4.5426517\", \"-3.1214008\", \"5.827968\", \"-3.8330414\", \"5.063879\", \"-5.6233335\", \"-3.9529917\", \"-3.8328524\", \"0.78924775\", \"2.370696\", \"-4.080397\", \"8.726226\", \"-4.899248\", \"9.442263\", \"1.8905072\"]}],\n",
       "                        {\"height\": 600, \"legend\": {\"tracegroupgap\": 0}, \"scene\": {\"domain\": {\"x\": [0.0, 0.98], \"y\": [0.0, 1.0]}, \"xaxis\": {\"title\": {\"text\": \"x\"}}, \"yaxis\": {\"title\": {\"text\": \"y\"}}, \"zaxis\": {\"title\": {\"text\": \"z\"}}}, \"template\": {\"data\": {\"bar\": [{\"error_x\": {\"color\": \"#2a3f5f\"}, \"error_y\": {\"color\": \"#2a3f5f\"}, \"marker\": {\"line\": {\"color\": \"#E5ECF6\", \"width\": 0.5}}, \"type\": \"bar\"}], \"barpolar\": [{\"marker\": {\"line\": {\"color\": \"#E5ECF6\", \"width\": 0.5}}, \"type\": \"barpolar\"}], \"carpet\": [{\"aaxis\": {\"endlinecolor\": \"#2a3f5f\", \"gridcolor\": \"white\", \"linecolor\": \"white\", \"minorgridcolor\": \"white\", \"startlinecolor\": \"#2a3f5f\"}, \"baxis\": {\"endlinecolor\": \"#2a3f5f\", \"gridcolor\": \"white\", \"linecolor\": \"white\", \"minorgridcolor\": \"white\", \"startlinecolor\": \"#2a3f5f\"}, \"type\": \"carpet\"}], \"choropleth\": [{\"colorbar\": {\"outlinewidth\": 0, \"ticks\": \"\"}, \"type\": \"choropleth\"}], \"contour\": [{\"colorbar\": {\"outlinewidth\": 0, \"ticks\": \"\"}, \"colorscale\": [[0.0, \"#0d0887\"], [0.1111111111111111, \"#46039f\"], [0.2222222222222222, \"#7201a8\"], [0.3333333333333333, \"#9c179e\"], [0.4444444444444444, \"#bd3786\"], [0.5555555555555556, \"#d8576b\"], [0.6666666666666666, \"#ed7953\"], [0.7777777777777778, \"#fb9f3a\"], [0.8888888888888888, \"#fdca26\"], [1.0, \"#f0f921\"]], \"type\": \"contour\"}], \"contourcarpet\": [{\"colorbar\": {\"outlinewidth\": 0, \"ticks\": \"\"}, \"type\": \"contourcarpet\"}], \"heatmap\": [{\"colorbar\": {\"outlinewidth\": 0, \"ticks\": \"\"}, \"colorscale\": [[0.0, \"#0d0887\"], [0.1111111111111111, \"#46039f\"], [0.2222222222222222, \"#7201a8\"], [0.3333333333333333, \"#9c179e\"], [0.4444444444444444, \"#bd3786\"], [0.5555555555555556, \"#d8576b\"], [0.6666666666666666, \"#ed7953\"], [0.7777777777777778, \"#fb9f3a\"], [0.8888888888888888, \"#fdca26\"], [1.0, \"#f0f921\"]], \"type\": \"heatmap\"}], \"heatmapgl\": [{\"colorbar\": {\"outlinewidth\": 0, \"ticks\": \"\"}, \"colorscale\": [[0.0, \"#0d0887\"], [0.1111111111111111, \"#46039f\"], [0.2222222222222222, \"#7201a8\"], [0.3333333333333333, \"#9c179e\"], [0.4444444444444444, \"#bd3786\"], [0.5555555555555556, \"#d8576b\"], [0.6666666666666666, \"#ed7953\"], [0.7777777777777778, \"#fb9f3a\"], [0.8888888888888888, \"#fdca26\"], [1.0, \"#f0f921\"]], \"type\": \"heatmapgl\"}], \"histogram\": [{\"marker\": {\"colorbar\": {\"outlinewidth\": 0, \"ticks\": \"\"}}, \"type\": \"histogram\"}], \"histogram2d\": [{\"colorbar\": {\"outlinewidth\": 0, \"ticks\": \"\"}, \"colorscale\": [[0.0, \"#0d0887\"], [0.1111111111111111, \"#46039f\"], [0.2222222222222222, \"#7201a8\"], [0.3333333333333333, \"#9c179e\"], [0.4444444444444444, \"#bd3786\"], [0.5555555555555556, \"#d8576b\"], [0.6666666666666666, \"#ed7953\"], [0.7777777777777778, \"#fb9f3a\"], [0.8888888888888888, \"#fdca26\"], [1.0, \"#f0f921\"]], \"type\": \"histogram2d\"}], \"histogram2dcontour\": [{\"colorbar\": {\"outlinewidth\": 0, \"ticks\": \"\"}, \"colorscale\": [[0.0, \"#0d0887\"], [0.1111111111111111, \"#46039f\"], [0.2222222222222222, \"#7201a8\"], [0.3333333333333333, \"#9c179e\"], [0.4444444444444444, \"#bd3786\"], [0.5555555555555556, \"#d8576b\"], [0.6666666666666666, \"#ed7953\"], [0.7777777777777778, \"#fb9f3a\"], [0.8888888888888888, \"#fdca26\"], [1.0, \"#f0f921\"]], \"type\": \"histogram2dcontour\"}], \"mesh3d\": [{\"colorbar\": {\"outlinewidth\": 0, \"ticks\": \"\"}, \"type\": \"mesh3d\"}], \"parcoords\": [{\"line\": {\"colorbar\": {\"outlinewidth\": 0, \"ticks\": \"\"}}, \"type\": \"parcoords\"}], \"scatter\": [{\"marker\": {\"colorbar\": {\"outlinewidth\": 0, \"ticks\": \"\"}}, \"type\": \"scatter\"}], \"scatter3d\": [{\"line\": {\"colorbar\": {\"outlinewidth\": 0, \"ticks\": \"\"}}, \"marker\": {\"colorbar\": {\"outlinewidth\": 0, \"ticks\": \"\"}}, \"type\": \"scatter3d\"}], \"scattercarpet\": [{\"marker\": {\"colorbar\": {\"outlinewidth\": 0, \"ticks\": \"\"}}, \"type\": \"scattercarpet\"}], \"scattergeo\": [{\"marker\": {\"colorbar\": {\"outlinewidth\": 0, \"ticks\": \"\"}}, \"type\": \"scattergeo\"}], \"scattergl\": [{\"marker\": {\"colorbar\": {\"outlinewidth\": 0, \"ticks\": \"\"}}, \"type\": \"scattergl\"}], \"scattermapbox\": [{\"marker\": {\"colorbar\": {\"outlinewidth\": 0, \"ticks\": \"\"}}, \"type\": \"scattermapbox\"}], \"scatterpolar\": [{\"marker\": {\"colorbar\": {\"outlinewidth\": 0, \"ticks\": \"\"}}, \"type\": \"scatterpolar\"}], \"scatterpolargl\": [{\"marker\": {\"colorbar\": {\"outlinewidth\": 0, \"ticks\": \"\"}}, \"type\": \"scatterpolargl\"}], \"scatterternary\": [{\"marker\": {\"colorbar\": {\"outlinewidth\": 0, \"ticks\": \"\"}}, \"type\": \"scatterternary\"}], \"surface\": [{\"colorbar\": {\"outlinewidth\": 0, \"ticks\": \"\"}, \"colorscale\": [[0.0, \"#0d0887\"], [0.1111111111111111, \"#46039f\"], [0.2222222222222222, \"#7201a8\"], [0.3333333333333333, \"#9c179e\"], [0.4444444444444444, \"#bd3786\"], [0.5555555555555556, \"#d8576b\"], [0.6666666666666666, \"#ed7953\"], [0.7777777777777778, \"#fb9f3a\"], [0.8888888888888888, \"#fdca26\"], [1.0, \"#f0f921\"]], \"type\": \"surface\"}], \"table\": [{\"cells\": {\"fill\": {\"color\": \"#EBF0F8\"}, \"line\": {\"color\": \"white\"}}, \"header\": {\"fill\": {\"color\": \"#C8D4E3\"}, \"line\": {\"color\": \"white\"}}, \"type\": \"table\"}]}, \"layout\": {\"annotationdefaults\": {\"arrowcolor\": \"#2a3f5f\", \"arrowhead\": 0, \"arrowwidth\": 1}, \"colorscale\": {\"diverging\": [[0, \"#8e0152\"], [0.1, \"#c51b7d\"], [0.2, \"#de77ae\"], [0.3, \"#f1b6da\"], [0.4, \"#fde0ef\"], [0.5, \"#f7f7f7\"], [0.6, \"#e6f5d0\"], [0.7, \"#b8e186\"], [0.8, \"#7fbc41\"], [0.9, \"#4d9221\"], [1, \"#276419\"]], \"sequential\": [[0.0, \"#0d0887\"], [0.1111111111111111, \"#46039f\"], [0.2222222222222222, \"#7201a8\"], [0.3333333333333333, \"#9c179e\"], [0.4444444444444444, \"#bd3786\"], [0.5555555555555556, \"#d8576b\"], [0.6666666666666666, \"#ed7953\"], [0.7777777777777778, \"#fb9f3a\"], [0.8888888888888888, \"#fdca26\"], [1.0, \"#f0f921\"]], \"sequentialminus\": [[0.0, \"#0d0887\"], [0.1111111111111111, \"#46039f\"], [0.2222222222222222, \"#7201a8\"], [0.3333333333333333, \"#9c179e\"], [0.4444444444444444, \"#bd3786\"], [0.5555555555555556, \"#d8576b\"], [0.6666666666666666, \"#ed7953\"], [0.7777777777777778, \"#fb9f3a\"], [0.8888888888888888, \"#fdca26\"], [1.0, \"#f0f921\"]]}, \"colorway\": [\"#636efa\", \"#EF553B\", \"#00cc96\", \"#ab63fa\", \"#FFA15A\", \"#19d3f3\", \"#FF6692\", \"#B6E880\", \"#FF97FF\", \"#FECB52\"], \"font\": {\"color\": \"#2a3f5f\"}, \"geo\": {\"bgcolor\": \"white\", \"lakecolor\": \"white\", \"landcolor\": \"#E5ECF6\", \"showlakes\": true, \"showland\": true, \"subunitcolor\": \"white\"}, \"hoverlabel\": {\"align\": \"left\"}, \"hovermode\": \"closest\", \"mapbox\": {\"style\": \"light\"}, \"paper_bgcolor\": \"white\", \"plot_bgcolor\": \"#E5ECF6\", \"polar\": {\"angularaxis\": {\"gridcolor\": \"white\", \"linecolor\": \"white\", \"ticks\": \"\"}, \"bgcolor\": \"#E5ECF6\", \"radialaxis\": {\"gridcolor\": \"white\", \"linecolor\": \"white\", \"ticks\": \"\"}}, \"scene\": {\"xaxis\": {\"backgroundcolor\": \"#E5ECF6\", \"gridcolor\": \"white\", \"gridwidth\": 2, \"linecolor\": \"white\", \"showbackground\": true, \"ticks\": \"\", \"zerolinecolor\": \"white\"}, \"yaxis\": {\"backgroundcolor\": \"#E5ECF6\", \"gridcolor\": \"white\", \"gridwidth\": 2, \"linecolor\": \"white\", \"showbackground\": true, \"ticks\": \"\", \"zerolinecolor\": \"white\"}, \"zaxis\": {\"backgroundcolor\": \"#E5ECF6\", \"gridcolor\": \"white\", \"gridwidth\": 2, \"linecolor\": \"white\", \"showbackground\": true, \"ticks\": \"\", \"zerolinecolor\": \"white\"}}, \"shapedefaults\": {\"line\": {\"color\": \"#2a3f5f\"}}, \"ternary\": {\"aaxis\": {\"gridcolor\": \"white\", \"linecolor\": \"white\", \"ticks\": \"\"}, \"baxis\": {\"gridcolor\": \"white\", \"linecolor\": \"white\", \"ticks\": \"\"}, \"bgcolor\": \"#E5ECF6\", \"caxis\": {\"gridcolor\": \"white\", \"linecolor\": \"white\", \"ticks\": \"\"}}, \"title\": {\"x\": 0.05}, \"xaxis\": {\"automargin\": true, \"gridcolor\": \"white\", \"linecolor\": \"white\", \"ticks\": \"\", \"zerolinecolor\": \"white\", \"zerolinewidth\": 2}, \"yaxis\": {\"automargin\": true, \"gridcolor\": \"white\", \"linecolor\": \"white\", \"ticks\": \"\", \"zerolinecolor\": \"white\", \"zerolinewidth\": 2}}}, \"title\": {\"text\": \"Epilepsy\"}},\n",
       "                        {\"responsive\": true}\n",
       "                    ).then(function(){\n",
       "                            \n",
       "var gd = document.getElementById('34be2036-0dbd-4b60-9689-309a52b7cc27');\n",
       "var x = new MutationObserver(function (mutations, observer) {{\n",
       "        var display = window.getComputedStyle(gd).display;\n",
       "        if (!display || display === 'none') {{\n",
       "            console.log([gd, 'removed!']);\n",
       "            Plotly.purge(gd);\n",
       "            observer.disconnect();\n",
       "        }}\n",
       "}});\n",
       "\n",
       "// Listen for the removal of the full notebook cells\n",
       "var notebookContainer = gd.closest('#notebook-container');\n",
       "if (notebookContainer) {{\n",
       "    x.observe(notebookContainer, {childList: true});\n",
       "}}\n",
       "\n",
       "// Listen for the clearing of the current output cell\n",
       "var outputEl = gd.closest('.output');\n",
       "if (outputEl) {{\n",
       "    x.observe(outputEl, {childList: true});\n",
       "}}\n",
       "\n",
       "                        })\n",
       "                };\n",
       "                });\n",
       "            </script>\n",
       "        </div>"
      ]
     },
     "metadata": {},
     "output_type": "display_data"
    },
    {
     "name": "stdout",
     "output_type": "stream",
     "text": [
      "Time (s): 18.328125\n",
      "-----------\n"
     ]
    },
    {
     "data": {
      "text/plain": [
       "<Figure size 432x288 with 0 Axes>"
      ]
     },
     "metadata": {},
     "output_type": "display_data"
    },
    {
     "data": {
      "text/plain": [
       "<Figure size 432x288 with 0 Axes>"
      ]
     },
     "metadata": {},
     "output_type": "display_data"
    },
    {
     "data": {
      "text/plain": [
       "<Figure size 432x288 with 0 Axes>"
      ]
     },
     "metadata": {},
     "output_type": "display_data"
    },
    {
     "data": {
      "text/plain": [
       "<Figure size 432x288 with 0 Axes>"
      ]
     },
     "metadata": {},
     "output_type": "display_data"
    }
   ],
   "source": [
    "figs = {}\n",
    "for dataset_name in ['AtrialFibrillation', 'Epilepsy']:\n",
    "    if dataset_name in large_datasets + irregular_datasets:\n",
    "        continue\n",
    "    num_synthetic_ts = 1000\n",
    "    dba_iters = 5\n",
    "    limit_N = False\n",
    "\n",
    "    print(\"-----------\")\n",
    "    start = time.process_time()\n",
    "    print(dataset_name)\n",
    "    train_x, train_y = load_from_tsfile_to_dataframe(\"../data/%s/%s_TRAIN.ts\" % (dataset_name, dataset_name)) \n",
    "    test_x, test_y = load_from_tsfile_to_dataframe(\"../data/%s/%s_TEST.ts\" % (dataset_name, dataset_name))\n",
    "    \n",
    "    train_x = ts_df_to_arrays(train_x, swapaxes=True)       \n",
    "    test_x = ts_df_to_arrays(test_x, swapaxes=True)\n",
    "    \n",
    "    num_replicates = train_x.shape[0]\n",
    "    print(\"# replicates: %d\" % (num_replicates))\n",
    "    num_dimensions = train_x.shape[2]\n",
    "    print(\"# dimensions: %d\" % (num_dimensions))\n",
    "    len_series = train_x.shape[1]\n",
    "    print(\"length of series: %d\" % (len_series))\n",
    "    num_classes = len(np.unique(train_y))\n",
    "    print(\"# classes: %d\" % (num_classes))\n",
    "    total_size = num_replicates*num_dimensions*len_series\n",
    "    print(\"total 'size': %d\" % (total_size))\n",
    "\n",
    "    synthetic_x_train = pickle.load(open(\"../syntheticdata/%s_softdtw_synthetic_x_train_%d_%d_%s.pkl\" % (dataset_name, num_synthetic_ts, dba_iters, str(limit_N)), 'rb'))\n",
    "    synthetic_y_train = pickle.load(open(\"../syntheticdata/%s_softdtw_synthetic_y_train_%d_%d_%s.pkl\" % (dataset_name, num_synthetic_ts, dba_iters, str(limit_N)), 'rb'))\n",
    "    \n",
    "    augmentation_degree = -1\n",
    "    fig = plot_softdtw_tsne_3d(dataset_name, train_x, test_x, [], train_y, test_y, [], dtw_distance_matrices, augmentation_degree)\n",
    "    figs[\"%s_%f\" % (dataset_name, augmentation_degree)] = fig\n",
    "    \n",
    "    # loop over desired augmentation degrees\n",
    "    for augmentation_degree in [4.0]:\n",
    "        print(\"Augmentation degree: %f\" % augmentation_degree)\n",
    "\n",
    "        # find highest represented class, save this number\n",
    "        labels, counts = np.unique(train_y, return_counts=True)\n",
    "        max_counts = np.max(counts)\n",
    "        # find the number of synthetic examples you need to add to balance\n",
    "        balance_counts = max_counts - counts\n",
    "        # loop over all labels\n",
    "        synthetic_samples = []\n",
    "        synthetic_labels = []\n",
    "        for label, balance_count in zip(labels, balance_counts):\n",
    "            synthetic_data = synthetic_x_train[synthetic_y_train == label]\n",
    "\n",
    "            # compute the number of synthetic samples to choose based on balance_count and augmentation_degree\n",
    "            samples_to_draw = balance_count + int(augmentation_degree * max_counts)\n",
    "\n",
    "            # randomly sample the synthetic data\n",
    "            indices = np.arange(len(synthetic_data))\n",
    "            random_indices = np.random.choice(indices, size=samples_to_draw, replace=False)\n",
    "            random_synthetic_samples = synthetic_data[random_indices]\n",
    "\n",
    "            # add synthetic samples for this label\n",
    "            synthetic_samples += list(random_synthetic_samples)\n",
    "            synthetic_labels += [label]*samples_to_draw\n",
    "\n",
    "        # augment training set with all synthetic samples\n",
    "        augmented_train_x = np.array(list(train_x) + list(synthetic_samples))\n",
    "        augmented_train_y = np.array(list(train_y) + list(synthetic_labels))\n",
    "        \n",
    "        fig = plot_softdtw_tsne_3d(dataset_name, train_x, test_x, synthetic_samples, train_y, test_y, synthetic_labels, dtw_distance_matrices, augmentation_degree)\n",
    "        figs[\"%s_%f\" % (dataset_name, augmentation_degree)] = fig\n",
    "\n",
    "    print(\"Time (s): %f\" % (time.process_time() - start))\n",
    "    print(\"-----------\")"
   ]
  },
  {
   "cell_type": "code",
   "execution_count": 25,
   "metadata": {
    "ExecuteTime": {
     "end_time": "2019-09-11T17:02:30.583770Z",
     "start_time": "2019-09-11T17:02:30.565755Z"
    }
   },
   "outputs": [],
   "source": [
    "pickle.dump(figs, open(\"../results/tsne_figs.pkl\", 'wb'))"
   ]
  }
 ],
 "metadata": {
  "hide_input": false,
  "kernelspec": {
   "display_name": "finalproject",
   "language": "python",
   "name": "finalproject"
  },
  "language_info": {
   "codemirror_mode": {
    "name": "ipython",
    "version": 3
   },
   "file_extension": ".py",
   "mimetype": "text/x-python",
   "name": "python",
   "nbconvert_exporter": "python",
   "pygments_lexer": "ipython3",
   "version": "3.7.4"
  },
  "toc": {
   "base_numbering": 1,
   "nav_menu": {},
   "number_sections": true,
   "sideBar": true,
   "skip_h1_title": false,
   "title_cell": "Table of Contents",
   "title_sidebar": "Contents",
   "toc_cell": false,
   "toc_position": {},
   "toc_section_display": true,
   "toc_window_display": false
  },
  "varInspector": {
   "cols": {
    "lenName": 16,
    "lenType": 16,
    "lenVar": 40
   },
   "kernels_config": {
    "python": {
     "delete_cmd_postfix": "",
     "delete_cmd_prefix": "del ",
     "library": "var_list.py",
     "varRefreshCmd": "print(var_dic_list())"
    },
    "r": {
     "delete_cmd_postfix": ") ",
     "delete_cmd_prefix": "rm(",
     "library": "var_list.r",
     "varRefreshCmd": "cat(var_dic_list()) "
    }
   },
   "types_to_exclude": [
    "module",
    "function",
    "builtin_function_or_method",
    "instance",
    "_Feature"
   ],
   "window_display": false
  }
 },
 "nbformat": 4,
 "nbformat_minor": 2
}
